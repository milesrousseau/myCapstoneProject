{
 "cells": [
  {
   "cell_type": "markdown",
   "id": "4daf7db5",
   "metadata": {},
   "source": [
    "### Capstone Project – FIFA World Cup 2018 Twitter Analysis\n",
    "\n",
    "Miles Rousseau\n",
    "Submission date: 11/7/22"
   ]
  },
  {
   "attachments": {},
   "cell_type": "markdown",
   "id": "5a6d2159",
   "metadata": {},
   "source": [
    "Introduction:\n",
    "The FIFA World Cup is one of the most watched sporting events in the world, and millions of fans worldwide chime in on Twitter to voice their opinions on the proceedings. With the next world cup approaching this November, I will be looking into what fans on Twitter had to say about the last installment of the World Cup in 2018.\n",
    "The goal of this analysis is to gain insights about the likes and dislikes fans expressed on Twitter in order to create suggestions that FIFA can use to further improve the fan experience.\n",
    "\n",
    "I downloaded my dataset from this Kaggle upload: https://www.kaggle.com/datasets/rgupta09/world-cup-2018-tweets\n",
    "The data is a collection of 530K tweets starting from the Round of 16 until the Final, 6/29/22 until 7/15/22.\n",
    "The dataset uploader used Tweepy API to collect tweets.\n",
    "Additionally, the dataset had been pre-processed to only include English language tweets and had been cleaned of all non-language elements, such as website names, special characters, retweets, user mentions and hastags. "
   ]
  },
  {
   "cell_type": "markdown",
   "id": "68a03fe3",
   "metadata": {},
   "source": [
    "The main data of interest is the actual tweet string. This has been pre-processed to only contain a string of English language words that will be encoded into individual columns. Each word column measures how many times the word appeared in the tweet. Additionally, there is a column containing the hashtags and mentions used in the tweet.\n",
    "Then there are four numerical columns containing data on how many retweets, the number of characters in the tweet, the number of likes the tweet got and the number of followers the ‘tweeter’ had when making the tweet.\n",
    "There is also a column containing the datetime of the tweet, a column containing the location where the tweet was posted, a column containing the device used to tweet\n",
    "Finally, there will be a column for tweet sentiment.\n"
   ]
  },
  {
   "cell_type": "markdown",
   "id": "9f81e233",
   "metadata": {},
   "source": [
    "This notebook will accomplish some of the tweet analysis and visualization, it will be sumplemented by work done in tableau in order to paint the full picture of what the fans thought about various topics and themes in the fifa world cup 2018."
   ]
  },
  {
   "cell_type": "markdown",
   "id": "e9f6baa2",
   "metadata": {},
   "source": [
    "Table of contents:\n",
    "- EDA - cleaning data, inspecting data and initial exploration of data\n",
    "- Vadar sentiment analysis\n",
    "- Vectorizing tweets, hashtags and user mentions and seeing how they interact with sentiment\n",
    "- Basic topic modelling to look for interesting trends \n",
    "- In depth exploration of data on topics to be visualized on dashboard"
   ]
  },
  {
   "cell_type": "markdown",
   "id": "28e50183",
   "metadata": {},
   "source": [
    "### EDA "
   ]
  },
  {
   "cell_type": "code",
   "execution_count": 1,
   "id": "45c647b4",
   "metadata": {},
   "outputs": [],
   "source": [
    "#importing libraries \n",
    "\n",
    "import numpy as np\n",
    "import pandas as pd\n",
    "import matplotlib.pyplot as plt\n",
    "import seaborn as sns"
   ]
  },
  {
   "cell_type": "code",
   "execution_count": 2,
   "id": "36e6d732",
   "metadata": {},
   "outputs": [],
   "source": [
    "#Reading in initial csv file of all tweets \n",
    "fifa = pd.read_csv('fifa.csv')"
   ]
  },
  {
   "cell_type": "code",
   "execution_count": 3,
   "id": "eddca8b0",
   "metadata": {
    "scrolled": true
   },
   "outputs": [
    {
     "name": "stdout",
     "output_type": "stream",
     "text": [
      "<class 'pandas.core.frame.DataFrame'>\n",
      "RangeIndex: 530000 entries, 0 to 529999\n",
      "Data columns (total 16 columns):\n",
      " #   Column            Non-Null Count   Dtype \n",
      "---  ------            --------------   ----- \n",
      " 0   ID                530000 non-null  int64 \n",
      " 1   lang              530000 non-null  object\n",
      " 2   Date              530000 non-null  object\n",
      " 3   Source            530000 non-null  object\n",
      " 4   len               530000 non-null  int64 \n",
      " 5   Orig_Tweet        530000 non-null  object\n",
      " 6   Tweet             529449 non-null  object\n",
      " 7   Likes             530000 non-null  int64 \n",
      " 8   RTs               530000 non-null  int64 \n",
      " 9   Hashtags          468457 non-null  object\n",
      " 10  UserMentionNames  455841 non-null  object\n",
      " 11  UserMentionID     455841 non-null  object\n",
      " 12  Name              529945 non-null  object\n",
      " 13  Place             390710 non-null  object\n",
      " 14  Followers         530000 non-null  int64 \n",
      " 15  Friends           530000 non-null  int64 \n",
      "dtypes: int64(6), object(10)\n",
      "memory usage: 64.7+ MB\n"
     ]
    }
   ],
   "source": [
    "fifa.info()"
   ]
  },
  {
   "cell_type": "markdown",
   "id": "ff4b2209",
   "metadata": {},
   "source": [
    "530000 rows total, 16 columns"
   ]
  },
  {
   "cell_type": "code",
   "execution_count": 4,
   "id": "864ee03d",
   "metadata": {},
   "outputs": [
    {
     "data": {
      "text/html": [
       "<div>\n",
       "<style scoped>\n",
       "    .dataframe tbody tr th:only-of-type {\n",
       "        vertical-align: middle;\n",
       "    }\n",
       "\n",
       "    .dataframe tbody tr th {\n",
       "        vertical-align: top;\n",
       "    }\n",
       "\n",
       "    .dataframe thead th {\n",
       "        text-align: right;\n",
       "    }\n",
       "</style>\n",
       "<table border=\"1\" class=\"dataframe\">\n",
       "  <thead>\n",
       "    <tr style=\"text-align: right;\">\n",
       "      <th></th>\n",
       "      <th>ID</th>\n",
       "      <th>lang</th>\n",
       "      <th>Date</th>\n",
       "      <th>Source</th>\n",
       "      <th>len</th>\n",
       "      <th>Orig_Tweet</th>\n",
       "      <th>Tweet</th>\n",
       "      <th>Likes</th>\n",
       "      <th>RTs</th>\n",
       "      <th>Hashtags</th>\n",
       "      <th>UserMentionNames</th>\n",
       "      <th>UserMentionID</th>\n",
       "      <th>Name</th>\n",
       "      <th>Place</th>\n",
       "      <th>Followers</th>\n",
       "      <th>Friends</th>\n",
       "    </tr>\n",
       "  </thead>\n",
       "  <tbody>\n",
       "    <tr>\n",
       "      <th>0</th>\n",
       "      <td>1013597060640145408</td>\n",
       "      <td>en</td>\n",
       "      <td>2018-07-02 01:35:45</td>\n",
       "      <td>Twitter for Android</td>\n",
       "      <td>140</td>\n",
       "      <td>RT @Squawka: Only two goalkeepers have saved t...</td>\n",
       "      <td>Only two goalkeepers have saved three penaltie...</td>\n",
       "      <td>0</td>\n",
       "      <td>477</td>\n",
       "      <td>WorldCup,POR,ENG</td>\n",
       "      <td>Squawka Football</td>\n",
       "      <td>Squawka</td>\n",
       "      <td>Cayleb</td>\n",
       "      <td>Accra</td>\n",
       "      <td>861</td>\n",
       "      <td>828</td>\n",
       "    </tr>\n",
       "    <tr>\n",
       "      <th>1</th>\n",
       "      <td>1013597056219295744</td>\n",
       "      <td>en</td>\n",
       "      <td>2018-07-02 01:35:44</td>\n",
       "      <td>Twitter for Android</td>\n",
       "      <td>139</td>\n",
       "      <td>RT @FCBarcelona: ?? @ivanrakitic scores the wi...</td>\n",
       "      <td>scores the winning penalty to send into the qu...</td>\n",
       "      <td>0</td>\n",
       "      <td>1031</td>\n",
       "      <td>WorldCup</td>\n",
       "      <td>FC Barcelona,Ivan Rakitic,HNS | CFF</td>\n",
       "      <td>FCBarcelona,ivanrakitic,HNS_CFF</td>\n",
       "      <td>Febri Aditya</td>\n",
       "      <td>Bogor</td>\n",
       "      <td>667</td>\n",
       "      <td>686</td>\n",
       "    </tr>\n",
       "    <tr>\n",
       "      <th>2</th>\n",
       "      <td>1013597047482544130</td>\n",
       "      <td>en</td>\n",
       "      <td>2018-07-02 01:35:42</td>\n",
       "      <td>Twitter for Android</td>\n",
       "      <td>107</td>\n",
       "      <td>RT @javierfernandez: Tonight we have big game....</td>\n",
       "      <td>Tonight we have big game</td>\n",
       "      <td>0</td>\n",
       "      <td>488</td>\n",
       "      <td>worldcup</td>\n",
       "      <td>Javier Fernandez,Evgeni Plushenko</td>\n",
       "      <td>javierfernandez,EvgeniPlushenko</td>\n",
       "      <td>??</td>\n",
       "      <td>NaN</td>\n",
       "      <td>65</td>\n",
       "      <td>67</td>\n",
       "    </tr>\n",
       "    <tr>\n",
       "      <th>3</th>\n",
       "      <td>1013597044198391808</td>\n",
       "      <td>en</td>\n",
       "      <td>2018-07-02 01:35:41</td>\n",
       "      <td>Twitter Web Client</td>\n",
       "      <td>142</td>\n",
       "      <td>We get stronger\\r\\nTurn the music up now\\r\\nWe...</td>\n",
       "      <td>We get stronger Turn the music up now We got t...</td>\n",
       "      <td>0</td>\n",
       "      <td>0</td>\n",
       "      <td>PowerByEXO,WorldCup,FIFAStadiumDJ,XiuminLeague</td>\n",
       "      <td>EXO,FIFA World Cup ?</td>\n",
       "      <td>weareoneEXO,FIFAWorldCup</td>\n",
       "      <td>Frida Carrillo</td>\n",
       "      <td>Zapopan, Jalisco</td>\n",
       "      <td>17</td>\n",
       "      <td>89</td>\n",
       "    </tr>\n",
       "    <tr>\n",
       "      <th>4</th>\n",
       "      <td>1013597039999926272</td>\n",
       "      <td>en</td>\n",
       "      <td>2018-07-02 01:35:40</td>\n",
       "      <td>Twitter for Android</td>\n",
       "      <td>140</td>\n",
       "      <td>RT @Squawka: Only two goalkeepers have saved t...</td>\n",
       "      <td>Only two goalkeepers have saved three penaltie...</td>\n",
       "      <td>0</td>\n",
       "      <td>477</td>\n",
       "      <td>WorldCup,POR,ENG</td>\n",
       "      <td>Squawka Football</td>\n",
       "      <td>Squawka</td>\n",
       "      <td>tar</td>\n",
       "      <td>NaN</td>\n",
       "      <td>137</td>\n",
       "      <td>216</td>\n",
       "    </tr>\n",
       "  </tbody>\n",
       "</table>\n",
       "</div>"
      ],
      "text/plain": [
       "                    ID lang                 Date               Source  len  \\\n",
       "0  1013597060640145408   en  2018-07-02 01:35:45  Twitter for Android  140   \n",
       "1  1013597056219295744   en  2018-07-02 01:35:44  Twitter for Android  139   \n",
       "2  1013597047482544130   en  2018-07-02 01:35:42  Twitter for Android  107   \n",
       "3  1013597044198391808   en  2018-07-02 01:35:41   Twitter Web Client  142   \n",
       "4  1013597039999926272   en  2018-07-02 01:35:40  Twitter for Android  140   \n",
       "\n",
       "                                          Orig_Tweet  \\\n",
       "0  RT @Squawka: Only two goalkeepers have saved t...   \n",
       "1  RT @FCBarcelona: ?? @ivanrakitic scores the wi...   \n",
       "2  RT @javierfernandez: Tonight we have big game....   \n",
       "3  We get stronger\\r\\nTurn the music up now\\r\\nWe...   \n",
       "4  RT @Squawka: Only two goalkeepers have saved t...   \n",
       "\n",
       "                                               Tweet  Likes   RTs  \\\n",
       "0  Only two goalkeepers have saved three penaltie...      0   477   \n",
       "1  scores the winning penalty to send into the qu...      0  1031   \n",
       "2                           Tonight we have big game      0   488   \n",
       "3  We get stronger Turn the music up now We got t...      0     0   \n",
       "4  Only two goalkeepers have saved three penaltie...      0   477   \n",
       "\n",
       "                                         Hashtags  \\\n",
       "0                                WorldCup,POR,ENG   \n",
       "1                                        WorldCup   \n",
       "2                                        worldcup   \n",
       "3  PowerByEXO,WorldCup,FIFAStadiumDJ,XiuminLeague   \n",
       "4                                WorldCup,POR,ENG   \n",
       "\n",
       "                      UserMentionNames                    UserMentionID  \\\n",
       "0                     Squawka Football                          Squawka   \n",
       "1  FC Barcelona,Ivan Rakitic,HNS | CFF  FCBarcelona,ivanrakitic,HNS_CFF   \n",
       "2    Javier Fernandez,Evgeni Plushenko  javierfernandez,EvgeniPlushenko   \n",
       "3                 EXO,FIFA World Cup ?         weareoneEXO,FIFAWorldCup   \n",
       "4                     Squawka Football                          Squawka   \n",
       "\n",
       "             Name             Place  Followers  Friends  \n",
       "0          Cayleb             Accra        861      828  \n",
       "1    Febri Aditya             Bogor        667      686  \n",
       "2              ??               NaN         65       67  \n",
       "3  Frida Carrillo  Zapopan, Jalisco         17       89  \n",
       "4             tar               NaN        137      216  "
      ]
     },
     "execution_count": 4,
     "metadata": {},
     "output_type": "execute_result"
    }
   ],
   "source": [
    "fifa.head()"
   ]
  },
  {
   "cell_type": "code",
   "execution_count": 5,
   "id": "d35bfdb7",
   "metadata": {},
   "outputs": [
    {
     "data": {
      "text/plain": [
       "ID                                                1018377630754705408\n",
       "lang                                                               en\n",
       "Date                                              2018-07-15 06:12:02\n",
       "Source                                             Twitter for iPhone\n",
       "len                                                                85\n",
       "Orig_Tweet          RT @BleacherReport: One more sleep til the #Wo...\n",
       "Tweet                                    One more sleep til the final\n",
       "Likes                                                               0\n",
       "RTs                                                              1110\n",
       "Hashtags                                                     WorldCup\n",
       "UserMentionNames                                      Bleacher Report\n",
       "UserMentionID                                          BleacherReport\n",
       "Name                                                 Comeback kid #23\n",
       "Place                                                             NaN\n",
       "Followers                                                         535\n",
       "Friends                                                           635\n",
       "Name: 356000, dtype: object"
      ]
     },
     "execution_count": 5,
     "metadata": {},
     "output_type": "execute_result"
    }
   ],
   "source": [
    "fifa.iloc[356000]"
   ]
  },
  {
   "cell_type": "code",
   "execution_count": 6,
   "id": "d1767f30",
   "metadata": {},
   "outputs": [
    {
     "data": {
      "text/plain": [
       "ID                       0\n",
       "lang                     0\n",
       "Date                     0\n",
       "Source                   0\n",
       "len                      0\n",
       "Orig_Tweet               0\n",
       "Tweet                  551\n",
       "Likes                    0\n",
       "RTs                      0\n",
       "Hashtags             61543\n",
       "UserMentionNames     74159\n",
       "UserMentionID        74159\n",
       "Name                    55\n",
       "Place               139290\n",
       "Followers                0\n",
       "Friends                  0\n",
       "dtype: int64"
      ]
     },
     "execution_count": 6,
     "metadata": {},
     "output_type": "execute_result"
    }
   ],
   "source": [
    "#Looking at null rows\n",
    "fifa.isna().sum()"
   ]
  },
  {
   "cell_type": "code",
   "execution_count": 7,
   "id": "ead1be53",
   "metadata": {},
   "outputs": [
    {
     "data": {
      "text/plain": [
       "0         True\n",
       "1         True\n",
       "2         True\n",
       "3         True\n",
       "4         True\n",
       "          ... \n",
       "529995    True\n",
       "529996    True\n",
       "529997    True\n",
       "529998    True\n",
       "529999    True\n",
       "Name: Tweet, Length: 530000, dtype: bool"
      ]
     },
     "execution_count": 7,
     "metadata": {},
     "output_type": "execute_result"
    }
   ],
   "source": [
    "#Looking at tweets \n",
    "fifa['Tweet'].isna() == False"
   ]
  },
  {
   "cell_type": "code",
   "execution_count": 8,
   "id": "f07e3e37",
   "metadata": {
    "scrolled": true
   },
   "outputs": [
    {
     "name": "stdout",
     "output_type": "stream",
     "text": [
      "0              RT @Squawka: Only two goalkeepers have saved three penalties in a #WorldCup penalty shoot-out: \\r\\n\\r\\n1/7/2006: #POR's Ricardo vs. #ENG \\r\\n\\r\\n1/7/20…\n",
      "1                           RT @FCBarcelona: ?? @ivanrakitic scores the winning penalty to send @HNS_CFF into the #WorldCup quarter-finals, where they'll face Russia!…\n",
      "2                                                           RT @javierfernandez: Tonight we have big game.... @EvgeniPlushenko ?????? #worldcup https://t.co/LKifuNlubC\n",
      "3         We get stronger\\r\\nTurn the music up now\\r\\nWe got that power power~\\r\\n\\r\\n#PowerByEXO #WorldCup #FIFAStadiumDJ #XiuminLeague \\r\\n@weareoneEXO @FIFAWorldCup\n",
      "4              RT @Squawka: Only two goalkeepers have saved three penalties in a #WorldCup penalty shoot-out: \\r\\n\\r\\n1/7/2006: #POR's Ricardo vs. #ENG \\r\\n\\r\\n1/7/20…\n",
      "                                                                                      ...                                                                              \n",
      "529995               RT @FIFAWorldCup: ????\\r\\n#FRA\\r\\n\\r\\nFrance have won the 2018 FIFA #WorldCup in Moscow! \\r\\n\\r\\n#FRACRO // #WorldCupFinal https://t.co/fZhmJmxjVh\n",
      "529996                 RT @BeyLegion: Beyoncé &amp; JAY-Z performed in a blue jersey to celebrate France's #WorldCup win today. #OTRII #Paris #Round2 https://t.co/UXj…\n",
      "529997                     RT @KhaledBeydoun: They don’t say “immigrants are ruining France” when they’re taking political credit for #WorldCup glory. https://t.co/hT…\n",
      "529998                                                                    RT @ManUtd: .@PaulPogba starts for #FRA in today's #WorldCup final! ? https://t.co/jtz1eYuDi5\n",
      "529999         RT @KhaledBeydoun: Dear France, \\r\\n\\r\\nCongratulations on winning the #WorldCup. \\r\\n\\r\\n80% of your team is African, cut out the racism and xenophobi…\n",
      "Name: Orig_Tweet, Length: 530000, dtype: object\n"
     ]
    }
   ],
   "source": [
    "#Looking at original tweets column\n",
    "pd.set_option('display.max_colwidth', 1500)\n",
    "pd.set_option('expand_frame_repr', True)\n",
    "pd.options.display.max_colwidth = 1000000\n",
    "print(fifa['Orig_Tweet'])"
   ]
  },
  {
   "cell_type": "code",
   "execution_count": 9,
   "id": "0552cbe2",
   "metadata": {},
   "outputs": [
    {
     "name": "stdout",
     "output_type": "stream",
     "text": [
      "0                             Only two goalkeepers have saved three penalties in penalty shoot out Ricardo vs\n",
      "1                      scores the winning penalty to send into the quarter finals where they will face Russia\n",
      "2                                                                                    Tonight we have big game\n",
      "3                                               We get stronger Turn the music up now We got that power power\n",
      "4                             Only two goalkeepers have saved three penalties in penalty shoot out Ricardo vs\n",
      "                                                         ...                                                 \n",
      "529995                                                                     France have won the FIFA in Moscow\n",
      "529996                                     Beyonc JAY performed in blue jersey to celebrate Frances win today\n",
      "529997              They don say immigrants are ruining France when they re taking political credit for glory\n",
      "529998                                                                             starts for in todays final\n",
      "529999    Dear France Congratulations on winning the of your team is African cut out the racism and xenophobi\n",
      "Name: Tweet, Length: 530000, dtype: object\n"
     ]
    }
   ],
   "source": [
    "#Looking at tweets that have been cleaned column\n",
    "pd.set_option('display.max_colwidth', 1500)\n",
    "pd.set_option('expand_frame_repr', True)\n",
    "pd.options.display.max_colwidth = 1000000\n",
    "print(fifa['Tweet'])"
   ]
  },
  {
   "cell_type": "code",
   "execution_count": 10,
   "id": "cffd0886",
   "metadata": {},
   "outputs": [],
   "source": [
    "#removing all tweets that haven't been cleaned, new rows are now at 529449 rows \n",
    "fifa_clean = fifa[fifa['Tweet'].isna() == False]"
   ]
  },
  {
   "cell_type": "code",
   "execution_count": 11,
   "id": "8627cf3a",
   "metadata": {},
   "outputs": [
    {
     "name": "stdout",
     "output_type": "stream",
     "text": [
      "<class 'pandas.core.frame.DataFrame'>\n",
      "Int64Index: 529449 entries, 0 to 529999\n",
      "Data columns (total 16 columns):\n",
      " #   Column            Non-Null Count   Dtype \n",
      "---  ------            --------------   ----- \n",
      " 0   ID                529449 non-null  int64 \n",
      " 1   lang              529449 non-null  object\n",
      " 2   Date              529449 non-null  object\n",
      " 3   Source            529449 non-null  object\n",
      " 4   len               529449 non-null  int64 \n",
      " 5   Orig_Tweet        529449 non-null  object\n",
      " 6   Tweet             529449 non-null  object\n",
      " 7   Likes             529449 non-null  int64 \n",
      " 8   RTs               529449 non-null  int64 \n",
      " 9   Hashtags          467991 non-null  object\n",
      " 10  UserMentionNames  455303 non-null  object\n",
      " 11  UserMentionID     455303 non-null  object\n",
      " 12  Name              529394 non-null  object\n",
      " 13  Place             390315 non-null  object\n",
      " 14  Followers         529449 non-null  int64 \n",
      " 15  Friends           529449 non-null  int64 \n",
      "dtypes: int64(6), object(10)\n",
      "memory usage: 68.7+ MB\n"
     ]
    }
   ],
   "source": [
    "fifa_clean.info()"
   ]
  },
  {
   "cell_type": "markdown",
   "id": "ea11f9a1",
   "metadata": {},
   "source": [
    "529449 max rows, 16 columns\n",
    "\n",
    "Place column needs to be cleaned and filled.\n",
    "\n",
    "Hastags, user mentions and user mention Id needs to be filled with none instead of NAN."
   ]
  },
  {
   "cell_type": "code",
   "execution_count": 12,
   "id": "9b00f63b",
   "metadata": {},
   "outputs": [
    {
     "name": "stderr",
     "output_type": "stream",
     "text": [
      "C:\\Users\\miles\\AppData\\Local\\Temp\\ipykernel_49380\\1895432537.py:2: SettingWithCopyWarning: \n",
      "A value is trying to be set on a copy of a slice from a DataFrame.\n",
      "Try using .loc[row_indexer,col_indexer] = value instead\n",
      "\n",
      "See the caveats in the documentation: https://pandas.pydata.org/pandas-docs/stable/user_guide/indexing.html#returning-a-view-versus-a-copy\n",
      "  fifa_clean['Date'] = pd.to_datetime(fifa_clean['Date'], infer_datetime_format=True)\n"
     ]
    }
   ],
   "source": [
    "#converting date column to datetime \n",
    "fifa_clean['Date'] = pd.to_datetime(fifa_clean['Date'], infer_datetime_format=True)"
   ]
  },
  {
   "cell_type": "code",
   "execution_count": 13,
   "id": "52beb20f",
   "metadata": {},
   "outputs": [],
   "source": [
    "#looking at place column\n",
    "#exporting to take deeper look\n",
    "counts = fifa_clean['Place'].value_counts()\n",
    "counts.to_csv('places_counts_capstone')"
   ]
  },
  {
   "cell_type": "code",
   "execution_count": 14,
   "id": "aa1b4099",
   "metadata": {
    "scrolled": true
   },
   "outputs": [
    {
     "name": "stderr",
     "output_type": "stream",
     "text": [
      "C:\\Users\\miles\\AppData\\Local\\Temp\\ipykernel_49380\\2338345089.py:2: SettingWithCopyWarning: \n",
      "A value is trying to be set on a copy of a slice from a DataFrame.\n",
      "Try using .loc[row_indexer,col_indexer] = value instead\n",
      "\n",
      "See the caveats in the documentation: https://pandas.pydata.org/pandas-docs/stable/user_guide/indexing.html#returning-a-view-versus-a-copy\n",
      "  fifa_clean['Place'] = fifa_clean['Place'].fillna('Other')\n"
     ]
    }
   ],
   "source": [
    "#filling all empty cells with other as location\n",
    "fifa_clean['Place'] = fifa_clean['Place'].fillna('Other')"
   ]
  },
  {
   "cell_type": "code",
   "execution_count": 15,
   "id": "3a886948",
   "metadata": {
    "scrolled": true
   },
   "outputs": [
    {
     "data": {
      "text/plain": [
       "Other                         139134\n",
       "Lagos, Nigeria                  4952\n",
       "London, England                 4700\n",
       "Nigeria                         3615\n",
       "London                          3225\n",
       "                               ...  \n",
       "Vgods crib                         1\n",
       "Chilensis                          1\n",
       "longliveX                          1\n",
       "Khobar, Dammam & Jubail IC         1\n",
       "HOUSTON.TX.BABYY.                  1\n",
       "Name: Place, Length: 95127, dtype: int64"
      ]
     },
     "execution_count": 15,
     "metadata": {},
     "output_type": "execute_result"
    }
   ],
   "source": [
    "fifa_clean['Place'].value_counts()"
   ]
  },
  {
   "cell_type": "markdown",
   "id": "7be3182f",
   "metadata": {},
   "source": [
    "I will be cleaning data for the biggest markets noticed in the database: India, usa, nigeria, united kingdom, south africa, pakistan, canada. Additionally, i will be combining all data from places that have greater than 100 tweets."
   ]
  },
  {
   "cell_type": "code",
   "execution_count": 16,
   "id": "87e941db",
   "metadata": {},
   "outputs": [],
   "source": [
    "#replacing anything containing nigeria or lagos as nigeria\n",
    "fifa_clean.loc[fifa_clean['Place'].str.contains(\"Lagos|Nigeria|Nairobi|nigeria|Abuja|Federal Capital Territory|lagos\")==True, 'Place'] = 'Nigeria'"
   ]
  },
  {
   "cell_type": "code",
   "execution_count": 17,
   "id": "11d814a1",
   "metadata": {
    "scrolled": true
   },
   "outputs": [
    {
     "data": {
      "text/plain": [
       "Other                             139134\n",
       "Nigeria                            24202\n",
       "London, England                     4700\n",
       "London                              3225\n",
       "India                               2840\n",
       "                                   ...  \n",
       "Kulim?PD?K.Lumpur?J.Bahru,Msia         1\n",
       "Vgods crib                             1\n",
       "Chilensis                              1\n",
       "longliveX                              1\n",
       "HOUSTON.TX.BABYY.                      1\n",
       "Name: Place, Length: 93425, dtype: int64"
      ]
     },
     "execution_count": 17,
     "metadata": {},
     "output_type": "execute_result"
    }
   ],
   "source": [
    "fifa_clean['Place'].value_counts()"
   ]
  },
  {
   "cell_type": "code",
   "execution_count": 18,
   "id": "422de60d",
   "metadata": {},
   "outputs": [],
   "source": [
    "#replacing all uk common places tweets location\n",
    "fifa_clean.loc[fifa_clean['Place'].str.contains(\"Dublin|UK|England|United Kingdom|London|Manchester|Scotland|Ireland|Glasgow|Anfield|Kent|Liverpool|Southampton|Cardiff|Essex|Wales|Bristol|Newcastle|Nottingham|LDN|Edinburgh|Coventry|Stamford|Trafford|Leicester|Sheffield|Birmingham|london|Leeds\")==True, 'Place'] = 'United Kingdom'"
   ]
  },
  {
   "cell_type": "code",
   "execution_count": 19,
   "id": "e57d2b83",
   "metadata": {},
   "outputs": [
    {
     "data": {
      "text/plain": [
       "Other                            139134\n",
       "United Kingdom                    50953\n",
       "Nigeria                           24202\n",
       "India                              2840\n",
       "Indonesia                          2815\n",
       "                                  ...  \n",
       "The Streets (La Isla Loco)            1\n",
       "Berriac, France                       1\n",
       "alkhobar , saudi arabia               1\n",
       "Belo Horizonte - MG - Brazil          1\n",
       "HOUSTON.TX.BABYY.                     1\n",
       "Name: Place, Length: 85496, dtype: int64"
      ]
     },
     "execution_count": 19,
     "metadata": {},
     "output_type": "execute_result"
    }
   ],
   "source": [
    "fifa_clean['Place'].value_counts()"
   ]
  },
  {
   "cell_type": "code",
   "execution_count": 20,
   "id": "bd474a2d",
   "metadata": {},
   "outputs": [],
   "source": [
    "#usa common places\n",
    "fifa_clean.loc[fifa_clean['Place'].str.contains(\"Las Vegas|Estados|Los Angeles|USA|Brooklyn|United States|usa|California|Boston|New York|Philadelphia|Florida|Miami|Houston|Chicago|Georgia|Francisco|Texas|New Jersey|Atlanta|Dallas|Washington\")==True, 'Place'] = 'USA'"
   ]
  },
  {
   "cell_type": "code",
   "execution_count": 21,
   "id": "18352aac",
   "metadata": {
    "scrolled": true
   },
   "outputs": [
    {
     "data": {
      "text/plain": [
       "Other                139134\n",
       "United Kingdom        50953\n",
       "USA                   26847\n",
       "Nigeria               24202\n",
       "India                  2840\n",
       "                      ...  \n",
       "Barrington, RI            1\n",
       "enemy's mind              1\n",
       "Praha                     1\n",
       "Padiham                   1\n",
       "HOUSTON.TX.BABYY.         1\n",
       "Name: Place, Length: 82078, dtype: int64"
      ]
     },
     "execution_count": 21,
     "metadata": {},
     "output_type": "execute_result"
    }
   ],
   "source": [
    "fifa_clean['Place'].value_counts()"
   ]
  },
  {
   "cell_type": "code",
   "execution_count": 22,
   "id": "57bd5d8c",
   "metadata": {},
   "outputs": [],
   "source": [
    "#india common places\n",
    "fifa_clean.loc[fifa_clean['Place'].str.contains(\"India|Mumbai|New Dehli|Bangalore|Delhi|Chennai|india\")==True, 'Place'] = 'India'"
   ]
  },
  {
   "cell_type": "code",
   "execution_count": 23,
   "id": "85466f80",
   "metadata": {
    "scrolled": true
   },
   "outputs": [
    {
     "data": {
      "text/plain": [
       "Other                      139134\n",
       "United Kingdom              50953\n",
       "USA                         26847\n",
       "Nigeria                     24202\n",
       "India                       15195\n",
       "                            ...  \n",
       "montageimages@gmail.com         1\n",
       "bangtan's heart                 1\n",
       "uu? uoo???uo?                   1\n",
       "Dubai, UAE                      1\n",
       "HOUSTON.TX.BABYY.               1\n",
       "Name: Place, Length: 80383, dtype: int64"
      ]
     },
     "execution_count": 23,
     "metadata": {},
     "output_type": "execute_result"
    }
   ],
   "source": [
    "fifa_clean['Place'].value_counts()"
   ]
  },
  {
   "cell_type": "code",
   "execution_count": 24,
   "id": "1190c124",
   "metadata": {},
   "outputs": [],
   "source": [
    "#south africa common places\n",
    "fifa_clean.loc[fifa_clean['Place'].str.contains(\"South Africa|Johannesburg|Cape Town|Pretoria|Durban\")==True, 'Place'] = 'South Africa'"
   ]
  },
  {
   "cell_type": "code",
   "execution_count": 25,
   "id": "58a9c4f0",
   "metadata": {},
   "outputs": [],
   "source": [
    "#canada common places\n",
    "fifa_clean.loc[fifa_clean['Place'].str.contains(\"Canada|Toronto|Montréal|Vancouver|Ontario|Alberta\")==True, 'Place'] =  'Canada'"
   ]
  },
  {
   "cell_type": "code",
   "execution_count": 26,
   "id": "ce1f1d88",
   "metadata": {},
   "outputs": [],
   "source": [
    "#france common places\n",
    "fifa_clean.loc[fifa_clean['Place'].str.contains(\"France|Paris\")==True, 'Place'] = 'France'"
   ]
  },
  {
   "cell_type": "code",
   "execution_count": 27,
   "id": "684e1919",
   "metadata": {},
   "outputs": [],
   "source": [
    "#Indonesia common places\n",
    "fifa_clean.loc[fifa_clean['Place'].str.contains(\"Indonesia|Jakarta|Bandung|indonesia\")==True, 'Place'] = 'Indonesia'"
   ]
  },
  {
   "cell_type": "code",
   "execution_count": 28,
   "id": "96aa2a43",
   "metadata": {},
   "outputs": [],
   "source": [
    "#Malaysia common places\n",
    "fifa_clean.loc[fifa_clean['Place'].str.contains(\"Malaysia|Kuala Lumpur|lumpur|Jawa Timur|Johor|Shah\")==True, 'Place'] = 'Malaysia'"
   ]
  },
  {
   "cell_type": "code",
   "execution_count": 29,
   "id": "cd220bc5",
   "metadata": {},
   "outputs": [],
   "source": [
    "#Mexico common places\n",
    "fifa_clean.loc[fifa_clean['Place'].str.contains(\"Mexico|México|Monterrey\")==True, 'Place'] = 'Mexico'"
   ]
  },
  {
   "cell_type": "code",
   "execution_count": 30,
   "id": "86b4f467",
   "metadata": {},
   "outputs": [],
   "source": [
    "#Ghana common places\n",
    "fifa_clean.loc[fifa_clean['Place'].str.contains(\"Ghana|Accra|ghana\")==True, 'Place'] = 'Ghana'"
   ]
  },
  {
   "cell_type": "code",
   "execution_count": 31,
   "id": "a70e1181",
   "metadata": {},
   "outputs": [],
   "source": [
    "#Singapore common places\n",
    "fifa_clean.loc[fifa_clean['Place'].str.contains(\"Singapore\")==True, 'Place'] = 'Singapore'"
   ]
  },
  {
   "cell_type": "code",
   "execution_count": 32,
   "id": "8a22cfa5",
   "metadata": {},
   "outputs": [],
   "source": [
    "#Thailand common places\n",
    "fifa_clean.loc[fifa_clean['Place'].str.contains(\"Thailand|Bangkok\")==True, 'Place'] = 'Thailand'"
   ]
  },
  {
   "cell_type": "code",
   "execution_count": 33,
   "id": "53e292d5",
   "metadata": {},
   "outputs": [],
   "source": [
    "#Kenya common places\n",
    "fifa_clean.loc[fifa_clean['Place'].str.contains(\"Kenya\")==True, 'Place'] = 'Kenya'"
   ]
  },
  {
   "cell_type": "code",
   "execution_count": 34,
   "id": "6f68b265",
   "metadata": {},
   "outputs": [],
   "source": [
    "#Uganda common places\n",
    "fifa_clean.loc[fifa_clean['Place'].str.contains(\"Uganda|Kampala\")==True, 'Place'] = 'Uganda'"
   ]
  },
  {
   "cell_type": "code",
   "execution_count": 35,
   "id": "ec2fbf42",
   "metadata": {},
   "outputs": [],
   "source": [
    "#Pakistan common places\n",
    "fifa_clean.loc[fifa_clean['Place'].str.contains(\"Pakistan|Karachi|Islamabad\")==True, 'Place'] = 'Pakistan'"
   ]
  },
  {
   "cell_type": "code",
   "execution_count": 36,
   "id": "1f59d223",
   "metadata": {},
   "outputs": [],
   "source": [
    "#Egypt common places\n",
    "fifa_clean.loc[fifa_clean['Place'].str.contains(\"Egypt\")==True, 'Place'] = 'Egypt'"
   ]
  },
  {
   "cell_type": "code",
   "execution_count": 37,
   "id": "7855650a",
   "metadata": {},
   "outputs": [],
   "source": [
    "#Argentina common places\n",
    "fifa_clean.loc[fifa_clean['Place'].str.contains(\"Argentina\")==True, 'Place'] = 'Argentina'"
   ]
  },
  {
   "cell_type": "code",
   "execution_count": 38,
   "id": "3586ad51",
   "metadata": {},
   "outputs": [],
   "source": [
    "#Maldives common places\n",
    "fifa_clean.loc[fifa_clean['Place'].str.contains(\"Maldives\")==True, 'Place'] = 'Maldives'"
   ]
  },
  {
   "cell_type": "code",
   "execution_count": 39,
   "id": "c83095dd",
   "metadata": {},
   "outputs": [],
   "source": [
    "#Brasil common places\n",
    "fifa_clean.loc[fifa_clean['Place'].str.contains(\"Brasil|Rio de|Brazil|São Paulo\")==True, 'Place'] = 'Brasil'"
   ]
  },
  {
   "cell_type": "code",
   "execution_count": 40,
   "id": "8bc03776",
   "metadata": {},
   "outputs": [],
   "source": [
    "#Colombia common places\n",
    "fifa_clean.loc[fifa_clean['Place'].str.contains(\"Colombia|Bogot\")==True, 'Place'] = 'Colombia'"
   ]
  },
  {
   "cell_type": "code",
   "execution_count": 41,
   "id": "d8e48b59",
   "metadata": {},
   "outputs": [],
   "source": [
    "#Phillipines common places\n",
    "fifa_clean.loc[fifa_clean['Place'].str.contains(\"Philippines\")==True, 'Place'] = 'Philippines'"
   ]
  },
  {
   "cell_type": "code",
   "execution_count": 42,
   "id": "0dfb53bf",
   "metadata": {},
   "outputs": [],
   "source": [
    "#Spain common places\n",
    "fifa_clean.loc[fifa_clean['Place'].str.contains(\"Spain|Madrid|España|Barcelona\")==True, 'Place'] = 'Spain'"
   ]
  },
  {
   "cell_type": "code",
   "execution_count": 43,
   "id": "6f518f4f",
   "metadata": {},
   "outputs": [],
   "source": [
    "#Uraguay common places\n",
    "fifa_clean.loc[fifa_clean['Place'].str.contains(\"Uruguay\")==True, 'Place'] = 'Uruguay'"
   ]
  },
  {
   "cell_type": "code",
   "execution_count": 44,
   "id": "282cbafd",
   "metadata": {},
   "outputs": [],
   "source": [
    "#Australia common places\n",
    "fifa_clean.loc[fifa_clean['Place'].str.contains(\"Australia|Sydney|Melbourne\")==True, 'Place'] = 'Australia'"
   ]
  },
  {
   "cell_type": "code",
   "execution_count": 45,
   "id": "1e684cd4",
   "metadata": {
    "scrolled": true
   },
   "outputs": [
    {
     "data": {
      "text/plain": [
       "Other               139134\n",
       "United Kingdom       50953\n",
       "USA                  26847\n",
       "Nigeria              24202\n",
       "India                15195\n",
       "                     ...  \n",
       "San Antonio, TX        229\n",
       "Harare, Zimbabwe       229\n",
       "Japan                  227\n",
       "Orlando, FL            221\n",
       "?? ???                 220\n",
       "Name: Place, Length: 70, dtype: int64"
      ]
     },
     "execution_count": 45,
     "metadata": {},
     "output_type": "execute_result"
    }
   ],
   "source": [
    "fifa_clean['Place'].value_counts().head(70)"
   ]
  },
  {
   "cell_type": "code",
   "execution_count": 46,
   "id": "7fc3c554",
   "metadata": {},
   "outputs": [],
   "source": [
    "#cleaning up all values that have ?, or earth  in them to change to other\n",
    "fifa_clean.loc[fifa_clean['Place'].str.contains(\"\\?|Unknown|Universe|Gotham|Home|earth|ArenA|Earth|Heaven|worldwide|Worldwide|Everywhere|Global|Wakanda|6|Somewhere|World|Mars|Hogwarts|Europe|Neverland|Here\")==True, 'Place'] = 'Other'"
   ]
  },
  {
   "cell_type": "code",
   "execution_count": 47,
   "id": "112b5ee2",
   "metadata": {},
   "outputs": [],
   "source": [
    "#UAE common places\n",
    "fifa_clean.loc[fifa_clean['Place'].str.contains(\"Dubai|UAE|United Arab Emirates\")==True, 'Place'] = 'UAE'"
   ]
  },
  {
   "cell_type": "code",
   "execution_count": 48,
   "id": "4df6fc45",
   "metadata": {},
   "outputs": [],
   "source": [
    "#Iran common places\n",
    "fifa_clean.loc[fifa_clean['Place'].str.contains(\"Iran\")==True, 'Place']  = 'Iran'"
   ]
  },
  {
   "cell_type": "code",
   "execution_count": 49,
   "id": "4a487919",
   "metadata": {},
   "outputs": [],
   "source": [
    "#NZ common places\n",
    "fifa_clean.loc[fifa_clean['Place'].str.contains(\"Zealand\")==True, 'Place']  = 'New Zealand'"
   ]
  },
  {
   "cell_type": "code",
   "execution_count": 50,
   "id": "acf5cd49",
   "metadata": {},
   "outputs": [],
   "source": [
    "#Croatia common places\n",
    "fifa_clean.loc[fifa_clean['Place'].str.contains(\"Croatia\")==True, 'Place'] = 'Croatia'"
   ]
  },
  {
   "cell_type": "code",
   "execution_count": 51,
   "id": "e8de2fc5",
   "metadata": {},
   "outputs": [],
   "source": [
    "#Peru common places\n",
    "fifa_clean.loc[fifa_clean['Place'].str.contains(\"Peru|Péru|Lima|Perú\")==True, 'Place'] = 'Peru'"
   ]
  },
  {
   "cell_type": "code",
   "execution_count": 52,
   "id": "413f4ae9",
   "metadata": {},
   "outputs": [],
   "source": [
    "#bnglasdesh common places\n",
    "fifa_clean.loc[fifa_clean['Place'].str.contains(\"Bangladesh\")==True, 'Place'] = 'Bangladesh'"
   ]
  },
  {
   "cell_type": "code",
   "execution_count": 53,
   "id": "411a6af2",
   "metadata": {},
   "outputs": [],
   "source": [
    "#common places\n",
    "fifa_clean.loc[fifa_clean['Place'].str.contains(\"Jamaica\")==True, 'Place'] = 'Jamaica'\n",
    "fifa_clean.loc[fifa_clean['Place'].str.contains(\"Trinidad|Tobago\")==True, 'Place'] = 'Trinidad and Tobago'\n",
    "fifa_clean.loc[fifa_clean['Place'].str.contains(\"Belgium|Belgique|België\")==True, 'Place'] = 'Belgium'\n",
    "fifa_clean.loc[fifa_clean['Place'].str.contains(\"Sri|Lanka\")==True, 'Place'] = 'Sri lanka'\n",
    "fifa_clean.loc[fifa_clean['Place'].str.contains(\"Portugal\")==True, 'Place'] = 'Portugal'\n",
    "fifa_clean.loc[fifa_clean['Place'].str.contains(\"Russia|Moscow\")==True, 'Place'] = 'Russia'\n",
    "fifa_clean.loc[fifa_clean['Place'].str.contains(\"Germany|Deutschland\")==True, 'Place'] = 'Germany'\n",
    "fifa_clean.loc[fifa_clean['Place'].str.contains(\"Africa\")==True, 'Place'] = 'Africa'\n",
    "fifa_clean.loc[fifa_clean['Place'].str.contains(\"Zimbabwe\")==True, 'Place'] = 'Zimbabwe'\n",
    "fifa_clean.loc[fifa_clean['Place'].str.contains(\"Korea\")==True, 'Place'] = 'Korea'\n",
    "fifa_clean.loc[fifa_clean['Place'].str.contains(\"Myanmar\")==True, 'Place'] = 'Myanmar'\n",
    "fifa_clean.loc[fifa_clean['Place'].str.contains(\"Japan|Tokyo\")==True, 'Place'] = 'Japan'\n",
    "fifa_clean.loc[fifa_clean['Place'].str.contains(\"Saudi|Riyadh\")==True, 'Place'] = 'Saudi Arabia'\n",
    "fifa_clean.loc[fifa_clean['Place'].str.contains(\"Costa Rica\")==True, 'Place'] = 'Costa Rica'\n",
    "fifa_clean.loc[fifa_clean['Place'].str.contains(\"Chile\")==True, 'Place'] = 'Chile'\n",
    "fifa_clean.loc[fifa_clean['Place'].str.contains(\"venezuela|Venezuela\")==True, 'Place'] = 'Venezuela'\n",
    "fifa_clean.loc[fifa_clean['Place'].str.contains(\"Tanzania\")==True, 'Place'] = 'Tanzania'\n",
    "fifa_clean.loc[fifa_clean['Place'].str.contains(\"Ecuador\")==True, 'Place'] = 'Ecuador'\n",
    "fifa_clean.loc[fifa_clean['Place'].str.contains(\"Lebanon\")==True, 'Place'] = 'Lebanon'\n",
    "fifa_clean.loc[fifa_clean['Place'].str.contains(\"Guatemala\")==True, 'Place'] = 'Guatemala'\n",
    "fifa_clean.loc[fifa_clean['Place'].str.contains(\"Qatar\")==True, 'Place'] = 'Qatar'\n",
    "fifa_clean.loc[fifa_clean['Place'].str.contains(\"China\")==True, 'Place'] = 'China'\n",
    "fifa_clean.loc[fifa_clean['Place'].str.contains(\"Polska|Poland\")==True, 'Place'] = 'Poland'\n",
    "fifa_clean.loc[fifa_clean['Place'].str.contains(\"Turkey\")==True, 'Place'] = 'Turkey'"
   ]
  },
  {
   "cell_type": "code",
   "execution_count": 54,
   "id": "a914fbef",
   "metadata": {},
   "outputs": [],
   "source": [
    "#USA states abbreviations\n",
    "fifa_clean.loc[fifa_clean['Place'].str.contains(\"AL|AK|AZ|AR|CA|CO|CT|DE|FL|GA|HI|ID|IL|IN|IA|KS \\\n",
    "                                                |KY|LA|ME|MD|MA|MI|MN|MS|MO|MT|NE|NV|NH|NJ|NM|NY|NC|ND|OH|OK|OR|PA \\\n",
    "                                                |RI|SC|SD|TN|TX|UT|VT|VA|WA|WV|WI|WY|PA\")==True, 'Place'] = 'USA'"
   ]
  },
  {
   "cell_type": "code",
   "execution_count": 55,
   "id": "f15c3f1c",
   "metadata": {},
   "outputs": [
    {
     "data": {
      "text/plain": [
       "Other              175418\n",
       "USA                 52110\n",
       "United Kingdom      50953\n",
       "Nigeria             24202\n",
       "India               15195\n",
       "                    ...  \n",
       "Barbados              104\n",
       "The Netherlands       102\n",
       "Paraguay              100\n",
       "Jeddah                 99\n",
       "El Salvador            98\n",
       "Name: Place, Length: 72, dtype: int64"
      ]
     },
     "execution_count": 55,
     "metadata": {},
     "output_type": "execute_result"
    }
   ],
   "source": [
    "fifa_clean['Place'].value_counts().head(72)"
   ]
  },
  {
   "cell_type": "markdown",
   "id": "1c86a69c",
   "metadata": {},
   "source": [
    "All location data with greater than 100 tweets has now been properly classified. "
   ]
  },
  {
   "cell_type": "code",
   "execution_count": 56,
   "id": "13ae5678",
   "metadata": {},
   "outputs": [
    {
     "data": {
      "text/plain": [
       "415187"
      ]
     },
     "execution_count": 56,
     "metadata": {},
     "output_type": "execute_result"
    }
   ],
   "source": [
    "#Total number of rows properly classified\n",
    "sum(fifa_clean['Place'].value_counts().head(70))"
   ]
  },
  {
   "cell_type": "code",
   "execution_count": 57,
   "id": "17273120",
   "metadata": {
    "scrolled": true
   },
   "outputs": [
    {
     "data": {
      "text/plain": [
       "48546"
      ]
     },
     "execution_count": 57,
     "metadata": {},
     "output_type": "execute_result"
    }
   ],
   "source": [
    "#nuber of grouped rows that will be converted to other\n",
    "sum(fifa_clean['Place'].value_counts() < 100)"
   ]
  },
  {
   "cell_type": "markdown",
   "id": "906900f1",
   "metadata": {},
   "source": [
    "Creating a list of all places with less than 100 tweets from that location"
   ]
  },
  {
   "cell_type": "code",
   "execution_count": 58,
   "id": "3d4f5483",
   "metadata": {},
   "outputs": [],
   "source": [
    "other_places = fifa_clean['Place'].value_counts() "
   ]
  },
  {
   "cell_type": "code",
   "execution_count": 59,
   "id": "3333afea",
   "metadata": {
    "scrolled": true
   },
   "outputs": [],
   "source": [
    "other_places_list = other_places[other_places < 100].index"
   ]
  },
  {
   "cell_type": "markdown",
   "id": "cbce8bb4",
   "metadata": {},
   "source": [
    "Making all tweets with places that have less than 100 tweets come from other"
   ]
  },
  {
   "cell_type": "code",
   "execution_count": 60,
   "id": "edb3b133",
   "metadata": {},
   "outputs": [],
   "source": [
    "fifa_clean.loc[fifa_clean['Place'].isin(other_places_list), 'Place'] = 'Other'"
   ]
  },
  {
   "cell_type": "code",
   "execution_count": 61,
   "id": "014fac5f",
   "metadata": {
    "scrolled": true
   },
   "outputs": [
    {
     "data": {
      "text/plain": [
       "Other              289680\n",
       "USA                 52110\n",
       "United Kingdom      50953\n",
       "Nigeria             24202\n",
       "India               15195\n",
       "                    ...  \n",
       "Sweden                121\n",
       "Côte d'Ivoire         114\n",
       "Barbados              104\n",
       "The Netherlands       102\n",
       "Paraguay              100\n",
       "Name: Place, Length: 70, dtype: int64"
      ]
     },
     "execution_count": 61,
     "metadata": {},
     "output_type": "execute_result"
    }
   ],
   "source": [
    "#checking changes\n",
    "fifa_clean['Place'].value_counts()"
   ]
  },
  {
   "cell_type": "markdown",
   "id": "5cc953ed",
   "metadata": {},
   "source": [
    "Rechecking pandas df"
   ]
  },
  {
   "cell_type": "code",
   "execution_count": 62,
   "id": "feefa831",
   "metadata": {
    "scrolled": true
   },
   "outputs": [
    {
     "name": "stdout",
     "output_type": "stream",
     "text": [
      "<class 'pandas.core.frame.DataFrame'>\n",
      "Int64Index: 529449 entries, 0 to 529999\n",
      "Data columns (total 16 columns):\n",
      " #   Column            Non-Null Count   Dtype         \n",
      "---  ------            --------------   -----         \n",
      " 0   ID                529449 non-null  int64         \n",
      " 1   lang              529449 non-null  object        \n",
      " 2   Date              529449 non-null  datetime64[ns]\n",
      " 3   Source            529449 non-null  object        \n",
      " 4   len               529449 non-null  int64         \n",
      " 5   Orig_Tweet        529449 non-null  object        \n",
      " 6   Tweet             529449 non-null  object        \n",
      " 7   Likes             529449 non-null  int64         \n",
      " 8   RTs               529449 non-null  int64         \n",
      " 9   Hashtags          467991 non-null  object        \n",
      " 10  UserMentionNames  455303 non-null  object        \n",
      " 11  UserMentionID     455303 non-null  object        \n",
      " 12  Name              529394 non-null  object        \n",
      " 13  Place             529449 non-null  object        \n",
      " 14  Followers         529449 non-null  int64         \n",
      " 15  Friends           529449 non-null  int64         \n",
      "dtypes: datetime64[ns](1), int64(6), object(9)\n",
      "memory usage: 68.7+ MB\n"
     ]
    }
   ],
   "source": [
    "fifa_clean.info()"
   ]
  },
  {
   "cell_type": "code",
   "execution_count": 63,
   "id": "5c53b43a",
   "metadata": {
    "scrolled": true
   },
   "outputs": [
    {
     "data": {
      "text/html": [
       "<div>\n",
       "<style scoped>\n",
       "    .dataframe tbody tr th:only-of-type {\n",
       "        vertical-align: middle;\n",
       "    }\n",
       "\n",
       "    .dataframe tbody tr th {\n",
       "        vertical-align: top;\n",
       "    }\n",
       "\n",
       "    .dataframe thead th {\n",
       "        text-align: right;\n",
       "    }\n",
       "</style>\n",
       "<table border=\"1\" class=\"dataframe\">\n",
       "  <thead>\n",
       "    <tr style=\"text-align: right;\">\n",
       "      <th></th>\n",
       "      <th>ID</th>\n",
       "      <th>lang</th>\n",
       "      <th>Date</th>\n",
       "      <th>Source</th>\n",
       "      <th>len</th>\n",
       "      <th>Orig_Tweet</th>\n",
       "      <th>Tweet</th>\n",
       "      <th>Likes</th>\n",
       "      <th>RTs</th>\n",
       "      <th>Hashtags</th>\n",
       "      <th>UserMentionNames</th>\n",
       "      <th>UserMentionID</th>\n",
       "      <th>Name</th>\n",
       "      <th>Place</th>\n",
       "      <th>Followers</th>\n",
       "      <th>Friends</th>\n",
       "    </tr>\n",
       "  </thead>\n",
       "  <tbody>\n",
       "    <tr>\n",
       "      <th>0</th>\n",
       "      <td>1013597060640145408</td>\n",
       "      <td>en</td>\n",
       "      <td>2018-07-02 01:35:45</td>\n",
       "      <td>Twitter for Android</td>\n",
       "      <td>140</td>\n",
       "      <td>RT @Squawka: Only two goalkeepers have saved three penalties in a #WorldCup penalty shoot-out: \\r\\n\\r\\n1/7/2006: #POR's Ricardo vs. #ENG \\r\\n\\r\\n1/7/20…</td>\n",
       "      <td>Only two goalkeepers have saved three penalties in penalty shoot out Ricardo vs</td>\n",
       "      <td>0</td>\n",
       "      <td>477</td>\n",
       "      <td>WorldCup,POR,ENG</td>\n",
       "      <td>Squawka Football</td>\n",
       "      <td>Squawka</td>\n",
       "      <td>Cayleb</td>\n",
       "      <td>Ghana</td>\n",
       "      <td>861</td>\n",
       "      <td>828</td>\n",
       "    </tr>\n",
       "    <tr>\n",
       "      <th>1</th>\n",
       "      <td>1013597056219295744</td>\n",
       "      <td>en</td>\n",
       "      <td>2018-07-02 01:35:44</td>\n",
       "      <td>Twitter for Android</td>\n",
       "      <td>139</td>\n",
       "      <td>RT @FCBarcelona: ?? @ivanrakitic scores the winning penalty to send @HNS_CFF into the #WorldCup quarter-finals, where they'll face Russia!…</td>\n",
       "      <td>scores the winning penalty to send into the quarter finals where they will face Russia</td>\n",
       "      <td>0</td>\n",
       "      <td>1031</td>\n",
       "      <td>WorldCup</td>\n",
       "      <td>FC Barcelona,Ivan Rakitic,HNS | CFF</td>\n",
       "      <td>FCBarcelona,ivanrakitic,HNS_CFF</td>\n",
       "      <td>Febri Aditya</td>\n",
       "      <td>Other</td>\n",
       "      <td>667</td>\n",
       "      <td>686</td>\n",
       "    </tr>\n",
       "    <tr>\n",
       "      <th>2</th>\n",
       "      <td>1013597047482544130</td>\n",
       "      <td>en</td>\n",
       "      <td>2018-07-02 01:35:42</td>\n",
       "      <td>Twitter for Android</td>\n",
       "      <td>107</td>\n",
       "      <td>RT @javierfernandez: Tonight we have big game.... @EvgeniPlushenko ?????? #worldcup https://t.co/LKifuNlubC</td>\n",
       "      <td>Tonight we have big game</td>\n",
       "      <td>0</td>\n",
       "      <td>488</td>\n",
       "      <td>worldcup</td>\n",
       "      <td>Javier Fernandez,Evgeni Plushenko</td>\n",
       "      <td>javierfernandez,EvgeniPlushenko</td>\n",
       "      <td>??</td>\n",
       "      <td>Other</td>\n",
       "      <td>65</td>\n",
       "      <td>67</td>\n",
       "    </tr>\n",
       "    <tr>\n",
       "      <th>3</th>\n",
       "      <td>1013597044198391808</td>\n",
       "      <td>en</td>\n",
       "      <td>2018-07-02 01:35:41</td>\n",
       "      <td>Twitter Web Client</td>\n",
       "      <td>142</td>\n",
       "      <td>We get stronger\\r\\nTurn the music up now\\r\\nWe got that power power~\\r\\n\\r\\n#PowerByEXO #WorldCup #FIFAStadiumDJ #XiuminLeague \\r\\n@weareoneEXO @FIFAWorldCup</td>\n",
       "      <td>We get stronger Turn the music up now We got that power power</td>\n",
       "      <td>0</td>\n",
       "      <td>0</td>\n",
       "      <td>PowerByEXO,WorldCup,FIFAStadiumDJ,XiuminLeague</td>\n",
       "      <td>EXO,FIFA World Cup ?</td>\n",
       "      <td>weareoneEXO,FIFAWorldCup</td>\n",
       "      <td>Frida Carrillo</td>\n",
       "      <td>Other</td>\n",
       "      <td>17</td>\n",
       "      <td>89</td>\n",
       "    </tr>\n",
       "    <tr>\n",
       "      <th>4</th>\n",
       "      <td>1013597039999926272</td>\n",
       "      <td>en</td>\n",
       "      <td>2018-07-02 01:35:40</td>\n",
       "      <td>Twitter for Android</td>\n",
       "      <td>140</td>\n",
       "      <td>RT @Squawka: Only two goalkeepers have saved three penalties in a #WorldCup penalty shoot-out: \\r\\n\\r\\n1/7/2006: #POR's Ricardo vs. #ENG \\r\\n\\r\\n1/7/20…</td>\n",
       "      <td>Only two goalkeepers have saved three penalties in penalty shoot out Ricardo vs</td>\n",
       "      <td>0</td>\n",
       "      <td>477</td>\n",
       "      <td>WorldCup,POR,ENG</td>\n",
       "      <td>Squawka Football</td>\n",
       "      <td>Squawka</td>\n",
       "      <td>tar</td>\n",
       "      <td>Other</td>\n",
       "      <td>137</td>\n",
       "      <td>216</td>\n",
       "    </tr>\n",
       "    <tr>\n",
       "      <th>...</th>\n",
       "      <td>...</td>\n",
       "      <td>...</td>\n",
       "      <td>...</td>\n",
       "      <td>...</td>\n",
       "      <td>...</td>\n",
       "      <td>...</td>\n",
       "      <td>...</td>\n",
       "      <td>...</td>\n",
       "      <td>...</td>\n",
       "      <td>...</td>\n",
       "      <td>...</td>\n",
       "      <td>...</td>\n",
       "      <td>...</td>\n",
       "      <td>...</td>\n",
       "      <td>...</td>\n",
       "      <td>...</td>\n",
       "    </tr>\n",
       "    <tr>\n",
       "      <th>95</th>\n",
       "      <td>1013596852569235458</td>\n",
       "      <td>en</td>\n",
       "      <td>2018-07-02 01:34:56</td>\n",
       "      <td>Twitter Web Client</td>\n",
       "      <td>137</td>\n",
       "      <td>Don’t worry anymore, stop\\r\\nTime is ticking, even now, tick tock #LayLeague #PowerByEXO #WorldCup #FIFAStadiumDJ @FIFAWorldCup @weareoneEXO</td>\n",
       "      <td>Don worry anymore stop Time is ticking even now tick tock</td>\n",
       "      <td>0</td>\n",
       "      <td>0</td>\n",
       "      <td>LayLeague,PowerByEXO,WorldCup,FIFAStadiumDJ</td>\n",
       "      <td>FIFA World Cup ?,EXO</td>\n",
       "      <td>FIFAWorldCup,weareoneEXO</td>\n",
       "      <td>Minseok el inmortal</td>\n",
       "      <td>Mexico</td>\n",
       "      <td>115</td>\n",
       "      <td>4</td>\n",
       "    </tr>\n",
       "    <tr>\n",
       "      <th>96</th>\n",
       "      <td>1013596851885543429</td>\n",
       "      <td>en</td>\n",
       "      <td>2018-07-02 01:34:55</td>\n",
       "      <td>Twitter for iPhone</td>\n",
       "      <td>140</td>\n",
       "      <td>RT @FootbaIIBattIes: What will be the result of #ESPRUS? RT if you vote please!\\r\\n\\r\\n#WorldCup? ?? ?? ?? ?? ?? ?? ?? ?? ?? ?? ?? ?? ?? ?? ?? ??…</td>\n",
       "      <td>What will be the result of RT if you vote please</td>\n",
       "      <td>0</td>\n",
       "      <td>21</td>\n",
       "      <td>ESPRUS,WorldCup</td>\n",
       "      <td>Football Battles</td>\n",
       "      <td>FootbaIIBattIes</td>\n",
       "      <td>ethan</td>\n",
       "      <td>Other</td>\n",
       "      <td>46</td>\n",
       "      <td>179</td>\n",
       "    </tr>\n",
       "    <tr>\n",
       "      <th>97</th>\n",
       "      <td>1013596851600101376</td>\n",
       "      <td>en</td>\n",
       "      <td>2018-07-02 01:34:55</td>\n",
       "      <td>Twitter for Android</td>\n",
       "      <td>140</td>\n",
       "      <td>RT @kyodo_sports_en: #Japan coach admits his team have not practiced penalties for knockout match with #Belgium. #WorldCup #Russia2018 #JPN…</td>\n",
       "      <td>coach admits his team have not practiced penalties for knockout match with</td>\n",
       "      <td>0</td>\n",
       "      <td>2</td>\n",
       "      <td>Japan,Belgium,WorldCup,Russia2018,JPN</td>\n",
       "      <td>Kyodo News Sports</td>\n",
       "      <td>kyodo_sports_en</td>\n",
       "      <td>Beauty and her bed.</td>\n",
       "      <td>Other</td>\n",
       "      <td>103</td>\n",
       "      <td>160</td>\n",
       "    </tr>\n",
       "    <tr>\n",
       "      <th>98</th>\n",
       "      <td>1013596848848711680</td>\n",
       "      <td>en</td>\n",
       "      <td>2018-07-02 01:34:55</td>\n",
       "      <td>Twitter for Android</td>\n",
       "      <td>120</td>\n",
       "      <td>RT @callmebabeex: Please play power by EXO ??\\r\\n#PowerByEXO #WorldCup #FIFAStadiumDJ #KAILeague\\r\\n@weareoneEXO @FIFAWorldCup</td>\n",
       "      <td>Please play power by EXO</td>\n",
       "      <td>0</td>\n",
       "      <td>6</td>\n",
       "      <td>PowerByEXO,WorldCup,FIFAStadiumDJ,KAILeague</td>\n",
       "      <td>What if ?,EXO,FIFA World Cup ?</td>\n",
       "      <td>callmebabeex,weareoneEXO,FIFAWorldCup</td>\n",
       "      <td>michigo</td>\n",
       "      <td>Other</td>\n",
       "      <td>16</td>\n",
       "      <td>70</td>\n",
       "    </tr>\n",
       "    <tr>\n",
       "      <th>99</th>\n",
       "      <td>1013596847946981376</td>\n",
       "      <td>en</td>\n",
       "      <td>2018-07-02 01:34:54</td>\n",
       "      <td>Twitter Web Client</td>\n",
       "      <td>144</td>\n",
       "      <td>When you see me\\r\\nWhen we feel the same feeling\\r\\nPower power~\\r\\n\\r\\n?????\\r\\n#PowerByEXO #WorldCup #FIFAStadiumDJ #XiuminLeague \\r\\n@weareoneEXO @FIFAWorldCup</td>\n",
       "      <td>When you see me When we feel the same feeling Power power</td>\n",
       "      <td>0</td>\n",
       "      <td>1</td>\n",
       "      <td>PowerByEXO,WorldCup,FIFAStadiumDJ,XiuminLeague</td>\n",
       "      <td>EXO,FIFA World Cup ?</td>\n",
       "      <td>weareoneEXO,FIFAWorldCup</td>\n",
       "      <td>Frida Carrillo</td>\n",
       "      <td>Other</td>\n",
       "      <td>17</td>\n",
       "      <td>89</td>\n",
       "    </tr>\n",
       "  </tbody>\n",
       "</table>\n",
       "<p>100 rows × 16 columns</p>\n",
       "</div>"
      ],
      "text/plain": [
       "                     ID lang                Date               Source  len  \\\n",
       "0   1013597060640145408   en 2018-07-02 01:35:45  Twitter for Android  140   \n",
       "1   1013597056219295744   en 2018-07-02 01:35:44  Twitter for Android  139   \n",
       "2   1013597047482544130   en 2018-07-02 01:35:42  Twitter for Android  107   \n",
       "3   1013597044198391808   en 2018-07-02 01:35:41   Twitter Web Client  142   \n",
       "4   1013597039999926272   en 2018-07-02 01:35:40  Twitter for Android  140   \n",
       "..                  ...  ...                 ...                  ...  ...   \n",
       "95  1013596852569235458   en 2018-07-02 01:34:56   Twitter Web Client  137   \n",
       "96  1013596851885543429   en 2018-07-02 01:34:55   Twitter for iPhone  140   \n",
       "97  1013596851600101376   en 2018-07-02 01:34:55  Twitter for Android  140   \n",
       "98  1013596848848711680   en 2018-07-02 01:34:55  Twitter for Android  120   \n",
       "99  1013596847946981376   en 2018-07-02 01:34:54   Twitter Web Client  144   \n",
       "\n",
       "                                                                                                                                                            Orig_Tweet  \\\n",
       "0             RT @Squawka: Only two goalkeepers have saved three penalties in a #WorldCup penalty shoot-out: \\r\\n\\r\\n1/7/2006: #POR's Ricardo vs. #ENG \\r\\n\\r\\n1/7/20…   \n",
       "1                          RT @FCBarcelona: ?? @ivanrakitic scores the winning penalty to send @HNS_CFF into the #WorldCup quarter-finals, where they'll face Russia!…   \n",
       "2                                                          RT @javierfernandez: Tonight we have big game.... @EvgeniPlushenko ?????? #worldcup https://t.co/LKifuNlubC   \n",
       "3        We get stronger\\r\\nTurn the music up now\\r\\nWe got that power power~\\r\\n\\r\\n#PowerByEXO #WorldCup #FIFAStadiumDJ #XiuminLeague \\r\\n@weareoneEXO @FIFAWorldCup   \n",
       "4             RT @Squawka: Only two goalkeepers have saved three penalties in a #WorldCup penalty shoot-out: \\r\\n\\r\\n1/7/2006: #POR's Ricardo vs. #ENG \\r\\n\\r\\n1/7/20…   \n",
       "..                                                                                                                                                                 ...   \n",
       "95                        Don’t worry anymore, stop\\r\\nTime is ticking, even now, tick tock #LayLeague #PowerByEXO #WorldCup #FIFAStadiumDJ @FIFAWorldCup @weareoneEXO   \n",
       "96                  RT @FootbaIIBattIes: What will be the result of #ESPRUS? RT if you vote please!\\r\\n\\r\\n#WorldCup? ?? ?? ?? ?? ?? ?? ?? ?? ?? ?? ?? ?? ?? ?? ?? ??…   \n",
       "97                        RT @kyodo_sports_en: #Japan coach admits his team have not practiced penalties for knockout match with #Belgium. #WorldCup #Russia2018 #JPN…   \n",
       "98                                      RT @callmebabeex: Please play power by EXO ??\\r\\n#PowerByEXO #WorldCup #FIFAStadiumDJ #KAILeague\\r\\n@weareoneEXO @FIFAWorldCup   \n",
       "99  When you see me\\r\\nWhen we feel the same feeling\\r\\nPower power~\\r\\n\\r\\n?????\\r\\n#PowerByEXO #WorldCup #FIFAStadiumDJ #XiuminLeague \\r\\n@weareoneEXO @FIFAWorldCup   \n",
       "\n",
       "                                                                                     Tweet  \\\n",
       "0          Only two goalkeepers have saved three penalties in penalty shoot out Ricardo vs   \n",
       "1   scores the winning penalty to send into the quarter finals where they will face Russia   \n",
       "2                                                                 Tonight we have big game   \n",
       "3                            We get stronger Turn the music up now We got that power power   \n",
       "4          Only two goalkeepers have saved three penalties in penalty shoot out Ricardo vs   \n",
       "..                                                                                     ...   \n",
       "95                               Don worry anymore stop Time is ticking even now tick tock   \n",
       "96                                        What will be the result of RT if you vote please   \n",
       "97              coach admits his team have not practiced penalties for knockout match with   \n",
       "98                                                                Please play power by EXO   \n",
       "99                               When you see me When we feel the same feeling Power power   \n",
       "\n",
       "    Likes   RTs                                        Hashtags  \\\n",
       "0       0   477                                WorldCup,POR,ENG   \n",
       "1       0  1031                                        WorldCup   \n",
       "2       0   488                                        worldcup   \n",
       "3       0     0  PowerByEXO,WorldCup,FIFAStadiumDJ,XiuminLeague   \n",
       "4       0   477                                WorldCup,POR,ENG   \n",
       "..    ...   ...                                             ...   \n",
       "95      0     0     LayLeague,PowerByEXO,WorldCup,FIFAStadiumDJ   \n",
       "96      0    21                                 ESPRUS,WorldCup   \n",
       "97      0     2           Japan,Belgium,WorldCup,Russia2018,JPN   \n",
       "98      0     6     PowerByEXO,WorldCup,FIFAStadiumDJ,KAILeague   \n",
       "99      0     1  PowerByEXO,WorldCup,FIFAStadiumDJ,XiuminLeague   \n",
       "\n",
       "                       UserMentionNames  \\\n",
       "0                      Squawka Football   \n",
       "1   FC Barcelona,Ivan Rakitic,HNS | CFF   \n",
       "2     Javier Fernandez,Evgeni Plushenko   \n",
       "3                  EXO,FIFA World Cup ?   \n",
       "4                      Squawka Football   \n",
       "..                                  ...   \n",
       "95                 FIFA World Cup ?,EXO   \n",
       "96                     Football Battles   \n",
       "97                    Kyodo News Sports   \n",
       "98       What if ?,EXO,FIFA World Cup ?   \n",
       "99                 EXO,FIFA World Cup ?   \n",
       "\n",
       "                            UserMentionID                 Name   Place  \\\n",
       "0                                 Squawka               Cayleb   Ghana   \n",
       "1         FCBarcelona,ivanrakitic,HNS_CFF         Febri Aditya   Other   \n",
       "2         javierfernandez,EvgeniPlushenko                   ??   Other   \n",
       "3                weareoneEXO,FIFAWorldCup       Frida Carrillo   Other   \n",
       "4                                 Squawka                  tar   Other   \n",
       "..                                    ...                  ...     ...   \n",
       "95               FIFAWorldCup,weareoneEXO  Minseok el inmortal  Mexico   \n",
       "96                        FootbaIIBattIes                ethan   Other   \n",
       "97                        kyodo_sports_en  Beauty and her bed.   Other   \n",
       "98  callmebabeex,weareoneEXO,FIFAWorldCup              michigo   Other   \n",
       "99               weareoneEXO,FIFAWorldCup       Frida Carrillo   Other   \n",
       "\n",
       "    Followers  Friends  \n",
       "0         861      828  \n",
       "1         667      686  \n",
       "2          65       67  \n",
       "3          17       89  \n",
       "4         137      216  \n",
       "..        ...      ...  \n",
       "95        115        4  \n",
       "96         46      179  \n",
       "97        103      160  \n",
       "98         16       70  \n",
       "99         17       89  \n",
       "\n",
       "[100 rows x 16 columns]"
      ]
     },
     "execution_count": 63,
     "metadata": {},
     "output_type": "execute_result"
    }
   ],
   "source": [
    "fifa_clean.head(100)"
   ]
  },
  {
   "cell_type": "markdown",
   "id": "9e7a2cb0",
   "metadata": {},
   "source": [
    "The columns, ID, la, usermentionId and name dont provide any value and can be dropped."
   ]
  },
  {
   "cell_type": "code",
   "execution_count": 64,
   "id": "bab0670e",
   "metadata": {},
   "outputs": [],
   "source": [
    "#dropping columns\n",
    "fifa_clean = fifa_clean.drop(['ID','lang','UserMentionID', 'Name',], axis = 1)"
   ]
  },
  {
   "cell_type": "code",
   "execution_count": 65,
   "id": "7576b6d9",
   "metadata": {
    "scrolled": true
   },
   "outputs": [
    {
     "name": "stdout",
     "output_type": "stream",
     "text": [
      "<class 'pandas.core.frame.DataFrame'>\n",
      "Int64Index: 529449 entries, 0 to 529999\n",
      "Data columns (total 12 columns):\n",
      " #   Column            Non-Null Count   Dtype         \n",
      "---  ------            --------------   -----         \n",
      " 0   Date              529449 non-null  datetime64[ns]\n",
      " 1   Source            529449 non-null  object        \n",
      " 2   len               529449 non-null  int64         \n",
      " 3   Orig_Tweet        529449 non-null  object        \n",
      " 4   Tweet             529449 non-null  object        \n",
      " 5   Likes             529449 non-null  int64         \n",
      " 6   RTs               529449 non-null  int64         \n",
      " 7   Hashtags          467991 non-null  object        \n",
      " 8   UserMentionNames  455303 non-null  object        \n",
      " 9   Place             529449 non-null  object        \n",
      " 10  Followers         529449 non-null  int64         \n",
      " 11  Friends           529449 non-null  int64         \n",
      "dtypes: datetime64[ns](1), int64(5), object(6)\n",
      "memory usage: 52.5+ MB\n"
     ]
    }
   ],
   "source": [
    "fifa_clean.info()"
   ]
  },
  {
   "cell_type": "markdown",
   "id": "94e85742",
   "metadata": {},
   "source": [
    "In some tweets, no hashtags or mentions were made, in these cases I will fill the values with none to represent no hashtags or mentions"
   ]
  },
  {
   "cell_type": "code",
   "execution_count": 66,
   "id": "db1a8b36",
   "metadata": {},
   "outputs": [],
   "source": [
    "fifa_clean['Hashtags'] = fifa_clean['Hashtags'].fillna('None')"
   ]
  },
  {
   "cell_type": "code",
   "execution_count": 67,
   "id": "bc688749",
   "metadata": {},
   "outputs": [],
   "source": [
    "fifa_clean['UserMentionNames'] = fifa_clean['UserMentionNames'].fillna('None')"
   ]
  },
  {
   "cell_type": "code",
   "execution_count": 119,
   "id": "9b0a7215",
   "metadata": {
    "scrolled": true
   },
   "outputs": [
    {
     "name": "stdout",
     "output_type": "stream",
     "text": [
      "<class 'pandas.core.frame.DataFrame'>\n",
      "RangeIndex: 529449 entries, 0 to 529448\n",
      "Data columns (total 14 columns):\n",
      " #   Column            Non-Null Count   Dtype         \n",
      "---  ------            --------------   -----         \n",
      " 0   Date              529449 non-null  datetime64[ns]\n",
      " 1   Source            529449 non-null  object        \n",
      " 2   len               529449 non-null  int64         \n",
      " 3   Orig_Tweet        529449 non-null  object        \n",
      " 4   Tweet             529449 non-null  object        \n",
      " 5   Likes             529449 non-null  int64         \n",
      " 6   RTs               529449 non-null  int64         \n",
      " 7   Hashtags          529449 non-null  object        \n",
      " 8   UserMentionNames  529449 non-null  object        \n",
      " 9   Place             529449 non-null  object        \n",
      " 10  Followers         529449 non-null  int64         \n",
      " 11  Friends           529449 non-null  int64         \n",
      " 12  vadar compound    529449 non-null  float64       \n",
      " 13  vadar sentiment   529449 non-null  object        \n",
      "dtypes: datetime64[ns](1), float64(1), int64(5), object(7)\n",
      "memory usage: 56.6+ MB\n"
     ]
    }
   ],
   "source": [
    "fifa_clean.info()"
   ]
  },
  {
   "cell_type": "code",
   "execution_count": 69,
   "id": "f054dc25",
   "metadata": {},
   "outputs": [],
   "source": [
    "#resetting index\n",
    "fifa_clean = fifa_clean.reset_index(drop=True)"
   ]
  },
  {
   "cell_type": "code",
   "execution_count": 70,
   "id": "fb8e6e82",
   "metadata": {},
   "outputs": [
    {
     "data": {
      "text/html": [
       "<div>\n",
       "<style scoped>\n",
       "    .dataframe tbody tr th:only-of-type {\n",
       "        vertical-align: middle;\n",
       "    }\n",
       "\n",
       "    .dataframe tbody tr th {\n",
       "        vertical-align: top;\n",
       "    }\n",
       "\n",
       "    .dataframe thead th {\n",
       "        text-align: right;\n",
       "    }\n",
       "</style>\n",
       "<table border=\"1\" class=\"dataframe\">\n",
       "  <thead>\n",
       "    <tr style=\"text-align: right;\">\n",
       "      <th></th>\n",
       "      <th>Date</th>\n",
       "      <th>Source</th>\n",
       "      <th>len</th>\n",
       "      <th>Orig_Tweet</th>\n",
       "      <th>Tweet</th>\n",
       "      <th>Likes</th>\n",
       "      <th>RTs</th>\n",
       "      <th>Hashtags</th>\n",
       "      <th>UserMentionNames</th>\n",
       "      <th>Place</th>\n",
       "      <th>Followers</th>\n",
       "      <th>Friends</th>\n",
       "    </tr>\n",
       "  </thead>\n",
       "  <tbody>\n",
       "    <tr>\n",
       "      <th>0</th>\n",
       "      <td>2018-07-02 01:35:45</td>\n",
       "      <td>Twitter for Android</td>\n",
       "      <td>140</td>\n",
       "      <td>RT @Squawka: Only two goalkeepers have saved three penalties in a #WorldCup penalty shoot-out: \\r\\n\\r\\n1/7/2006: #POR's Ricardo vs. #ENG \\r\\n\\r\\n1/7/20…</td>\n",
       "      <td>Only two goalkeepers have saved three penalties in penalty shoot out Ricardo vs</td>\n",
       "      <td>0</td>\n",
       "      <td>477</td>\n",
       "      <td>WorldCup,POR,ENG</td>\n",
       "      <td>Squawka Football</td>\n",
       "      <td>Ghana</td>\n",
       "      <td>861</td>\n",
       "      <td>828</td>\n",
       "    </tr>\n",
       "    <tr>\n",
       "      <th>1</th>\n",
       "      <td>2018-07-02 01:35:44</td>\n",
       "      <td>Twitter for Android</td>\n",
       "      <td>139</td>\n",
       "      <td>RT @FCBarcelona: ?? @ivanrakitic scores the winning penalty to send @HNS_CFF into the #WorldCup quarter-finals, where they'll face Russia!…</td>\n",
       "      <td>scores the winning penalty to send into the quarter finals where they will face Russia</td>\n",
       "      <td>0</td>\n",
       "      <td>1031</td>\n",
       "      <td>WorldCup</td>\n",
       "      <td>FC Barcelona,Ivan Rakitic,HNS | CFF</td>\n",
       "      <td>Other</td>\n",
       "      <td>667</td>\n",
       "      <td>686</td>\n",
       "    </tr>\n",
       "    <tr>\n",
       "      <th>2</th>\n",
       "      <td>2018-07-02 01:35:42</td>\n",
       "      <td>Twitter for Android</td>\n",
       "      <td>107</td>\n",
       "      <td>RT @javierfernandez: Tonight we have big game.... @EvgeniPlushenko ?????? #worldcup https://t.co/LKifuNlubC</td>\n",
       "      <td>Tonight we have big game</td>\n",
       "      <td>0</td>\n",
       "      <td>488</td>\n",
       "      <td>worldcup</td>\n",
       "      <td>Javier Fernandez,Evgeni Plushenko</td>\n",
       "      <td>Other</td>\n",
       "      <td>65</td>\n",
       "      <td>67</td>\n",
       "    </tr>\n",
       "    <tr>\n",
       "      <th>3</th>\n",
       "      <td>2018-07-02 01:35:41</td>\n",
       "      <td>Twitter Web Client</td>\n",
       "      <td>142</td>\n",
       "      <td>We get stronger\\r\\nTurn the music up now\\r\\nWe got that power power~\\r\\n\\r\\n#PowerByEXO #WorldCup #FIFAStadiumDJ #XiuminLeague \\r\\n@weareoneEXO @FIFAWorldCup</td>\n",
       "      <td>We get stronger Turn the music up now We got that power power</td>\n",
       "      <td>0</td>\n",
       "      <td>0</td>\n",
       "      <td>PowerByEXO,WorldCup,FIFAStadiumDJ,XiuminLeague</td>\n",
       "      <td>EXO,FIFA World Cup ?</td>\n",
       "      <td>Other</td>\n",
       "      <td>17</td>\n",
       "      <td>89</td>\n",
       "    </tr>\n",
       "    <tr>\n",
       "      <th>4</th>\n",
       "      <td>2018-07-02 01:35:40</td>\n",
       "      <td>Twitter for Android</td>\n",
       "      <td>140</td>\n",
       "      <td>RT @Squawka: Only two goalkeepers have saved three penalties in a #WorldCup penalty shoot-out: \\r\\n\\r\\n1/7/2006: #POR's Ricardo vs. #ENG \\r\\n\\r\\n1/7/20…</td>\n",
       "      <td>Only two goalkeepers have saved three penalties in penalty shoot out Ricardo vs</td>\n",
       "      <td>0</td>\n",
       "      <td>477</td>\n",
       "      <td>WorldCup,POR,ENG</td>\n",
       "      <td>Squawka Football</td>\n",
       "      <td>Other</td>\n",
       "      <td>137</td>\n",
       "      <td>216</td>\n",
       "    </tr>\n",
       "  </tbody>\n",
       "</table>\n",
       "</div>"
      ],
      "text/plain": [
       "                 Date               Source  len  \\\n",
       "0 2018-07-02 01:35:45  Twitter for Android  140   \n",
       "1 2018-07-02 01:35:44  Twitter for Android  139   \n",
       "2 2018-07-02 01:35:42  Twitter for Android  107   \n",
       "3 2018-07-02 01:35:41   Twitter Web Client  142   \n",
       "4 2018-07-02 01:35:40  Twitter for Android  140   \n",
       "\n",
       "                                                                                                                                                      Orig_Tweet  \\\n",
       "0       RT @Squawka: Only two goalkeepers have saved three penalties in a #WorldCup penalty shoot-out: \\r\\n\\r\\n1/7/2006: #POR's Ricardo vs. #ENG \\r\\n\\r\\n1/7/20…   \n",
       "1                    RT @FCBarcelona: ?? @ivanrakitic scores the winning penalty to send @HNS_CFF into the #WorldCup quarter-finals, where they'll face Russia!…   \n",
       "2                                                    RT @javierfernandez: Tonight we have big game.... @EvgeniPlushenko ?????? #worldcup https://t.co/LKifuNlubC   \n",
       "3  We get stronger\\r\\nTurn the music up now\\r\\nWe got that power power~\\r\\n\\r\\n#PowerByEXO #WorldCup #FIFAStadiumDJ #XiuminLeague \\r\\n@weareoneEXO @FIFAWorldCup   \n",
       "4       RT @Squawka: Only two goalkeepers have saved three penalties in a #WorldCup penalty shoot-out: \\r\\n\\r\\n1/7/2006: #POR's Ricardo vs. #ENG \\r\\n\\r\\n1/7/20…   \n",
       "\n",
       "                                                                                    Tweet  \\\n",
       "0         Only two goalkeepers have saved three penalties in penalty shoot out Ricardo vs   \n",
       "1  scores the winning penalty to send into the quarter finals where they will face Russia   \n",
       "2                                                                Tonight we have big game   \n",
       "3                           We get stronger Turn the music up now We got that power power   \n",
       "4         Only two goalkeepers have saved three penalties in penalty shoot out Ricardo vs   \n",
       "\n",
       "   Likes   RTs                                        Hashtags  \\\n",
       "0      0   477                                WorldCup,POR,ENG   \n",
       "1      0  1031                                        WorldCup   \n",
       "2      0   488                                        worldcup   \n",
       "3      0     0  PowerByEXO,WorldCup,FIFAStadiumDJ,XiuminLeague   \n",
       "4      0   477                                WorldCup,POR,ENG   \n",
       "\n",
       "                      UserMentionNames  Place  Followers  Friends  \n",
       "0                     Squawka Football  Ghana        861      828  \n",
       "1  FC Barcelona,Ivan Rakitic,HNS | CFF  Other        667      686  \n",
       "2    Javier Fernandez,Evgeni Plushenko  Other         65       67  \n",
       "3                 EXO,FIFA World Cup ?  Other         17       89  \n",
       "4                     Squawka Football  Other        137      216  "
      ]
     },
     "execution_count": 70,
     "metadata": {},
     "output_type": "execute_result"
    }
   ],
   "source": [
    "fifa_clean.head()"
   ]
  },
  {
   "cell_type": "markdown",
   "id": "8eb28885",
   "metadata": {},
   "source": [
    "### fifa_clean is good here, initial EDA is done"
   ]
  },
  {
   "cell_type": "markdown",
   "id": "287e8a1b",
   "metadata": {},
   "source": [
    "### Now I will use vadar to analyze the sentiment of each tweet"
   ]
  },
  {
   "cell_type": "markdown",
   "id": "5a7786fc",
   "metadata": {},
   "source": [
    "Firstly, download nltk to use vadar"
   ]
  },
  {
   "cell_type": "code",
   "execution_count": 71,
   "id": "9c951682",
   "metadata": {},
   "outputs": [],
   "source": [
    "#nltk.download()"
   ]
  },
  {
   "cell_type": "code",
   "execution_count": 72,
   "id": "47357990",
   "metadata": {},
   "outputs": [],
   "source": [
    "#setting up functions to use to get vadar sentiment analysis\n",
    "from nltk.sentiment.vader import SentimentIntensityAnalyzer\n",
    "sent_i = SentimentIntensityAnalyzer()\n",
    "\n",
    "def vadar_sentiment(text):\n",
    "    \"\"\" Calculate and return the nltk vadar (lexicon method) sentiment \"\"\"\n",
    "    return sent_i.polarity_scores(text)['compound']\n",
    "\n",
    "\n",
    "\n",
    "def categorise_sentiment(sentiment, neg_threshold=-0.05, pos_threshold=0.05):\n",
    "    \"\"\" categorise the sentiment value as positive (1), negative (-1) \n",
    "        or ne utral (0) based on given thresholds \"\"\"\n",
    "    if sentiment < neg_threshold:\n",
    "        label = 'negative'\n",
    "    elif sentiment > pos_threshold:\n",
    "        label = 'positive'\n",
    "    else:\n",
    "        label = 'neutral'\n",
    "    return label\n"
   ]
  },
  {
   "cell_type": "code",
   "execution_count": 73,
   "id": "4f5497f3",
   "metadata": {},
   "outputs": [
    {
     "data": {
      "text/plain": [
       "0                             Only two goalkeepers have saved three penalties in penalty shoot out Ricardo vs\n",
       "1                      scores the winning penalty to send into the quarter finals where they will face Russia\n",
       "2                                                                                    Tonight we have big game\n",
       "3                                               We get stronger Turn the music up now We got that power power\n",
       "4                             Only two goalkeepers have saved three penalties in penalty shoot out Ricardo vs\n",
       "                                                         ...                                                 \n",
       "529444                                                                     France have won the FIFA in Moscow\n",
       "529445                                     Beyonc JAY performed in blue jersey to celebrate Frances win today\n",
       "529446              They don say immigrants are ruining France when they re taking political credit for glory\n",
       "529447                                                                             starts for in todays final\n",
       "529448    Dear France Congratulations on winning the of your team is African cut out the racism and xenophobi\n",
       "Name: Tweet, Length: 529449, dtype: object"
      ]
     },
     "execution_count": 73,
     "metadata": {},
     "output_type": "execute_result"
    }
   ],
   "source": [
    "fifa_clean['Tweet']"
   ]
  },
  {
   "cell_type": "code",
   "execution_count": 74,
   "id": "fd9c2e08",
   "metadata": {
    "scrolled": true
   },
   "outputs": [],
   "source": [
    "# create new column for vadar compound sentiment score\n",
    "fifa_clean['vadar compound'] = fifa_clean['Tweet'].apply(vadar_sentiment)\n"
   ]
  },
  {
   "cell_type": "code",
   "execution_count": 75,
   "id": "5b16ce77",
   "metadata": {},
   "outputs": [],
   "source": [
    "# new col with vadar sentiment label based on vadar compound score\n",
    "fifa_clean['vadar sentiment'] = fifa_clean['vadar compound'].apply(categorise_sentiment)"
   ]
  },
  {
   "cell_type": "markdown",
   "id": "1bec0e99",
   "metadata": {},
   "source": [
    "Looking at vadar sentiment on the tweets"
   ]
  },
  {
   "cell_type": "code",
   "execution_count": 76,
   "id": "bdabf0ed",
   "metadata": {},
   "outputs": [
    {
     "data": {
      "text/html": [
       "<div>\n",
       "<style scoped>\n",
       "    .dataframe tbody tr th:only-of-type {\n",
       "        vertical-align: middle;\n",
       "    }\n",
       "\n",
       "    .dataframe tbody tr th {\n",
       "        vertical-align: top;\n",
       "    }\n",
       "\n",
       "    .dataframe thead th {\n",
       "        text-align: right;\n",
       "    }\n",
       "</style>\n",
       "<table border=\"1\" class=\"dataframe\">\n",
       "  <thead>\n",
       "    <tr style=\"text-align: right;\">\n",
       "      <th></th>\n",
       "      <th>Date</th>\n",
       "      <th>Source</th>\n",
       "      <th>len</th>\n",
       "      <th>Orig_Tweet</th>\n",
       "      <th>Tweet</th>\n",
       "      <th>Likes</th>\n",
       "      <th>RTs</th>\n",
       "      <th>Hashtags</th>\n",
       "      <th>UserMentionNames</th>\n",
       "      <th>Place</th>\n",
       "      <th>Followers</th>\n",
       "      <th>Friends</th>\n",
       "      <th>vadar compound</th>\n",
       "      <th>vadar sentiment</th>\n",
       "    </tr>\n",
       "  </thead>\n",
       "  <tbody>\n",
       "    <tr>\n",
       "      <th>0</th>\n",
       "      <td>2018-07-02 01:35:45</td>\n",
       "      <td>Twitter for Android</td>\n",
       "      <td>140</td>\n",
       "      <td>RT @Squawka: Only two goalkeepers have saved three penalties in a #WorldCup penalty shoot-out: \\r\\n\\r\\n1/7/2006: #POR's Ricardo vs. #ENG \\r\\n\\r\\n1/7/20…</td>\n",
       "      <td>Only two goalkeepers have saved three penalties in penalty shoot out Ricardo vs</td>\n",
       "      <td>0</td>\n",
       "      <td>477</td>\n",
       "      <td>WorldCup,POR,ENG</td>\n",
       "      <td>Squawka Football</td>\n",
       "      <td>Ghana</td>\n",
       "      <td>861</td>\n",
       "      <td>828</td>\n",
       "      <td>-0.3818</td>\n",
       "      <td>negative</td>\n",
       "    </tr>\n",
       "    <tr>\n",
       "      <th>1</th>\n",
       "      <td>2018-07-02 01:35:44</td>\n",
       "      <td>Twitter for Android</td>\n",
       "      <td>139</td>\n",
       "      <td>RT @FCBarcelona: ?? @ivanrakitic scores the winning penalty to send @HNS_CFF into the #WorldCup quarter-finals, where they'll face Russia!…</td>\n",
       "      <td>scores the winning penalty to send into the quarter finals where they will face Russia</td>\n",
       "      <td>0</td>\n",
       "      <td>1031</td>\n",
       "      <td>WorldCup</td>\n",
       "      <td>FC Barcelona,Ivan Rakitic,HNS | CFF</td>\n",
       "      <td>Other</td>\n",
       "      <td>667</td>\n",
       "      <td>686</td>\n",
       "      <td>0.1027</td>\n",
       "      <td>positive</td>\n",
       "    </tr>\n",
       "    <tr>\n",
       "      <th>2</th>\n",
       "      <td>2018-07-02 01:35:42</td>\n",
       "      <td>Twitter for Android</td>\n",
       "      <td>107</td>\n",
       "      <td>RT @javierfernandez: Tonight we have big game.... @EvgeniPlushenko ?????? #worldcup https://t.co/LKifuNlubC</td>\n",
       "      <td>Tonight we have big game</td>\n",
       "      <td>0</td>\n",
       "      <td>488</td>\n",
       "      <td>worldcup</td>\n",
       "      <td>Javier Fernandez,Evgeni Plushenko</td>\n",
       "      <td>Other</td>\n",
       "      <td>65</td>\n",
       "      <td>67</td>\n",
       "      <td>0.0000</td>\n",
       "      <td>neutral</td>\n",
       "    </tr>\n",
       "    <tr>\n",
       "      <th>3</th>\n",
       "      <td>2018-07-02 01:35:41</td>\n",
       "      <td>Twitter Web Client</td>\n",
       "      <td>142</td>\n",
       "      <td>We get stronger\\r\\nTurn the music up now\\r\\nWe got that power power~\\r\\n\\r\\n#PowerByEXO #WorldCup #FIFAStadiumDJ #XiuminLeague \\r\\n@weareoneEXO @FIFAWorldCup</td>\n",
       "      <td>We get stronger Turn the music up now We got that power power</td>\n",
       "      <td>0</td>\n",
       "      <td>0</td>\n",
       "      <td>PowerByEXO,WorldCup,FIFAStadiumDJ,XiuminLeague</td>\n",
       "      <td>EXO,FIFA World Cup ?</td>\n",
       "      <td>Other</td>\n",
       "      <td>17</td>\n",
       "      <td>89</td>\n",
       "      <td>0.3818</td>\n",
       "      <td>positive</td>\n",
       "    </tr>\n",
       "    <tr>\n",
       "      <th>4</th>\n",
       "      <td>2018-07-02 01:35:40</td>\n",
       "      <td>Twitter for Android</td>\n",
       "      <td>140</td>\n",
       "      <td>RT @Squawka: Only two goalkeepers have saved three penalties in a #WorldCup penalty shoot-out: \\r\\n\\r\\n1/7/2006: #POR's Ricardo vs. #ENG \\r\\n\\r\\n1/7/20…</td>\n",
       "      <td>Only two goalkeepers have saved three penalties in penalty shoot out Ricardo vs</td>\n",
       "      <td>0</td>\n",
       "      <td>477</td>\n",
       "      <td>WorldCup,POR,ENG</td>\n",
       "      <td>Squawka Football</td>\n",
       "      <td>Other</td>\n",
       "      <td>137</td>\n",
       "      <td>216</td>\n",
       "      <td>-0.3818</td>\n",
       "      <td>negative</td>\n",
       "    </tr>\n",
       "  </tbody>\n",
       "</table>\n",
       "</div>"
      ],
      "text/plain": [
       "                 Date               Source  len  \\\n",
       "0 2018-07-02 01:35:45  Twitter for Android  140   \n",
       "1 2018-07-02 01:35:44  Twitter for Android  139   \n",
       "2 2018-07-02 01:35:42  Twitter for Android  107   \n",
       "3 2018-07-02 01:35:41   Twitter Web Client  142   \n",
       "4 2018-07-02 01:35:40  Twitter for Android  140   \n",
       "\n",
       "                                                                                                                                                      Orig_Tweet  \\\n",
       "0       RT @Squawka: Only two goalkeepers have saved three penalties in a #WorldCup penalty shoot-out: \\r\\n\\r\\n1/7/2006: #POR's Ricardo vs. #ENG \\r\\n\\r\\n1/7/20…   \n",
       "1                    RT @FCBarcelona: ?? @ivanrakitic scores the winning penalty to send @HNS_CFF into the #WorldCup quarter-finals, where they'll face Russia!…   \n",
       "2                                                    RT @javierfernandez: Tonight we have big game.... @EvgeniPlushenko ?????? #worldcup https://t.co/LKifuNlubC   \n",
       "3  We get stronger\\r\\nTurn the music up now\\r\\nWe got that power power~\\r\\n\\r\\n#PowerByEXO #WorldCup #FIFAStadiumDJ #XiuminLeague \\r\\n@weareoneEXO @FIFAWorldCup   \n",
       "4       RT @Squawka: Only two goalkeepers have saved three penalties in a #WorldCup penalty shoot-out: \\r\\n\\r\\n1/7/2006: #POR's Ricardo vs. #ENG \\r\\n\\r\\n1/7/20…   \n",
       "\n",
       "                                                                                    Tweet  \\\n",
       "0         Only two goalkeepers have saved three penalties in penalty shoot out Ricardo vs   \n",
       "1  scores the winning penalty to send into the quarter finals where they will face Russia   \n",
       "2                                                                Tonight we have big game   \n",
       "3                           We get stronger Turn the music up now We got that power power   \n",
       "4         Only two goalkeepers have saved three penalties in penalty shoot out Ricardo vs   \n",
       "\n",
       "   Likes   RTs                                        Hashtags  \\\n",
       "0      0   477                                WorldCup,POR,ENG   \n",
       "1      0  1031                                        WorldCup   \n",
       "2      0   488                                        worldcup   \n",
       "3      0     0  PowerByEXO,WorldCup,FIFAStadiumDJ,XiuminLeague   \n",
       "4      0   477                                WorldCup,POR,ENG   \n",
       "\n",
       "                      UserMentionNames  Place  Followers  Friends  \\\n",
       "0                     Squawka Football  Ghana        861      828   \n",
       "1  FC Barcelona,Ivan Rakitic,HNS | CFF  Other        667      686   \n",
       "2    Javier Fernandez,Evgeni Plushenko  Other         65       67   \n",
       "3                 EXO,FIFA World Cup ?  Other         17       89   \n",
       "4                     Squawka Football  Other        137      216   \n",
       "\n",
       "   vadar compound vadar sentiment  \n",
       "0         -0.3818        negative  \n",
       "1          0.1027        positive  \n",
       "2          0.0000         neutral  \n",
       "3          0.3818        positive  \n",
       "4         -0.3818        negative  "
      ]
     },
     "execution_count": 76,
     "metadata": {},
     "output_type": "execute_result"
    }
   ],
   "source": [
    "fifa_clean.head()"
   ]
  },
  {
   "cell_type": "code",
   "execution_count": 77,
   "id": "299bad19",
   "metadata": {
    "scrolled": true
   },
   "outputs": [
    {
     "name": "stdout",
     "output_type": "stream",
     "text": [
      "<class 'pandas.core.frame.DataFrame'>\n",
      "RangeIndex: 529449 entries, 0 to 529448\n",
      "Data columns (total 14 columns):\n",
      " #   Column            Non-Null Count   Dtype         \n",
      "---  ------            --------------   -----         \n",
      " 0   Date              529449 non-null  datetime64[ns]\n",
      " 1   Source            529449 non-null  object        \n",
      " 2   len               529449 non-null  int64         \n",
      " 3   Orig_Tweet        529449 non-null  object        \n",
      " 4   Tweet             529449 non-null  object        \n",
      " 5   Likes             529449 non-null  int64         \n",
      " 6   RTs               529449 non-null  int64         \n",
      " 7   Hashtags          529449 non-null  object        \n",
      " 8   UserMentionNames  529449 non-null  object        \n",
      " 9   Place             529449 non-null  object        \n",
      " 10  Followers         529449 non-null  int64         \n",
      " 11  Friends           529449 non-null  int64         \n",
      " 12  vadar compound    529449 non-null  float64       \n",
      " 13  vadar sentiment   529449 non-null  object        \n",
      "dtypes: datetime64[ns](1), float64(1), int64(5), object(7)\n",
      "memory usage: 56.6+ MB\n"
     ]
    }
   ],
   "source": [
    "fifa_clean.info()"
   ]
  },
  {
   "cell_type": "code",
   "execution_count": 121,
   "id": "66f500dd",
   "metadata": {
    "scrolled": true
   },
   "outputs": [
    {
     "data": {
      "image/png": "[encoded data removed]",
      "text/plain": [
       "<Figure size 432x288 with 1 Axes>"
      ]
     },
     "metadata": {
      "needs_background": "light"
     },
     "output_type": "display_data"
    }
   ],
   "source": [
    "#distibution of tweets\n",
    "plt.figure()\n",
    "fifa_clean['vadar sentiment'].value_counts().plot(kind='barh')\n",
    "plt.title('Sentiment of Tweets')\n",
    "plt.xlabel('Tweet Count')\n",
    "plt.ylabel('Sentiment')\n",
    "plt.show()\n"
   ]
  },
  {
   "cell_type": "markdown",
   "id": "a48d9dca",
   "metadata": {},
   "source": [
    "54.7% of all tweets in the dataset were considered to be positive, 32.1% were neutral and 13.1% were negative."
   ]
  },
  {
   "cell_type": "markdown",
   "id": "5b6110ba",
   "metadata": {},
   "source": [
    "Most tweets are classified as positive using the vadar sentiment analyzer, thus this should be kept in the back of one's mind when exploring various topics in the dataset."
   ]
  },
  {
   "cell_type": "markdown",
   "id": "71bf2d13",
   "metadata": {},
   "source": [
    "### Now I will vectorize tweet data to look at various popular topics and how they are viewed based on twitter sentiment analysis"
   ]
  },
  {
   "cell_type": "code",
   "execution_count": 79,
   "id": "95019f2f",
   "metadata": {},
   "outputs": [],
   "source": [
    "# importing vectorizer\n",
    "from sklearn.feature_extraction.text import CountVectorizer"
   ]
  },
  {
   "cell_type": "code",
   "execution_count": 80,
   "id": "6d327c36",
   "metadata": {
    "scrolled": true
   },
   "outputs": [
    {
     "name": "stderr",
     "output_type": "stream",
     "text": [
      "[nltk_data] Downloading package stopwords to\n",
      "[nltk_data]     C:\\Users\\miles\\AppData\\Roaming\\nltk_data...\n",
      "[nltk_data]   Package stopwords is already up-to-date!\n"
     ]
    }
   ],
   "source": [
    "#creating relatively strict tokenizer\n",
    "import string\n",
    "import nltk\n",
    "# Let's test it out\n",
    "stemmer = nltk.stem.PorterStemmer()\n",
    "# import the nltk stopwords\n",
    "nltk.download('stopwords')\n",
    "from nltk.corpus import stopwords \n",
    "\n",
    "ENGLISH_STOP_WORDS = stopwords.words('english')\n",
    "\n",
    "def my_tokenizer(sentence):\n",
    "    # remove punctuation and set to lower case\n",
    "    for punctuation_mark in string.punctuation:\n",
    "        sentence = sentence.replace(punctuation_mark,'').lower()\n",
    "\n",
    "    # split sentence into words\n",
    "    listofwords = sentence.split(' ')\n",
    "    listofstemmed_words = []\n",
    "    \n",
    "    # remove stopwords and any tokens that are just empty strings\n",
    "    for word in listofwords:\n",
    "        if (not word in ENGLISH_STOP_WORDS) and (word!=''):\n",
    "            # Stem words\n",
    "            stemmed_word = stemmer.stem(word)\n",
    "            listofstemmed_words.append(stemmed_word)\n",
    "\n",
    "    return listofstemmed_words"
   ]
  },
  {
   "cell_type": "code",
   "execution_count": 81,
   "id": "4526e602",
   "metadata": {},
   "outputs": [
    {
     "name": "stderr",
     "output_type": "stream",
     "text": [
      "C:\\Users\\miles\\anaconda3\\lib\\site-packages\\sklearn\\feature_extraction\\text.py:516: UserWarning: The parameter 'token_pattern' will not be used since 'tokenizer' is not None'\n",
      "  warnings.warn(\n"
     ]
    },
    {
     "data": {
      "text/plain": [
       "<529449x600 sparse matrix of type '<class 'numpy.int64'>'\n",
       "\twith 2800241 stored elements in Compressed Sparse Row format>"
      ]
     },
     "execution_count": 81,
     "metadata": {},
     "output_type": "execute_result"
    }
   ],
   "source": [
    "#creating bag of words model\n",
    "# 1. Instantiate \n",
    "bagofwords = CountVectorizer(min_df = 1000, tokenizer=my_tokenizer )\n",
    "\n",
    "# 2. Fit \n",
    "bagofwords.fit(fifa_clean['Tweet'])\n",
    "\n",
    "# 3. Transform\n",
    "fifa_clean_transformed = bagofwords.transform(fifa_clean['Tweet'])\n",
    "fifa_clean_transformed\n"
   ]
  },
  {
   "cell_type": "code",
   "execution_count": 82,
   "id": "e139b10f",
   "metadata": {
    "scrolled": true
   },
   "outputs": [
    {
     "data": {
      "text/html": [
       "<div>\n",
       "<style scoped>\n",
       "    .dataframe tbody tr th:only-of-type {\n",
       "        vertical-align: middle;\n",
       "    }\n",
       "\n",
       "    .dataframe tbody tr th {\n",
       "        vertical-align: top;\n",
       "    }\n",
       "\n",
       "    .dataframe thead th {\n",
       "        text-align: right;\n",
       "    }\n",
       "</style>\n",
       "<table border=\"1\" class=\"dataframe\">\n",
       "  <thead>\n",
       "    <tr style=\"text-align: right;\">\n",
       "      <th></th>\n",
       "      <th>absolut</th>\n",
       "      <th>action</th>\n",
       "      <th>add</th>\n",
       "      <th>adida</th>\n",
       "      <th>advanc</th>\n",
       "      <th>aerial</th>\n",
       "      <th>africa</th>\n",
       "      <th>african</th>\n",
       "      <th>age</th>\n",
       "      <th>ago</th>\n",
       "      <th>...</th>\n",
       "      <th>worldcup</th>\n",
       "      <th>worst</th>\n",
       "      <th>would</th>\n",
       "      <th>wow</th>\n",
       "      <th>xenophobi</th>\n",
       "      <th>xi</th>\n",
       "      <th>ye</th>\n",
       "      <th>year</th>\n",
       "      <th>yet</th>\n",
       "      <th>young</th>\n",
       "    </tr>\n",
       "  </thead>\n",
       "  <tbody>\n",
       "    <tr>\n",
       "      <th>0</th>\n",
       "      <td>0</td>\n",
       "      <td>0</td>\n",
       "      <td>0</td>\n",
       "      <td>0</td>\n",
       "      <td>0</td>\n",
       "      <td>0</td>\n",
       "      <td>0</td>\n",
       "      <td>0</td>\n",
       "      <td>0</td>\n",
       "      <td>0</td>\n",
       "      <td>...</td>\n",
       "      <td>0</td>\n",
       "      <td>0</td>\n",
       "      <td>0</td>\n",
       "      <td>0</td>\n",
       "      <td>0</td>\n",
       "      <td>0</td>\n",
       "      <td>0</td>\n",
       "      <td>0</td>\n",
       "      <td>0</td>\n",
       "      <td>0</td>\n",
       "    </tr>\n",
       "    <tr>\n",
       "      <th>1</th>\n",
       "      <td>0</td>\n",
       "      <td>0</td>\n",
       "      <td>0</td>\n",
       "      <td>0</td>\n",
       "      <td>0</td>\n",
       "      <td>0</td>\n",
       "      <td>0</td>\n",
       "      <td>0</td>\n",
       "      <td>0</td>\n",
       "      <td>0</td>\n",
       "      <td>...</td>\n",
       "      <td>0</td>\n",
       "      <td>0</td>\n",
       "      <td>0</td>\n",
       "      <td>0</td>\n",
       "      <td>0</td>\n",
       "      <td>0</td>\n",
       "      <td>0</td>\n",
       "      <td>0</td>\n",
       "      <td>0</td>\n",
       "      <td>0</td>\n",
       "    </tr>\n",
       "    <tr>\n",
       "      <th>2</th>\n",
       "      <td>0</td>\n",
       "      <td>0</td>\n",
       "      <td>0</td>\n",
       "      <td>0</td>\n",
       "      <td>0</td>\n",
       "      <td>0</td>\n",
       "      <td>0</td>\n",
       "      <td>0</td>\n",
       "      <td>0</td>\n",
       "      <td>0</td>\n",
       "      <td>...</td>\n",
       "      <td>0</td>\n",
       "      <td>0</td>\n",
       "      <td>0</td>\n",
       "      <td>0</td>\n",
       "      <td>0</td>\n",
       "      <td>0</td>\n",
       "      <td>0</td>\n",
       "      <td>0</td>\n",
       "      <td>0</td>\n",
       "      <td>0</td>\n",
       "    </tr>\n",
       "    <tr>\n",
       "      <th>3</th>\n",
       "      <td>0</td>\n",
       "      <td>0</td>\n",
       "      <td>0</td>\n",
       "      <td>0</td>\n",
       "      <td>0</td>\n",
       "      <td>0</td>\n",
       "      <td>0</td>\n",
       "      <td>0</td>\n",
       "      <td>0</td>\n",
       "      <td>0</td>\n",
       "      <td>...</td>\n",
       "      <td>0</td>\n",
       "      <td>0</td>\n",
       "      <td>0</td>\n",
       "      <td>0</td>\n",
       "      <td>0</td>\n",
       "      <td>0</td>\n",
       "      <td>0</td>\n",
       "      <td>0</td>\n",
       "      <td>0</td>\n",
       "      <td>0</td>\n",
       "    </tr>\n",
       "    <tr>\n",
       "      <th>4</th>\n",
       "      <td>0</td>\n",
       "      <td>0</td>\n",
       "      <td>0</td>\n",
       "      <td>0</td>\n",
       "      <td>0</td>\n",
       "      <td>0</td>\n",
       "      <td>0</td>\n",
       "      <td>0</td>\n",
       "      <td>0</td>\n",
       "      <td>0</td>\n",
       "      <td>...</td>\n",
       "      <td>0</td>\n",
       "      <td>0</td>\n",
       "      <td>0</td>\n",
       "      <td>0</td>\n",
       "      <td>0</td>\n",
       "      <td>0</td>\n",
       "      <td>0</td>\n",
       "      <td>0</td>\n",
       "      <td>0</td>\n",
       "      <td>0</td>\n",
       "    </tr>\n",
       "    <tr>\n",
       "      <th>...</th>\n",
       "      <td>...</td>\n",
       "      <td>...</td>\n",
       "      <td>...</td>\n",
       "      <td>...</td>\n",
       "      <td>...</td>\n",
       "      <td>...</td>\n",
       "      <td>...</td>\n",
       "      <td>...</td>\n",
       "      <td>...</td>\n",
       "      <td>...</td>\n",
       "      <td>...</td>\n",
       "      <td>...</td>\n",
       "      <td>...</td>\n",
       "      <td>...</td>\n",
       "      <td>...</td>\n",
       "      <td>...</td>\n",
       "      <td>...</td>\n",
       "      <td>...</td>\n",
       "      <td>...</td>\n",
       "      <td>...</td>\n",
       "      <td>...</td>\n",
       "    </tr>\n",
       "    <tr>\n",
       "      <th>529444</th>\n",
       "      <td>0</td>\n",
       "      <td>0</td>\n",
       "      <td>0</td>\n",
       "      <td>0</td>\n",
       "      <td>0</td>\n",
       "      <td>0</td>\n",
       "      <td>0</td>\n",
       "      <td>0</td>\n",
       "      <td>0</td>\n",
       "      <td>0</td>\n",
       "      <td>...</td>\n",
       "      <td>0</td>\n",
       "      <td>0</td>\n",
       "      <td>0</td>\n",
       "      <td>0</td>\n",
       "      <td>0</td>\n",
       "      <td>0</td>\n",
       "      <td>0</td>\n",
       "      <td>0</td>\n",
       "      <td>0</td>\n",
       "      <td>0</td>\n",
       "    </tr>\n",
       "    <tr>\n",
       "      <th>529445</th>\n",
       "      <td>0</td>\n",
       "      <td>0</td>\n",
       "      <td>0</td>\n",
       "      <td>0</td>\n",
       "      <td>0</td>\n",
       "      <td>0</td>\n",
       "      <td>0</td>\n",
       "      <td>0</td>\n",
       "      <td>0</td>\n",
       "      <td>0</td>\n",
       "      <td>...</td>\n",
       "      <td>0</td>\n",
       "      <td>0</td>\n",
       "      <td>0</td>\n",
       "      <td>0</td>\n",
       "      <td>0</td>\n",
       "      <td>0</td>\n",
       "      <td>0</td>\n",
       "      <td>0</td>\n",
       "      <td>0</td>\n",
       "      <td>0</td>\n",
       "    </tr>\n",
       "    <tr>\n",
       "      <th>529446</th>\n",
       "      <td>0</td>\n",
       "      <td>0</td>\n",
       "      <td>0</td>\n",
       "      <td>0</td>\n",
       "      <td>0</td>\n",
       "      <td>0</td>\n",
       "      <td>0</td>\n",
       "      <td>0</td>\n",
       "      <td>0</td>\n",
       "      <td>0</td>\n",
       "      <td>...</td>\n",
       "      <td>0</td>\n",
       "      <td>0</td>\n",
       "      <td>0</td>\n",
       "      <td>0</td>\n",
       "      <td>0</td>\n",
       "      <td>0</td>\n",
       "      <td>0</td>\n",
       "      <td>0</td>\n",
       "      <td>0</td>\n",
       "      <td>0</td>\n",
       "    </tr>\n",
       "    <tr>\n",
       "      <th>529447</th>\n",
       "      <td>0</td>\n",
       "      <td>0</td>\n",
       "      <td>0</td>\n",
       "      <td>0</td>\n",
       "      <td>0</td>\n",
       "      <td>0</td>\n",
       "      <td>0</td>\n",
       "      <td>0</td>\n",
       "      <td>0</td>\n",
       "      <td>0</td>\n",
       "      <td>...</td>\n",
       "      <td>0</td>\n",
       "      <td>0</td>\n",
       "      <td>0</td>\n",
       "      <td>0</td>\n",
       "      <td>0</td>\n",
       "      <td>0</td>\n",
       "      <td>0</td>\n",
       "      <td>0</td>\n",
       "      <td>0</td>\n",
       "      <td>0</td>\n",
       "    </tr>\n",
       "    <tr>\n",
       "      <th>529448</th>\n",
       "      <td>0</td>\n",
       "      <td>0</td>\n",
       "      <td>0</td>\n",
       "      <td>0</td>\n",
       "      <td>0</td>\n",
       "      <td>0</td>\n",
       "      <td>0</td>\n",
       "      <td>1</td>\n",
       "      <td>0</td>\n",
       "      <td>0</td>\n",
       "      <td>...</td>\n",
       "      <td>0</td>\n",
       "      <td>0</td>\n",
       "      <td>0</td>\n",
       "      <td>0</td>\n",
       "      <td>1</td>\n",
       "      <td>0</td>\n",
       "      <td>0</td>\n",
       "      <td>0</td>\n",
       "      <td>0</td>\n",
       "      <td>0</td>\n",
       "    </tr>\n",
       "  </tbody>\n",
       "</table>\n",
       "<p>529449 rows × 600 columns</p>\n",
       "</div>"
      ],
      "text/plain": [
       "        absolut  action  add  adida  advanc  aerial  africa  african  age  \\\n",
       "0             0       0    0      0       0       0       0        0    0   \n",
       "1             0       0    0      0       0       0       0        0    0   \n",
       "2             0       0    0      0       0       0       0        0    0   \n",
       "3             0       0    0      0       0       0       0        0    0   \n",
       "4             0       0    0      0       0       0       0        0    0   \n",
       "...         ...     ...  ...    ...     ...     ...     ...      ...  ...   \n",
       "529444        0       0    0      0       0       0       0        0    0   \n",
       "529445        0       0    0      0       0       0       0        0    0   \n",
       "529446        0       0    0      0       0       0       0        0    0   \n",
       "529447        0       0    0      0       0       0       0        0    0   \n",
       "529448        0       0    0      0       0       0       0        1    0   \n",
       "\n",
       "        ago  ...  worldcup  worst  would  wow  xenophobi  xi  ye  year  yet  \\\n",
       "0         0  ...         0      0      0    0          0   0   0     0    0   \n",
       "1         0  ...         0      0      0    0          0   0   0     0    0   \n",
       "2         0  ...         0      0      0    0          0   0   0     0    0   \n",
       "3         0  ...         0      0      0    0          0   0   0     0    0   \n",
       "4         0  ...         0      0      0    0          0   0   0     0    0   \n",
       "...     ...  ...       ...    ...    ...  ...        ...  ..  ..   ...  ...   \n",
       "529444    0  ...         0      0      0    0          0   0   0     0    0   \n",
       "529445    0  ...         0      0      0    0          0   0   0     0    0   \n",
       "529446    0  ...         0      0      0    0          0   0   0     0    0   \n",
       "529447    0  ...         0      0      0    0          0   0   0     0    0   \n",
       "529448    0  ...         0      0      0    0          1   0   0     0    0   \n",
       "\n",
       "        young  \n",
       "0           0  \n",
       "1           0  \n",
       "2           0  \n",
       "3           0  \n",
       "4           0  \n",
       "...       ...  \n",
       "529444      0  \n",
       "529445      0  \n",
       "529446      0  \n",
       "529447      0  \n",
       "529448      0  \n",
       "\n",
       "[529449 rows x 600 columns]"
      ]
     },
     "metadata": {},
     "output_type": "display_data"
    }
   ],
   "source": [
    "# We can extract the information and put it in a data frame to make it easier to see what has occured\n",
    "my_tweet_df = pd.DataFrame(columns=bagofwords.get_feature_names_out(), data=fifa_clean_transformed.toarray())\n",
    "display(my_tweet_df)"
   ]
  },
  {
   "cell_type": "code",
   "execution_count": 83,
   "id": "154af4eb",
   "metadata": {},
   "outputs": [
    {
     "data": {
      "text/plain": [
       "array(['absolut', 'action', 'add', 'adida', 'advanc', 'aerial', 'africa',\n",
       "       'african', 'age', 'ago', 'ahead', 'airplan', 'airport', 'allez',\n",
       "       'alreadi', 'also', 'alway', 'amaz', 'angola', 'anoth', 'appreci',\n",
       "       'argentina', 'around', 'arriv', 'arsen', 'ask', 'assist', 'award',\n",
       "       'away', 'back', 'bad', 'ball', 'beat', 'beauti', 'becam', 'becom',\n",
       "       'bed', 'begin', 'behind', 'belgium', 'believ', 'best', 'bet',\n",
       "       'better', 'big', 'biggest', 'bit', 'blai', 'bleu', 'blue', 'book',\n",
       "       'boot', 'born', 'boss', 'bottl', 'boy', 'brazil', 'break',\n",
       "       'brilliant', 'bring', 'bt', 'ca', 'call', 'cameroon', 'cann',\n",
       "       'captain', 'cavani', 'celebr', 'champion', 'chanc', 'chang',\n",
       "       'charact', 'chariti', 'cheer', 'children', 'choic', 'clash',\n",
       "       'class', 'close', 'coach', 'colombia', 'come', 'comment',\n",
       "       'commiser', 'compani', 'competit', 'complet', 'confirm', 'congrat',\n",
       "       'congratul', 'continu', 'could', 'countri', 'courtoi', 'creat',\n",
       "       'cri', 'cristiano', 'critic', 'croatia', 'croatian', 'cup', 'cut',\n",
       "       'dab', 'danijel', 'darren', 'day', 'de', 'dead', 'dear', 'decid',\n",
       "       'defeat', 'defend', 'dejan', 'denmark', 'depart', 'deschamp',\n",
       "       'describ', 'deserv', 'despit', 'destroy', 'di', 'didier', 'differ',\n",
       "       'disappoint', 'discov', 'display', 'donat', 'done', 'doubt',\n",
       "       'drama', 'draw', 'drc', 'dream', 'dybala', 'dynam', 'earn',\n",
       "       'economi', 'eden', 'eight', 'either', 'elimin', 'els', 'end',\n",
       "       'england', 'enjoy', 'enough', 'enter', 'equalis', 'even', 'ever',\n",
       "       'everi', 'everyon', 'everyth', 'excel', 'excit', 'exit', 'exo',\n",
       "       'extra', 'face', 'fact', 'fail', 'fair', 'fake', 'famili', 'fan',\n",
       "       'fantast', 'far', 'farewel', 'favorit', 'favourit', 'feel', 'fifa',\n",
       "       'final', 'finalist', 'find', 'finish', 'first', 'five', 'flag',\n",
       "       'follow', 'footbal', 'forget', 'form', 'forward', 'four', 'franc',\n",
       "       'free', 'french', 'friend', 'fuck', 'full', 'game', 'gareth',\n",
       "       'gea', 'germani', 'get', 'gg', 'giroud', 'give', 'giveaway', 'gl',\n",
       "       'global', 'glove', 'gn', 'go', 'goal', 'goalkeep', 'goat', 'god',\n",
       "       'goe', 'gold', 'golden', 'golo', 'gonna', 'good', 'goodby', 'got',\n",
       "       'great', 'greatest', 'grenobl', 'griezmann', 'group', 'guinea',\n",
       "       'guy', 'half', 'hand', 'happen', 'happi', 'hard', 'harri', 'hate',\n",
       "       'hazard', 'he', 'head', 'heart', 'heartbreak', 'help', 'henri',\n",
       "       'here', 'heritag', 'hero', 'heroic', 'hidden', 'high', 'highlight',\n",
       "       'histori', 'hit', 'hold', 'home', 'hope', 'host', 'hour', 'ht',\n",
       "       'http', 'huge', 'hugo', 'hurt', 'idol', 'illeg', 'immigr',\n",
       "       'incred', 'intern', 'involv', 'istr', 'itali', 'ivan', 'japan',\n",
       "       'javier', 'job', 'join', 'jordan', 'jou', 'joy', 'juli', 'juventu',\n",
       "       'kane', 'kant', 'kasper', 'keep', 'keeper', 'key', 'kick',\n",
       "       'kieran', 'knock', 'knockout', 'know', 'kylian', 'la', 'lad',\n",
       "       'last', 'late', 'later', 'le', 'lead', 'leagu', 'least', 'leav',\n",
       "       'left', 'legend', 'leo', 'let', 'level', 'lgbt', 'life', 'lift',\n",
       "       'light', 'like', 'line', 'lionel', 'list', 'listen', 'live',\n",
       "       'llori', 'london', 'long', 'look', 'lose', 'lost', 'lot', 'love',\n",
       "       'lovren', 'luck', 'luka', 'lukaku', 'lyric', 'macron', 'made',\n",
       "       'madrid', 'make', 'mali', 'man', 'manag', 'mani', 'marco', 'maria',\n",
       "       'mascherano', 'match', 'matter', 'may', 'mbapp', 'mean', 'meet',\n",
       "       'messi', 'mexico', 'midfield', 'might', 'minut', 'miss', 'modric',\n",
       "       'moment', 'montpelli', 'moscow', 'move', 'much', 'music', 'must',\n",
       "       'name', 'nation', 'nd', 'need', 'net', 'never', 'new', 'news',\n",
       "       'next', 'neymar', 'nigeria', 'night', 'noth', 'number', 'offici',\n",
       "       'oh', 'old', 'olivi', 'olymp', 'on', 'one', 'pari', 'park', 'part',\n",
       "       'parti', 'pass', 'paul', 'pavard', 'pele', 'pen', 'penalti',\n",
       "       'peopl', 'per', 'perfect', 'perform', 'peris', 'peter',\n",
       "       'petersburg', 'pic', 'pick', 'pickford', 'pictur', 'pitch', 'pk',\n",
       "       'place', 'play', 'player', 'pleas', 'pm', 'pogba', 'portug',\n",
       "       'post', 'power', 'predict', 'presid', 'priceless', 'pride',\n",
       "       'probabl', 'proud', 'provid', 'pun', 'put', 'putin', 'qualifi',\n",
       "       'quarter', 'quarterfin', 'quot', 'racism', 'rain', 'rakit', 'rate',\n",
       "       'reach', 'reaction', 'readi', 'real', 'realli', 'refuge',\n",
       "       'regular', 'reign', 'rememb', 'report', 'respect', 'respons',\n",
       "       'result', 'retir', 'retweet', 'ricardo', 'right', 'rightli',\n",
       "       'rise', 'rival', 'road', 'ronaldo', 'root', 'round', 'rt', 'run',\n",
       "       'russia', 'russian', 'sad', 'said', 'saint', 'samuel', 'saturday',\n",
       "       'save', 'say', 'scene', 'schmeichel', 'score', 'season', 'second',\n",
       "       'see', 'seen', 'semi', 'semifin', 'send', 'seneg', 'sent', 'set',\n",
       "       'share', 'shirt', 'shoot', 'shootout', 'short', 'shortli', 'shot',\n",
       "       'show', 'side', 'sign', 'simpli', 'sinc', 'singl', 'sir', 'sky',\n",
       "       'soccer', 'someon', 'someth', 'sometim', 'song', 'sorri', 'sound',\n",
       "       'southgat', 'spain', 'speak', 'sport', 'spot', 'squad', 'st',\n",
       "       'stadium', 'stage', 'stand', 'star', 'start', 'still', 'stop',\n",
       "       'stori', 'street', 'subas', 'success', 'sunday', 'superb',\n",
       "       'support', 'sure', 'sweden', 'switzerland', 'tackl', 'take',\n",
       "       'talk', 'target', 'team', 'teammat', 'teenag', 'tell', 'th',\n",
       "       'thank', 'that', 'thibaut', 'thing', 'think', 'third', 'though',\n",
       "       'thought', 'three', 'tie', 'time', 'today', 'togeth', 'tomorrow',\n",
       "       'tonight', 'top', 'touch', 'tour', 'tournament', 'travel', 'tri',\n",
       "       'trippier', 'trophi', 'tune', 'turn', 'tv', 'tweet', 'twice',\n",
       "       'two', 'um', 'umbrella', 'umtiti', 'unit', 'unreal', 'upset',\n",
       "       'uruguay', 'us', 'use', 'via', 'victori', 'video', 'vote', 'vs',\n",
       "       'wait', 'want', 'warzon', 'watch', 'way', 'week', 'well', 'went',\n",
       "       'who', 'win', 'winner', 'winter', 'without', 'wonder', 'word',\n",
       "       'work', 'world', 'worldcup', 'worst', 'would', 'wow', 'xenophobi',\n",
       "       'xi', 'ye', 'year', 'yet', 'young'], dtype=object)"
      ]
     },
     "execution_count": 83,
     "metadata": {},
     "output_type": "execute_result"
    }
   ],
   "source": [
    "#all of the words from tweets that occured in more than 1000 tweets and with words stemmed and stop words taken out\n",
    "bagofwords.get_feature_names_out()"
   ]
  },
  {
   "cell_type": "markdown",
   "id": "e057cf71",
   "metadata": {},
   "source": [
    "Looking at what the sentiment of of the tweet is when messi is mentioned in it"
   ]
  },
  {
   "cell_type": "code",
   "execution_count": 84,
   "id": "7d2f0ac3",
   "metadata": {
    "scrolled": false
   },
   "outputs": [
    {
     "data": {
      "text/plain": [
       "neutral     8363\n",
       "positive    7032\n",
       "negative    2703\n",
       "Name: vadar sentiment, dtype: int64"
      ]
     },
     "execution_count": 84,
     "metadata": {},
     "output_type": "execute_result"
    }
   ],
   "source": [
    "fifa_clean['vadar sentiment'][my_tweet_df['messi'] == 1].value_counts()"
   ]
  },
  {
   "cell_type": "markdown",
   "id": "4fd7c29b",
   "metadata": {},
   "source": [
    "Looking at what the sentiment of of the tweet is when lgbt is mentioned in it"
   ]
  },
  {
   "cell_type": "code",
   "execution_count": 85,
   "id": "a18f47bd",
   "metadata": {},
   "outputs": [
    {
     "data": {
      "text/plain": [
       "negative    3621\n",
       "positive      10\n",
       "neutral        1\n",
       "Name: vadar sentiment, dtype: int64"
      ]
     },
     "execution_count": 85,
     "metadata": {},
     "output_type": "execute_result"
    }
   ],
   "source": [
    "fifa_clean['vadar sentiment'][my_tweet_df['lgbt'] == 1].value_counts()"
   ]
  },
  {
   "cell_type": "markdown",
   "id": "fdedc52f",
   "metadata": {},
   "source": [
    "Looking at the sentiment when racism is mentioned"
   ]
  },
  {
   "cell_type": "code",
   "execution_count": 86,
   "id": "66442d4b",
   "metadata": {},
   "outputs": [
    {
     "data": {
      "text/html": [
       "<div>\n",
       "<style scoped>\n",
       "    .dataframe tbody tr th:only-of-type {\n",
       "        vertical-align: middle;\n",
       "    }\n",
       "\n",
       "    .dataframe tbody tr th {\n",
       "        vertical-align: top;\n",
       "    }\n",
       "\n",
       "    .dataframe thead th {\n",
       "        text-align: right;\n",
       "    }\n",
       "</style>\n",
       "<table border=\"1\" class=\"dataframe\">\n",
       "  <thead>\n",
       "    <tr style=\"text-align: right;\">\n",
       "      <th></th>\n",
       "      <th>Date</th>\n",
       "      <th>Source</th>\n",
       "      <th>len</th>\n",
       "      <th>Orig_Tweet</th>\n",
       "      <th>Tweet</th>\n",
       "      <th>Likes</th>\n",
       "      <th>RTs</th>\n",
       "      <th>Hashtags</th>\n",
       "      <th>UserMentionNames</th>\n",
       "      <th>Place</th>\n",
       "      <th>Followers</th>\n",
       "      <th>Friends</th>\n",
       "      <th>vadar compound</th>\n",
       "      <th>vadar sentiment</th>\n",
       "    </tr>\n",
       "  </thead>\n",
       "  <tbody>\n",
       "    <tr>\n",
       "      <th>12475</th>\n",
       "      <td>2018-07-01 23:57:16</td>\n",
       "      <td>Twitter for Android</td>\n",
       "      <td>243</td>\n",
       "      <td>@prodnose Goes to show that corruption isn't all bad, eh? Well done Sepp!\\r\\n\\r\\nOh, and the shininess is a lovely distraction from the wanton homophobia and racism in their society. Everything a #worldcup should be!\\r\\n\\r\\nAnyway: https://t.co/pzDylpbMe9</td>\n",
       "      <td>Goes to show that corruption is not all bad eh Well done Sepp Oh and the shininess is lovely distraction from the wanton homophobia and racism in their society Everything should be Anyway</td>\n",
       "      <td>0</td>\n",
       "      <td>0</td>\n",
       "      <td>worldcup</td>\n",
       "      <td>Danny Baker</td>\n",
       "      <td>United Kingdom</td>\n",
       "      <td>707</td>\n",
       "      <td>140</td>\n",
       "      <td>0.2617</td>\n",
       "      <td>positive</td>\n",
       "    </tr>\n",
       "    <tr>\n",
       "      <th>14238</th>\n",
       "      <td>2018-07-01 23:43:37</td>\n",
       "      <td>Twitter for Android</td>\n",
       "      <td>119</td>\n",
       "      <td>RT @RTUKnews: #WorldCup exposes England not Russia as the country with a racism problem (Op-Ed) https://t.co/jahVUNmpuf</td>\n",
       "      <td>exposes England not Russia as the country with racism problem Op Ed</td>\n",
       "      <td>0</td>\n",
       "      <td>169</td>\n",
       "      <td>WorldCup</td>\n",
       "      <td>RT UK</td>\n",
       "      <td>USA</td>\n",
       "      <td>2583</td>\n",
       "      <td>2808</td>\n",
       "      <td>-0.8074</td>\n",
       "      <td>negative</td>\n",
       "    </tr>\n",
       "    <tr>\n",
       "      <th>17703</th>\n",
       "      <td>2018-07-01 23:20:52</td>\n",
       "      <td>Twitter Web Client</td>\n",
       "      <td>119</td>\n",
       "      <td>RT @RTUKnews: #WorldCup exposes England not Russia as the country with a racism problem (Op-Ed) https://t.co/jahVUNmpuf</td>\n",
       "      <td>exposes England not Russia as the country with racism problem Op Ed</td>\n",
       "      <td>0</td>\n",
       "      <td>169</td>\n",
       "      <td>WorldCup</td>\n",
       "      <td>RT UK</td>\n",
       "      <td>United Kingdom</td>\n",
       "      <td>272</td>\n",
       "      <td>1739</td>\n",
       "      <td>-0.8074</td>\n",
       "      <td>negative</td>\n",
       "    </tr>\n",
       "    <tr>\n",
       "      <th>20324</th>\n",
       "      <td>2018-07-01 23:04:59</td>\n",
       "      <td>Twitter Web Client</td>\n",
       "      <td>119</td>\n",
       "      <td>RT @RTUKnews: #WorldCup exposes England not Russia as the country with a racism problem (Op-Ed) https://t.co/jahVUNmpuf</td>\n",
       "      <td>exposes England not Russia as the country with racism problem Op Ed</td>\n",
       "      <td>0</td>\n",
       "      <td>169</td>\n",
       "      <td>WorldCup</td>\n",
       "      <td>RT UK</td>\n",
       "      <td>Other</td>\n",
       "      <td>280</td>\n",
       "      <td>124</td>\n",
       "      <td>-0.8074</td>\n",
       "      <td>negative</td>\n",
       "    </tr>\n",
       "    <tr>\n",
       "      <th>30173</th>\n",
       "      <td>2018-07-01 22:17:26</td>\n",
       "      <td>Twitter for iPhone</td>\n",
       "      <td>304</td>\n",
       "      <td>Aside from the fact that all African and Middle Eastern teams r eliminated, another reason not 2 watch any more #WorldCup games is b/c black soccer players face disgusting levels of racism, and FIFA refuses 2 address the problem\\r\\n\\r\\nProps to my boy @3mrKawji 4 shedding light on this https://t.co/ubXZqzVt7x</td>\n",
       "      <td>Aside from the fact that all African and Middle Eastern teams eliminated another reason not watch any more games is c black soccer players face disgusting levels of racism and FIFA refuses address the problem Props to my boy shedding light on this</td>\n",
       "      <td>3</td>\n",
       "      <td>1</td>\n",
       "      <td>WorldCup</td>\n",
       "      <td>Amr</td>\n",
       "      <td>USA</td>\n",
       "      <td>477</td>\n",
       "      <td>401</td>\n",
       "      <td>-0.8807</td>\n",
       "      <td>negative</td>\n",
       "    </tr>\n",
       "    <tr>\n",
       "      <th>...</th>\n",
       "      <td>...</td>\n",
       "      <td>...</td>\n",
       "      <td>...</td>\n",
       "      <td>...</td>\n",
       "      <td>...</td>\n",
       "      <td>...</td>\n",
       "      <td>...</td>\n",
       "      <td>...</td>\n",
       "      <td>...</td>\n",
       "      <td>...</td>\n",
       "      <td>...</td>\n",
       "      <td>...</td>\n",
       "      <td>...</td>\n",
       "      <td>...</td>\n",
       "    </tr>\n",
       "    <tr>\n",
       "      <th>529433</th>\n",
       "      <td>2018-07-15 22:49:13</td>\n",
       "      <td>Twitter for Android</td>\n",
       "      <td>140</td>\n",
       "      <td>RT @KhaledBeydoun: Dear France, \\r\\n\\r\\nCongratulations on winning the #WorldCup. \\r\\n\\r\\n80% of your team is African, cut out the racism and xenophobi…</td>\n",
       "      <td>Dear France Congratulations on winning the of your team is African cut out the racism and xenophobi</td>\n",
       "      <td>0</td>\n",
       "      <td>96746</td>\n",
       "      <td>WorldCup</td>\n",
       "      <td>Khaled Beydoun</td>\n",
       "      <td>Other</td>\n",
       "      <td>26</td>\n",
       "      <td>157</td>\n",
       "      <td>0.5719</td>\n",
       "      <td>positive</td>\n",
       "    </tr>\n",
       "    <tr>\n",
       "      <th>529436</th>\n",
       "      <td>2018-07-15 22:49:12</td>\n",
       "      <td>Twitter Web Client</td>\n",
       "      <td>140</td>\n",
       "      <td>RT @KhaledBeydoun: Dear France, \\r\\n\\r\\nCongratulations on winning the #WorldCup. \\r\\n\\r\\n80% of your team is African, cut out the racism and xenophobi…</td>\n",
       "      <td>Dear France Congratulations on winning the of your team is African cut out the racism and xenophobi</td>\n",
       "      <td>0</td>\n",
       "      <td>96746</td>\n",
       "      <td>WorldCup</td>\n",
       "      <td>Khaled Beydoun</td>\n",
       "      <td>Colombia</td>\n",
       "      <td>117</td>\n",
       "      <td>275</td>\n",
       "      <td>0.5719</td>\n",
       "      <td>positive</td>\n",
       "    </tr>\n",
       "    <tr>\n",
       "      <th>529441</th>\n",
       "      <td>2018-07-15 22:49:12</td>\n",
       "      <td>Twitter for Android</td>\n",
       "      <td>140</td>\n",
       "      <td>RT @KhaledBeydoun: Dear France, \\r\\n\\r\\nCongratulations on winning the #WorldCup. \\r\\n\\r\\n80% of your team is African, cut out the racism and xenophobi…</td>\n",
       "      <td>Dear France Congratulations on winning the of your team is African cut out the racism and xenophobi</td>\n",
       "      <td>0</td>\n",
       "      <td>96746</td>\n",
       "      <td>WorldCup</td>\n",
       "      <td>Khaled Beydoun</td>\n",
       "      <td>USA</td>\n",
       "      <td>125</td>\n",
       "      <td>703</td>\n",
       "      <td>0.5719</td>\n",
       "      <td>positive</td>\n",
       "    </tr>\n",
       "    <tr>\n",
       "      <th>529442</th>\n",
       "      <td>2018-07-15 22:49:12</td>\n",
       "      <td>Twitter for Android</td>\n",
       "      <td>140</td>\n",
       "      <td>RT @KhaledBeydoun: Dear France, \\r\\n\\r\\nCongratulations on winning the #WorldCup. \\r\\n\\r\\n80% of your team is African, cut out the racism and xenophobi…</td>\n",
       "      <td>Dear France Congratulations on winning the of your team is African cut out the racism and xenophobi</td>\n",
       "      <td>0</td>\n",
       "      <td>96746</td>\n",
       "      <td>WorldCup</td>\n",
       "      <td>Khaled Beydoun</td>\n",
       "      <td>Brasil</td>\n",
       "      <td>295</td>\n",
       "      <td>75</td>\n",
       "      <td>0.5719</td>\n",
       "      <td>positive</td>\n",
       "    </tr>\n",
       "    <tr>\n",
       "      <th>529448</th>\n",
       "      <td>2018-07-15 22:49:11</td>\n",
       "      <td>Twitter Web Client</td>\n",
       "      <td>140</td>\n",
       "      <td>RT @KhaledBeydoun: Dear France, \\r\\n\\r\\nCongratulations on winning the #WorldCup. \\r\\n\\r\\n80% of your team is African, cut out the racism and xenophobi…</td>\n",
       "      <td>Dear France Congratulations on winning the of your team is African cut out the racism and xenophobi</td>\n",
       "      <td>0</td>\n",
       "      <td>96746</td>\n",
       "      <td>WorldCup</td>\n",
       "      <td>Khaled Beydoun</td>\n",
       "      <td>USA</td>\n",
       "      <td>173</td>\n",
       "      <td>268</td>\n",
       "      <td>0.5719</td>\n",
       "      <td>positive</td>\n",
       "    </tr>\n",
       "  </tbody>\n",
       "</table>\n",
       "<p>17176 rows × 14 columns</p>\n",
       "</div>"
      ],
      "text/plain": [
       "                      Date               Source  len  \\\n",
       "12475  2018-07-01 23:57:16  Twitter for Android  243   \n",
       "14238  2018-07-01 23:43:37  Twitter for Android  119   \n",
       "17703  2018-07-01 23:20:52   Twitter Web Client  119   \n",
       "20324  2018-07-01 23:04:59   Twitter Web Client  119   \n",
       "30173  2018-07-01 22:17:26   Twitter for iPhone  304   \n",
       "...                    ...                  ...  ...   \n",
       "529433 2018-07-15 22:49:13  Twitter for Android  140   \n",
       "529436 2018-07-15 22:49:12   Twitter Web Client  140   \n",
       "529441 2018-07-15 22:49:12  Twitter for Android  140   \n",
       "529442 2018-07-15 22:49:12  Twitter for Android  140   \n",
       "529448 2018-07-15 22:49:11   Twitter Web Client  140   \n",
       "\n",
       "                                                                                                                                                                                                                                                                                                                    Orig_Tweet  \\\n",
       "12475                                                          @prodnose Goes to show that corruption isn't all bad, eh? Well done Sepp!\\r\\n\\r\\nOh, and the shininess is a lovely distraction from the wanton homophobia and racism in their society. Everything a #worldcup should be!\\r\\n\\r\\nAnyway: https://t.co/pzDylpbMe9   \n",
       "14238                                                                                                                                                                                                  RT @RTUKnews: #WorldCup exposes England not Russia as the country with a racism problem (Op-Ed) https://t.co/jahVUNmpuf   \n",
       "17703                                                                                                                                                                                                  RT @RTUKnews: #WorldCup exposes England not Russia as the country with a racism problem (Op-Ed) https://t.co/jahVUNmpuf   \n",
       "20324                                                                                                                                                                                                  RT @RTUKnews: #WorldCup exposes England not Russia as the country with a racism problem (Op-Ed) https://t.co/jahVUNmpuf   \n",
       "30173   Aside from the fact that all African and Middle Eastern teams r eliminated, another reason not 2 watch any more #WorldCup games is b/c black soccer players face disgusting levels of racism, and FIFA refuses 2 address the problem\\r\\n\\r\\nProps to my boy @3mrKawji 4 shedding light on this https://t.co/ubXZqzVt7x   \n",
       "...                                                                                                                                                                                                                                                                                                                        ...   \n",
       "529433                                                                                                                                                                RT @KhaledBeydoun: Dear France, \\r\\n\\r\\nCongratulations on winning the #WorldCup. \\r\\n\\r\\n80% of your team is African, cut out the racism and xenophobi…   \n",
       "529436                                                                                                                                                                RT @KhaledBeydoun: Dear France, \\r\\n\\r\\nCongratulations on winning the #WorldCup. \\r\\n\\r\\n80% of your team is African, cut out the racism and xenophobi…   \n",
       "529441                                                                                                                                                                RT @KhaledBeydoun: Dear France, \\r\\n\\r\\nCongratulations on winning the #WorldCup. \\r\\n\\r\\n80% of your team is African, cut out the racism and xenophobi…   \n",
       "529442                                                                                                                                                                RT @KhaledBeydoun: Dear France, \\r\\n\\r\\nCongratulations on winning the #WorldCup. \\r\\n\\r\\n80% of your team is African, cut out the racism and xenophobi…   \n",
       "529448                                                                                                                                                                RT @KhaledBeydoun: Dear France, \\r\\n\\r\\nCongratulations on winning the #WorldCup. \\r\\n\\r\\n80% of your team is African, cut out the racism and xenophobi…   \n",
       "\n",
       "                                                                                                                                                                                                                                                          Tweet  \\\n",
       "12475                                                               Goes to show that corruption is not all bad eh Well done Sepp Oh and the shininess is lovely distraction from the wanton homophobia and racism in their society Everything should be Anyway   \n",
       "14238                                                                                                                                                                                       exposes England not Russia as the country with racism problem Op Ed   \n",
       "17703                                                                                                                                                                                       exposes England not Russia as the country with racism problem Op Ed   \n",
       "20324                                                                                                                                                                                       exposes England not Russia as the country with racism problem Op Ed   \n",
       "30173   Aside from the fact that all African and Middle Eastern teams eliminated another reason not watch any more games is c black soccer players face disgusting levels of racism and FIFA refuses address the problem Props to my boy shedding light on this   \n",
       "...                                                                                                                                                                                                                                                         ...   \n",
       "529433                                                                                                                                                      Dear France Congratulations on winning the of your team is African cut out the racism and xenophobi   \n",
       "529436                                                                                                                                                      Dear France Congratulations on winning the of your team is African cut out the racism and xenophobi   \n",
       "529441                                                                                                                                                      Dear France Congratulations on winning the of your team is African cut out the racism and xenophobi   \n",
       "529442                                                                                                                                                      Dear France Congratulations on winning the of your team is African cut out the racism and xenophobi   \n",
       "529448                                                                                                                                                      Dear France Congratulations on winning the of your team is African cut out the racism and xenophobi   \n",
       "\n",
       "        Likes    RTs  Hashtags UserMentionNames           Place  Followers  \\\n",
       "12475       0      0  worldcup      Danny Baker  United Kingdom        707   \n",
       "14238       0    169  WorldCup            RT UK             USA       2583   \n",
       "17703       0    169  WorldCup            RT UK  United Kingdom        272   \n",
       "20324       0    169  WorldCup            RT UK           Other        280   \n",
       "30173       3      1  WorldCup              Amr             USA        477   \n",
       "...       ...    ...       ...              ...             ...        ...   \n",
       "529433      0  96746  WorldCup   Khaled Beydoun           Other         26   \n",
       "529436      0  96746  WorldCup   Khaled Beydoun        Colombia        117   \n",
       "529441      0  96746  WorldCup   Khaled Beydoun             USA        125   \n",
       "529442      0  96746  WorldCup   Khaled Beydoun          Brasil        295   \n",
       "529448      0  96746  WorldCup   Khaled Beydoun             USA        173   \n",
       "\n",
       "        Friends  vadar compound vadar sentiment  \n",
       "12475       140          0.2617        positive  \n",
       "14238      2808         -0.8074        negative  \n",
       "17703      1739         -0.8074        negative  \n",
       "20324       124         -0.8074        negative  \n",
       "30173       401         -0.8807        negative  \n",
       "...         ...             ...             ...  \n",
       "529433      157          0.5719        positive  \n",
       "529436      275          0.5719        positive  \n",
       "529441      703          0.5719        positive  \n",
       "529442       75          0.5719        positive  \n",
       "529448      268          0.5719        positive  \n",
       "\n",
       "[17176 rows x 14 columns]"
      ]
     },
     "execution_count": 86,
     "metadata": {},
     "output_type": "execute_result"
    }
   ],
   "source": [
    "fifa_clean[my_tweet_df['racism'] == 1]"
   ]
  },
  {
   "cell_type": "markdown",
   "id": "ee83de8d",
   "metadata": {},
   "source": [
    "### Now I will vectorize hashtag data to look at various popular topics and how they are viewed based on twitter sentiment analysis"
   ]
  },
  {
   "cell_type": "code",
   "execution_count": 87,
   "id": "b29e0ba6",
   "metadata": {},
   "outputs": [
    {
     "data": {
      "text/plain": [
       "<529449x306 sparse matrix of type '<class 'numpy.int64'>'\n",
       "\twith 1017331 stored elements in Compressed Sparse Row format>"
      ]
     },
     "execution_count": 87,
     "metadata": {},
     "output_type": "execute_result"
    }
   ],
   "source": [
    "#creating bag of words model\n",
    "# 1. Instantiate \n",
    "hashtags = CountVectorizer(min_df = 100)\n",
    "\n",
    "# 2. Fit \n",
    "hashtags.fit(fifa_clean['Hashtags'])\n",
    "\n",
    "# 3. Transform\n",
    "hashtags_transformed = hashtags.transform(fifa_clean['Hashtags'])\n",
    "hashtags_transformed\n"
   ]
  },
  {
   "cell_type": "code",
   "execution_count": 88,
   "id": "41b57eae",
   "metadata": {},
   "outputs": [
    {
     "data": {
      "text/html": [
       "<div>\n",
       "<style scoped>\n",
       "    .dataframe tbody tr th:only-of-type {\n",
       "        vertical-align: middle;\n",
       "    }\n",
       "\n",
       "    .dataframe tbody tr th {\n",
       "        vertical-align: top;\n",
       "    }\n",
       "\n",
       "    .dataframe thead th {\n",
       "        text-align: right;\n",
       "    }\n",
       "</style>\n",
       "<table border=\"1\" class=\"dataframe\">\n",
       "  <thead>\n",
       "    <tr style=\"text-align: right;\">\n",
       "      <th></th>\n",
       "      <th>2018</th>\n",
       "      <th>africa</th>\n",
       "      <th>airdrop</th>\n",
       "      <th>akinfeev</th>\n",
       "      <th>allezlesbleus</th>\n",
       "      <th>arg</th>\n",
       "      <th>argentina</th>\n",
       "      <th>argentinavsfrance</th>\n",
       "      <th>argentinavsfrancia</th>\n",
       "      <th>argfra</th>\n",
       "      <th>...</th>\n",
       "      <th>worldcup2018russia</th>\n",
       "      <th>worldcup2022</th>\n",
       "      <th>worldcupfinal</th>\n",
       "      <th>worldcupfinal2018</th>\n",
       "      <th>worldcupfinals</th>\n",
       "      <th>worldcupgot</th>\n",
       "      <th>worldcupqatar</th>\n",
       "      <th>worldcuprussia</th>\n",
       "      <th>worldcuprussia2018</th>\n",
       "      <th>xiuminleague</th>\n",
       "    </tr>\n",
       "  </thead>\n",
       "  <tbody>\n",
       "    <tr>\n",
       "      <th>0</th>\n",
       "      <td>0</td>\n",
       "      <td>0</td>\n",
       "      <td>0</td>\n",
       "      <td>0</td>\n",
       "      <td>0</td>\n",
       "      <td>0</td>\n",
       "      <td>0</td>\n",
       "      <td>0</td>\n",
       "      <td>0</td>\n",
       "      <td>0</td>\n",
       "      <td>...</td>\n",
       "      <td>0</td>\n",
       "      <td>0</td>\n",
       "      <td>0</td>\n",
       "      <td>0</td>\n",
       "      <td>0</td>\n",
       "      <td>0</td>\n",
       "      <td>0</td>\n",
       "      <td>0</td>\n",
       "      <td>0</td>\n",
       "      <td>0</td>\n",
       "    </tr>\n",
       "    <tr>\n",
       "      <th>1</th>\n",
       "      <td>0</td>\n",
       "      <td>0</td>\n",
       "      <td>0</td>\n",
       "      <td>0</td>\n",
       "      <td>0</td>\n",
       "      <td>0</td>\n",
       "      <td>0</td>\n",
       "      <td>0</td>\n",
       "      <td>0</td>\n",
       "      <td>0</td>\n",
       "      <td>...</td>\n",
       "      <td>0</td>\n",
       "      <td>0</td>\n",
       "      <td>0</td>\n",
       "      <td>0</td>\n",
       "      <td>0</td>\n",
       "      <td>0</td>\n",
       "      <td>0</td>\n",
       "      <td>0</td>\n",
       "      <td>0</td>\n",
       "      <td>0</td>\n",
       "    </tr>\n",
       "    <tr>\n",
       "      <th>2</th>\n",
       "      <td>0</td>\n",
       "      <td>0</td>\n",
       "      <td>0</td>\n",
       "      <td>0</td>\n",
       "      <td>0</td>\n",
       "      <td>0</td>\n",
       "      <td>0</td>\n",
       "      <td>0</td>\n",
       "      <td>0</td>\n",
       "      <td>0</td>\n",
       "      <td>...</td>\n",
       "      <td>0</td>\n",
       "      <td>0</td>\n",
       "      <td>0</td>\n",
       "      <td>0</td>\n",
       "      <td>0</td>\n",
       "      <td>0</td>\n",
       "      <td>0</td>\n",
       "      <td>0</td>\n",
       "      <td>0</td>\n",
       "      <td>0</td>\n",
       "    </tr>\n",
       "    <tr>\n",
       "      <th>3</th>\n",
       "      <td>0</td>\n",
       "      <td>0</td>\n",
       "      <td>0</td>\n",
       "      <td>0</td>\n",
       "      <td>0</td>\n",
       "      <td>0</td>\n",
       "      <td>0</td>\n",
       "      <td>0</td>\n",
       "      <td>0</td>\n",
       "      <td>0</td>\n",
       "      <td>...</td>\n",
       "      <td>0</td>\n",
       "      <td>0</td>\n",
       "      <td>0</td>\n",
       "      <td>0</td>\n",
       "      <td>0</td>\n",
       "      <td>0</td>\n",
       "      <td>0</td>\n",
       "      <td>0</td>\n",
       "      <td>0</td>\n",
       "      <td>1</td>\n",
       "    </tr>\n",
       "    <tr>\n",
       "      <th>4</th>\n",
       "      <td>0</td>\n",
       "      <td>0</td>\n",
       "      <td>0</td>\n",
       "      <td>0</td>\n",
       "      <td>0</td>\n",
       "      <td>0</td>\n",
       "      <td>0</td>\n",
       "      <td>0</td>\n",
       "      <td>0</td>\n",
       "      <td>0</td>\n",
       "      <td>...</td>\n",
       "      <td>0</td>\n",
       "      <td>0</td>\n",
       "      <td>0</td>\n",
       "      <td>0</td>\n",
       "      <td>0</td>\n",
       "      <td>0</td>\n",
       "      <td>0</td>\n",
       "      <td>0</td>\n",
       "      <td>0</td>\n",
       "      <td>0</td>\n",
       "    </tr>\n",
       "    <tr>\n",
       "      <th>...</th>\n",
       "      <td>...</td>\n",
       "      <td>...</td>\n",
       "      <td>...</td>\n",
       "      <td>...</td>\n",
       "      <td>...</td>\n",
       "      <td>...</td>\n",
       "      <td>...</td>\n",
       "      <td>...</td>\n",
       "      <td>...</td>\n",
       "      <td>...</td>\n",
       "      <td>...</td>\n",
       "      <td>...</td>\n",
       "      <td>...</td>\n",
       "      <td>...</td>\n",
       "      <td>...</td>\n",
       "      <td>...</td>\n",
       "      <td>...</td>\n",
       "      <td>...</td>\n",
       "      <td>...</td>\n",
       "      <td>...</td>\n",
       "      <td>...</td>\n",
       "    </tr>\n",
       "    <tr>\n",
       "      <th>529444</th>\n",
       "      <td>0</td>\n",
       "      <td>0</td>\n",
       "      <td>0</td>\n",
       "      <td>0</td>\n",
       "      <td>0</td>\n",
       "      <td>0</td>\n",
       "      <td>0</td>\n",
       "      <td>0</td>\n",
       "      <td>0</td>\n",
       "      <td>0</td>\n",
       "      <td>...</td>\n",
       "      <td>0</td>\n",
       "      <td>0</td>\n",
       "      <td>1</td>\n",
       "      <td>0</td>\n",
       "      <td>0</td>\n",
       "      <td>0</td>\n",
       "      <td>0</td>\n",
       "      <td>0</td>\n",
       "      <td>0</td>\n",
       "      <td>0</td>\n",
       "    </tr>\n",
       "    <tr>\n",
       "      <th>529445</th>\n",
       "      <td>0</td>\n",
       "      <td>0</td>\n",
       "      <td>0</td>\n",
       "      <td>0</td>\n",
       "      <td>0</td>\n",
       "      <td>0</td>\n",
       "      <td>0</td>\n",
       "      <td>0</td>\n",
       "      <td>0</td>\n",
       "      <td>0</td>\n",
       "      <td>...</td>\n",
       "      <td>0</td>\n",
       "      <td>0</td>\n",
       "      <td>0</td>\n",
       "      <td>0</td>\n",
       "      <td>0</td>\n",
       "      <td>0</td>\n",
       "      <td>0</td>\n",
       "      <td>0</td>\n",
       "      <td>0</td>\n",
       "      <td>0</td>\n",
       "    </tr>\n",
       "    <tr>\n",
       "      <th>529446</th>\n",
       "      <td>0</td>\n",
       "      <td>0</td>\n",
       "      <td>0</td>\n",
       "      <td>0</td>\n",
       "      <td>0</td>\n",
       "      <td>0</td>\n",
       "      <td>0</td>\n",
       "      <td>0</td>\n",
       "      <td>0</td>\n",
       "      <td>0</td>\n",
       "      <td>...</td>\n",
       "      <td>0</td>\n",
       "      <td>0</td>\n",
       "      <td>0</td>\n",
       "      <td>0</td>\n",
       "      <td>0</td>\n",
       "      <td>0</td>\n",
       "      <td>0</td>\n",
       "      <td>0</td>\n",
       "      <td>0</td>\n",
       "      <td>0</td>\n",
       "    </tr>\n",
       "    <tr>\n",
       "      <th>529447</th>\n",
       "      <td>0</td>\n",
       "      <td>0</td>\n",
       "      <td>0</td>\n",
       "      <td>0</td>\n",
       "      <td>0</td>\n",
       "      <td>0</td>\n",
       "      <td>0</td>\n",
       "      <td>0</td>\n",
       "      <td>0</td>\n",
       "      <td>0</td>\n",
       "      <td>...</td>\n",
       "      <td>0</td>\n",
       "      <td>0</td>\n",
       "      <td>0</td>\n",
       "      <td>0</td>\n",
       "      <td>0</td>\n",
       "      <td>0</td>\n",
       "      <td>0</td>\n",
       "      <td>0</td>\n",
       "      <td>0</td>\n",
       "      <td>0</td>\n",
       "    </tr>\n",
       "    <tr>\n",
       "      <th>529448</th>\n",
       "      <td>0</td>\n",
       "      <td>0</td>\n",
       "      <td>0</td>\n",
       "      <td>0</td>\n",
       "      <td>0</td>\n",
       "      <td>0</td>\n",
       "      <td>0</td>\n",
       "      <td>0</td>\n",
       "      <td>0</td>\n",
       "      <td>0</td>\n",
       "      <td>...</td>\n",
       "      <td>0</td>\n",
       "      <td>0</td>\n",
       "      <td>0</td>\n",
       "      <td>0</td>\n",
       "      <td>0</td>\n",
       "      <td>0</td>\n",
       "      <td>0</td>\n",
       "      <td>0</td>\n",
       "      <td>0</td>\n",
       "      <td>0</td>\n",
       "    </tr>\n",
       "  </tbody>\n",
       "</table>\n",
       "<p>529449 rows × 306 columns</p>\n",
       "</div>"
      ],
      "text/plain": [
       "        2018  africa  airdrop  akinfeev  allezlesbleus  arg  argentina  \\\n",
       "0          0       0        0         0              0    0          0   \n",
       "1          0       0        0         0              0    0          0   \n",
       "2          0       0        0         0              0    0          0   \n",
       "3          0       0        0         0              0    0          0   \n",
       "4          0       0        0         0              0    0          0   \n",
       "...      ...     ...      ...       ...            ...  ...        ...   \n",
       "529444     0       0        0         0              0    0          0   \n",
       "529445     0       0        0         0              0    0          0   \n",
       "529446     0       0        0         0              0    0          0   \n",
       "529447     0       0        0         0              0    0          0   \n",
       "529448     0       0        0         0              0    0          0   \n",
       "\n",
       "        argentinavsfrance  argentinavsfrancia  argfra  ...  \\\n",
       "0                       0                   0       0  ...   \n",
       "1                       0                   0       0  ...   \n",
       "2                       0                   0       0  ...   \n",
       "3                       0                   0       0  ...   \n",
       "4                       0                   0       0  ...   \n",
       "...                   ...                 ...     ...  ...   \n",
       "529444                  0                   0       0  ...   \n",
       "529445                  0                   0       0  ...   \n",
       "529446                  0                   0       0  ...   \n",
       "529447                  0                   0       0  ...   \n",
       "529448                  0                   0       0  ...   \n",
       "\n",
       "        worldcup2018russia  worldcup2022  worldcupfinal  worldcupfinal2018  \\\n",
       "0                        0             0              0                  0   \n",
       "1                        0             0              0                  0   \n",
       "2                        0             0              0                  0   \n",
       "3                        0             0              0                  0   \n",
       "4                        0             0              0                  0   \n",
       "...                    ...           ...            ...                ...   \n",
       "529444                   0             0              1                  0   \n",
       "529445                   0             0              0                  0   \n",
       "529446                   0             0              0                  0   \n",
       "529447                   0             0              0                  0   \n",
       "529448                   0             0              0                  0   \n",
       "\n",
       "        worldcupfinals  worldcupgot  worldcupqatar  worldcuprussia  \\\n",
       "0                    0            0              0               0   \n",
       "1                    0            0              0               0   \n",
       "2                    0            0              0               0   \n",
       "3                    0            0              0               0   \n",
       "4                    0            0              0               0   \n",
       "...                ...          ...            ...             ...   \n",
       "529444               0            0              0               0   \n",
       "529445               0            0              0               0   \n",
       "529446               0            0              0               0   \n",
       "529447               0            0              0               0   \n",
       "529448               0            0              0               0   \n",
       "\n",
       "        worldcuprussia2018  xiuminleague  \n",
       "0                        0             0  \n",
       "1                        0             0  \n",
       "2                        0             0  \n",
       "3                        0             1  \n",
       "4                        0             0  \n",
       "...                    ...           ...  \n",
       "529444                   0             0  \n",
       "529445                   0             0  \n",
       "529446                   0             0  \n",
       "529447                   0             0  \n",
       "529448                   0             0  \n",
       "\n",
       "[529449 rows x 306 columns]"
      ]
     },
     "metadata": {},
     "output_type": "display_data"
    }
   ],
   "source": [
    "# We can extract the information and put it in a data frame to make it easier to see what has occured\n",
    "my_hashtag_df = pd.DataFrame(columns=hashtags.get_feature_names_out(), data=hashtags_transformed.toarray())\n",
    "display(my_hashtag_df)"
   ]
  },
  {
   "cell_type": "code",
   "execution_count": 89,
   "id": "b345628d",
   "metadata": {},
   "outputs": [
    {
     "data": {
      "text/plain": [
       "array(['2018', 'africa', 'airdrop', 'akinfeev', 'allezlesbleus', 'arg',\n",
       "       'argentina', 'argentinavsfrance', 'argentinavsfrancia', 'argfra',\n",
       "       'atlutd', 'barçaworldcup', 'bbcworldcup', 'beinfwc', 'beinrussia',\n",
       "       'bel', 'beleng', 'belfra', 'belgium', 'belgiumvsfrance', 'beljpn',\n",
       "       'beproud', 'bitcoin', 'bra', 'brabel', 'bramex', 'brazil',\n",
       "       'breaking', 'brexit', 'bts', 'btsarmy', 'campionidelmondo',\n",
       "       'canadaday', 'cavani', 'cfc', 'champions', 'chanyeolleague',\n",
       "       'chenleague', 'choicefandom', 'cinderellastories', 'cm2018', 'col',\n",
       "       'coleng', 'colombia', 'comeonengland', 'competition',\n",
       "       'contestalert', 'copa2018', 'costarica', 'coys', 'cr7',\n",
       "       'cristiano', 'cristianoronaldo', 'cro', 'croatia',\n",
       "       'croatiadenmark', 'croatiafulloflife', 'croatiavsdenmark',\n",
       "       'croatiavsengland', 'crodan', 'croden', 'croeng', 'crofra',\n",
       "       'croveng', 'dabemebestgroups', 'dafbama2018exo', 'datemyfamily',\n",
       "       'datingservice', 'den', 'dencro', 'denmark', 'dimaria',\n",
       "       'eaprizedraw', 'elmotivation', 'eltrieng', 'eng', 'engcol',\n",
       "       'engcro', 'england', 'englandvcolombia', 'englandvcroatia',\n",
       "       'englandvscroatia', 'engvcol', 'engvcro', 'escort', 'esp',\n",
       "       'esprus', 'exclusive', 'exo', 'fakelove', 'family', 'fftoz',\n",
       "       'fiersdetrebleus', 'fifa', 'fifa18', 'fifa2018', 'fifastadiumdj',\n",
       "       'fifawc2018', 'fifawconstartimes', 'fifaworldcup',\n",
       "       'fifaworldcup18', 'fifaworldcup2018', 'final', 'finals',\n",
       "       'fivelions', 'flamingpride', 'football', 'footballscominghome',\n",
       "       'fortnite', 'fra', 'fraarg', 'frabel', 'frabelg', 'fracro',\n",
       "       'fracroa', 'france', 'francebelgique', 'francecroatie',\n",
       "       'francevsargentina', 'francevsbelgium', 'francevscroatia',\n",
       "       'fravarg', 'fravsbel', 'free', 'french', 'futbol', 'fwc',\n",
       "       'gamefeels', 'gaza', 'ger', 'germany', 'giveaway', 'goal', 'goat',\n",
       "       'goldenball', 'goldenboot', 'got7', 'griezmann', 'halamadrid',\n",
       "       'harrykane', 'hazard', 'heretocreate', 'history', 'hot100',\n",
       "       'hrvatska', 'immigrants', 'israel', 'itscominghome', 'japan',\n",
       "       'jpn', 'juventus', 'kaileague', 'kane', 'kasperschmeichel',\n",
       "       'kimpembe', 'kingeric', 'ksa', 'kylianmbappe', 'laforce',\n",
       "       'laligasantander', 'laligaworldcup', 'layleague', 'lcfc',\n",
       "       'lecheminduroi', 'legend', 'lesbleus', 'lfc', 'lgbt',\n",
       "       'lightuptheworld', 'lightuptheworldcup', 'lionelmessi', 'lloris',\n",
       "       'longestgoal', 'love', 'loveisland', 'mancity', 'manofthematch',\n",
       "       'maradona', 'matchmaking', 'mbappe', 'mbappé', 'messi', 'mex',\n",
       "       'mexico', 'mfanacomedy', 'migrants', 'modric', 'moscow', 'motm',\n",
       "       'mufc', 'nadanosdetiene', 'news', 'neymar', 'nffcshow', 'nga',\n",
       "       'none', 'ntvworldcup2018', 'oneofourown', 'optussport', 'pan',\n",
       "       'paris', 'passion', 'pavard', 'penalties', 'penaltyshootout',\n",
       "       'perfectfan', 'perisic', 'pl', 'pogba', 'por', 'portugal',\n",
       "       'poruru', 'power', 'powerbyexo', 'predator', 'psg', 'pussyriot',\n",
       "       'putin', 'qatar', 'qatar2022', 'raf100', 'ramos', 'realmadrid',\n",
       "       'redtogether', 'relationships', 'retweet', 'ringerfc', 'ronaldo',\n",
       "       'roundof16', 'rt', 'rus', 'ruscro', 'rusesp', 'rusia2018',\n",
       "       'rusksa', 'russia', 'russia2018', 'russia2018worldcup',\n",
       "       'russiaworldcup2018', 'sabckuzobalit', 'saturdaymorning',\n",
       "       'schmeichel', 'scotland', 'semifinal', 'semifinals', 'sen',\n",
       "       'soccer', 'spain', 'spainvsrussia', 'sparus', 'sports',\n",
       "       'ssfootball', 'stopitcominghome', 'stpetersburg', 'subasic',\n",
       "       'sufc', 'sugarbabies', 'sugarbaby', 'sugardaddy', 'sui', 'summer',\n",
       "       'sundaymorning', 'swe', 'sweeng', 'swesui', 'teamcroatia',\n",
       "       'teamspirit', 'teenchoice', 'thailandcaverescue', 'thequeenmzansi',\n",
       "       'thfc', 'threelions', 'tictocnews', 'travel', 'trumprussia',\n",
       "       'tsworldcup', 'tun', 'tvjrussia', 'ucl', 'uru', 'urufra',\n",
       "       'uruguay', 'urupor', 'usmnt', 'vatreni', 'video', 'visaambassador',\n",
       "       'wc2018', 'wimbledon', 'win', 'wm2018', 'wordcup2018', 'world_cup',\n",
       "       'worldcup', 'worldcup18', 'worldcup2018', 'worldcup2018russia',\n",
       "       'worldcup2022', 'worldcupfinal', 'worldcupfinal2018',\n",
       "       'worldcupfinals', 'worldcupgot', 'worldcupqatar', 'worldcuprussia',\n",
       "       'worldcuprussia2018', 'xiuminleague'], dtype=object)"
      ]
     },
     "execution_count": 89,
     "metadata": {},
     "output_type": "execute_result"
    }
   ],
   "source": [
    "hashtags.get_feature_names_out()"
   ]
  },
  {
   "cell_type": "markdown",
   "id": "54cf81f3",
   "metadata": {},
   "source": [
    "Looking at us mens national team sentiment "
   ]
  },
  {
   "cell_type": "code",
   "execution_count": 90,
   "id": "284057f7",
   "metadata": {},
   "outputs": [
    {
     "data": {
      "text/plain": [
       "positive    67\n",
       "neutral     22\n",
       "negative    14\n",
       "Name: vadar sentiment, dtype: int64"
      ]
     },
     "execution_count": 90,
     "metadata": {},
     "output_type": "execute_result"
    }
   ],
   "source": [
    "fifa_clean['vadar sentiment'][my_hashtag_df['usmnt'] == 1].value_counts()"
   ]
  },
  {
   "cell_type": "markdown",
   "id": "fa1aa1ef",
   "metadata": {},
   "source": [
    "Looking at world cup qatar sentiment"
   ]
  },
  {
   "cell_type": "code",
   "execution_count": 91,
   "id": "c1c17dc6",
   "metadata": {
    "scrolled": false
   },
   "outputs": [
    {
     "data": {
      "text/plain": [
       "positive    113\n",
       "neutral      93\n",
       "negative     14\n",
       "Name: vadar sentiment, dtype: int64"
      ]
     },
     "execution_count": 91,
     "metadata": {},
     "output_type": "execute_result"
    }
   ],
   "source": [
    "fifa_clean['vadar sentiment'][my_hashtag_df['qatar2022'] == 1].value_counts()"
   ]
  },
  {
   "cell_type": "markdown",
   "id": "dd5eb11e",
   "metadata": {},
   "source": [
    "Looking at sentiment of england vs croatia hashtag tweets"
   ]
  },
  {
   "cell_type": "code",
   "execution_count": 92,
   "id": "c9631b8c",
   "metadata": {
    "scrolled": true
   },
   "outputs": [
    {
     "data": {
      "text/plain": [
       "neutral     4089\n",
       "positive    3599\n",
       "negative    1967\n",
       "Name: vadar sentiment, dtype: int64"
      ]
     },
     "execution_count": 92,
     "metadata": {},
     "output_type": "execute_result"
    }
   ],
   "source": [
    "fifa_clean['vadar sentiment'][my_hashtag_df['engcro'] == 1].value_counts()"
   ]
  },
  {
   "cell_type": "markdown",
   "id": "dcd7378f",
   "metadata": {},
   "source": [
    "Looking deeper into this game (given that croatia won and the majority of tweets come from england origin)"
   ]
  },
  {
   "cell_type": "code",
   "execution_count": 93,
   "id": "463cdf67",
   "metadata": {},
   "outputs": [
    {
     "data": {
      "text/html": [
       "<div>\n",
       "<style scoped>\n",
       "    .dataframe tbody tr th:only-of-type {\n",
       "        vertical-align: middle;\n",
       "    }\n",
       "\n",
       "    .dataframe tbody tr th {\n",
       "        vertical-align: top;\n",
       "    }\n",
       "\n",
       "    .dataframe thead th {\n",
       "        text-align: right;\n",
       "    }\n",
       "</style>\n",
       "<table border=\"1\" class=\"dataframe\">\n",
       "  <thead>\n",
       "    <tr style=\"text-align: right;\">\n",
       "      <th></th>\n",
       "      <th>Date</th>\n",
       "      <th>Source</th>\n",
       "      <th>len</th>\n",
       "      <th>Orig_Tweet</th>\n",
       "      <th>Tweet</th>\n",
       "      <th>Likes</th>\n",
       "      <th>RTs</th>\n",
       "      <th>Hashtags</th>\n",
       "      <th>UserMentionNames</th>\n",
       "      <th>Place</th>\n",
       "      <th>Followers</th>\n",
       "      <th>Friends</th>\n",
       "      <th>vadar compound</th>\n",
       "      <th>vadar sentiment</th>\n",
       "    </tr>\n",
       "  </thead>\n",
       "  <tbody>\n",
       "    <tr>\n",
       "      <th>229926</th>\n",
       "      <td>2018-07-10 15:56:27</td>\n",
       "      <td>TweetDeck</td>\n",
       "      <td>159</td>\n",
       "      <td>Wow! @jtimberlake is going to show the #ENGCRO #WorldCup match on big screens at his gig at London's O2 Arena tomorrow! #CapitalReports https://t.co/bDm8kHdDXH</td>\n",
       "      <td>Wow is going to show the match on big screens at his gig at Londons Arena tomorrow</td>\n",
       "      <td>0</td>\n",
       "      <td>0</td>\n",
       "      <td>ENGCRO,WorldCup,CapitalReports</td>\n",
       "      <td>Justin Timberlake</td>\n",
       "      <td>United Kingdom</td>\n",
       "      <td>2427</td>\n",
       "      <td>2135</td>\n",
       "      <td>0.5859</td>\n",
       "      <td>positive</td>\n",
       "    </tr>\n",
       "    <tr>\n",
       "      <th>229954</th>\n",
       "      <td>2018-07-10 15:56:23</td>\n",
       "      <td>Twitter for Android</td>\n",
       "      <td>219</td>\n",
       "      <td>#BrexitBetrayal effecting some junior #Tory MPs into resignations..... #mariaCaulfield &amp;amp; #benBradley \\r\\n\\r\\n#Brexit #FRABEL #englandaway #ENGCRO #Threelions #RAF100 #WIMBLEDON #WorldCup #MayMustGo https://t.co/BjeYgJ3Qug</td>\n",
       "      <td>effecting some junior MPs into resignations</td>\n",
       "      <td>0</td>\n",
       "      <td>0</td>\n",
       "      <td>BrexitBetrayal,Tory,mariaCaulfield,benBradley,Brexit,FRABEL,englandaway,ENGCRO,Threelions,RAF100,WIMBLEDON,WorldCup,MayMustGo</td>\n",
       "      <td>None</td>\n",
       "      <td>Other</td>\n",
       "      <td>241</td>\n",
       "      <td>522</td>\n",
       "      <td>-0.2960</td>\n",
       "      <td>negative</td>\n",
       "    </tr>\n",
       "    <tr>\n",
       "      <th>230321</th>\n",
       "      <td>2018-07-10 15:55:01</td>\n",
       "      <td>Twitter for iPhone</td>\n",
       "      <td>144</td>\n",
       "      <td>RT @HuaweiMobileUK: You asked, we listened. \\r\\nThe waistcoat is here. \\r\\nOne of you can have it for #ENGCRO.\\r\\nFollow &amp;amp; RT by 7pm and it could be…</td>\n",
       "      <td>You asked we listened The waistcoat is here One of you can have it for Follow RT by pm and it could be</td>\n",
       "      <td>0</td>\n",
       "      <td>722</td>\n",
       "      <td>ENGCRO</td>\n",
       "      <td>Huawei Mobile UK</td>\n",
       "      <td>Other</td>\n",
       "      <td>207</td>\n",
       "      <td>335</td>\n",
       "      <td>0.0000</td>\n",
       "      <td>neutral</td>\n",
       "    </tr>\n",
       "    <tr>\n",
       "      <th>230351</th>\n",
       "      <td>2018-07-10 15:54:53</td>\n",
       "      <td>Twitter for iPhone</td>\n",
       "      <td>144</td>\n",
       "      <td>RT @HuaweiMobileUK: You asked, we listened. \\r\\nThe waistcoat is here. \\r\\nOne of you can have it for #ENGCRO.\\r\\nFollow &amp;amp; RT by 7pm and it could be…</td>\n",
       "      <td>You asked we listened The waistcoat is here One of you can have it for Follow RT by pm and it could be</td>\n",
       "      <td>0</td>\n",
       "      <td>722</td>\n",
       "      <td>ENGCRO</td>\n",
       "      <td>Huawei Mobile UK</td>\n",
       "      <td>Other</td>\n",
       "      <td>463</td>\n",
       "      <td>907</td>\n",
       "      <td>0.0000</td>\n",
       "      <td>neutral</td>\n",
       "    </tr>\n",
       "    <tr>\n",
       "      <th>230367</th>\n",
       "      <td>2018-07-10 15:54:50</td>\n",
       "      <td>Twitter for Android</td>\n",
       "      <td>144</td>\n",
       "      <td>RT @HuaweiMobileUK: You asked, we listened. \\r\\nThe waistcoat is here. \\r\\nOne of you can have it for #ENGCRO.\\r\\nFollow &amp;amp; RT by 7pm and it could be…</td>\n",
       "      <td>You asked we listened The waistcoat is here One of you can have it for Follow RT by pm and it could be</td>\n",
       "      <td>0</td>\n",
       "      <td>722</td>\n",
       "      <td>ENGCRO</td>\n",
       "      <td>Huawei Mobile UK</td>\n",
       "      <td>Other</td>\n",
       "      <td>339</td>\n",
       "      <td>1556</td>\n",
       "      <td>0.0000</td>\n",
       "      <td>neutral</td>\n",
       "    </tr>\n",
       "    <tr>\n",
       "      <th>...</th>\n",
       "      <td>...</td>\n",
       "      <td>...</td>\n",
       "      <td>...</td>\n",
       "      <td>...</td>\n",
       "      <td>...</td>\n",
       "      <td>...</td>\n",
       "      <td>...</td>\n",
       "      <td>...</td>\n",
       "      <td>...</td>\n",
       "      <td>...</td>\n",
       "      <td>...</td>\n",
       "      <td>...</td>\n",
       "      <td>...</td>\n",
       "      <td>...</td>\n",
       "    </tr>\n",
       "    <tr>\n",
       "      <th>431370</th>\n",
       "      <td>2018-07-15 17:54:21</td>\n",
       "      <td>Twitter for Android</td>\n",
       "      <td>133</td>\n",
       "      <td>RT @MUGUREMWANIKI: Retweet #Croatia Like #England #WorldCup #EnglandvCroatia #ENGCRO #Eng #CroaziaInghilterra https://t.co/zvtf75IOJI</td>\n",
       "      <td>Retweet Like</td>\n",
       "      <td>0</td>\n",
       "      <td>1</td>\n",
       "      <td>Croatia,England,WorldCup,EnglandvCroatia,ENGCRO,Eng,CroaziaInghilterra</td>\n",
       "      <td>MWANIKI MUGURE</td>\n",
       "      <td>Nigeria</td>\n",
       "      <td>329</td>\n",
       "      <td>1110</td>\n",
       "      <td>0.3612</td>\n",
       "      <td>positive</td>\n",
       "    </tr>\n",
       "    <tr>\n",
       "      <th>440601</th>\n",
       "      <td>2018-07-15 17:52:02</td>\n",
       "      <td>Twitter Web Client</td>\n",
       "      <td>140</td>\n",
       "      <td>RT @Display_DMUK: The #office girls think #itscomimghome! #ComeOnEngland #worldcup #ENGCRO #threelions. #ukmanufacturing https://t.co/9TYS4…</td>\n",
       "      <td>The girls think</td>\n",
       "      <td>0</td>\n",
       "      <td>0</td>\n",
       "      <td>office,itscomimghome,ComeOnEngland,worldcup,ENGCRO,threelions,ukmanufacturing</td>\n",
       "      <td>DMUK</td>\n",
       "      <td>United Kingdom</td>\n",
       "      <td>6753</td>\n",
       "      <td>5521</td>\n",
       "      <td>0.0000</td>\n",
       "      <td>neutral</td>\n",
       "    </tr>\n",
       "    <tr>\n",
       "      <th>513551</th>\n",
       "      <td>2018-07-15 17:36:34</td>\n",
       "      <td>Twitter for iPad</td>\n",
       "      <td>140</td>\n",
       "      <td>RT @hypnotistchris: Well done England you are all coming home as hero's! #itsnotcominghome #EnglandvsCroatia #ComeOnEngland #ENGCRO #Englan…</td>\n",
       "      <td>Well done England you are all coming home as heros</td>\n",
       "      <td>0</td>\n",
       "      <td>9</td>\n",
       "      <td>itsnotcominghome,EnglandvsCroatia,ComeOnEngland,ENGCRO</td>\n",
       "      <td>Chris Hughes</td>\n",
       "      <td>United Kingdom</td>\n",
       "      <td>27617</td>\n",
       "      <td>8112</td>\n",
       "      <td>0.5267</td>\n",
       "      <td>positive</td>\n",
       "    </tr>\n",
       "    <tr>\n",
       "      <th>525920</th>\n",
       "      <td>2018-07-15 22:55:03</td>\n",
       "      <td>Twitter Web Client</td>\n",
       "      <td>140</td>\n",
       "      <td>RT @tyreshopperHQ: Are you looking forward to the #ENGCRO match tonight?\\r\\n\\r\\nWe have teamed up with @ContiUK to offer you a fantastic #WorldCu…</td>\n",
       "      <td>Are you looking forward to the match tonight We have teamed up with to offer you fantastic</td>\n",
       "      <td>0</td>\n",
       "      <td>397</td>\n",
       "      <td>ENGCRO</td>\n",
       "      <td>Tyre Shopper,Continental Tyres</td>\n",
       "      <td>Other</td>\n",
       "      <td>949</td>\n",
       "      <td>5001</td>\n",
       "      <td>0.5574</td>\n",
       "      <td>positive</td>\n",
       "    </tr>\n",
       "    <tr>\n",
       "      <th>526162</th>\n",
       "      <td>2018-07-15 22:54:40</td>\n",
       "      <td>Twitter Web Client</td>\n",
       "      <td>140</td>\n",
       "      <td>RT @DMVPromoNetwork: LMFAO! IT'S TOO EARLY FOR THIS! ?\\r\\n#ENGCRO #eng #cro #WorldCup #WorldCupFinal #worldcup2018 #CROENG\\r\\nhttps://t.co/bXOv97…</td>\n",
       "      <td>LMFAO ITs TOO EARLY FOR THIS</td>\n",
       "      <td>0</td>\n",
       "      <td>19</td>\n",
       "      <td>ENGCRO,eng,cro,WorldCup,WorldCupFinal,worldcup2018,CROENG</td>\n",
       "      <td>??DMV??</td>\n",
       "      <td>Other</td>\n",
       "      <td>24045</td>\n",
       "      <td>6818</td>\n",
       "      <td>0.6408</td>\n",
       "      <td>positive</td>\n",
       "    </tr>\n",
       "  </tbody>\n",
       "</table>\n",
       "<p>9655 rows × 14 columns</p>\n",
       "</div>"
      ],
      "text/plain": [
       "                      Date               Source  len  \\\n",
       "229926 2018-07-10 15:56:27            TweetDeck  159   \n",
       "229954 2018-07-10 15:56:23  Twitter for Android  219   \n",
       "230321 2018-07-10 15:55:01   Twitter for iPhone  144   \n",
       "230351 2018-07-10 15:54:53   Twitter for iPhone  144   \n",
       "230367 2018-07-10 15:54:50  Twitter for Android  144   \n",
       "...                    ...                  ...  ...   \n",
       "431370 2018-07-15 17:54:21  Twitter for Android  133   \n",
       "440601 2018-07-15 17:52:02   Twitter Web Client  140   \n",
       "513551 2018-07-15 17:36:34     Twitter for iPad  140   \n",
       "525920 2018-07-15 22:55:03   Twitter Web Client  140   \n",
       "526162 2018-07-15 22:54:40   Twitter Web Client  140   \n",
       "\n",
       "                                                                                                                                                                                                                               Orig_Tweet  \\\n",
       "229926                                                                    Wow! @jtimberlake is going to show the #ENGCRO #WorldCup match on big screens at his gig at London's O2 Arena tomorrow! #CapitalReports https://t.co/bDm8kHdDXH   \n",
       "229954  #BrexitBetrayal effecting some junior #Tory MPs into resignations..... #mariaCaulfield &amp; #benBradley \\r\\n\\r\\n#Brexit #FRABEL #englandaway #ENGCRO #Threelions #RAF100 #WIMBLEDON #WorldCup #MayMustGo https://t.co/BjeYgJ3Qug   \n",
       "230321                                                                          RT @HuaweiMobileUK: You asked, we listened. \\r\\nThe waistcoat is here. \\r\\nOne of you can have it for #ENGCRO.\\r\\nFollow &amp; RT by 7pm and it could be…   \n",
       "230351                                                                          RT @HuaweiMobileUK: You asked, we listened. \\r\\nThe waistcoat is here. \\r\\nOne of you can have it for #ENGCRO.\\r\\nFollow &amp; RT by 7pm and it could be…   \n",
       "230367                                                                          RT @HuaweiMobileUK: You asked, we listened. \\r\\nThe waistcoat is here. \\r\\nOne of you can have it for #ENGCRO.\\r\\nFollow &amp; RT by 7pm and it could be…   \n",
       "...                                                                                                                                                                                                                                   ...   \n",
       "431370                                                                                              RT @MUGUREMWANIKI: Retweet #Croatia Like #England #WorldCup #EnglandvCroatia #ENGCRO #Eng #CroaziaInghilterra https://t.co/zvtf75IOJI   \n",
       "440601                                                                                       RT @Display_DMUK: The #office girls think #itscomimghome! #ComeOnEngland #worldcup #ENGCRO #threelions. #ukmanufacturing https://t.co/9TYS4…   \n",
       "513551                                                                                       RT @hypnotistchris: Well done England you are all coming home as hero's! #itsnotcominghome #EnglandvsCroatia #ComeOnEngland #ENGCRO #Englan…   \n",
       "525920                                                                                 RT @tyreshopperHQ: Are you looking forward to the #ENGCRO match tonight?\\r\\n\\r\\nWe have teamed up with @ContiUK to offer you a fantastic #WorldCu…   \n",
       "526162                                                                                 RT @DMVPromoNetwork: LMFAO! IT'S TOO EARLY FOR THIS! ?\\r\\n#ENGCRO #eng #cro #WorldCup #WorldCupFinal #worldcup2018 #CROENG\\r\\nhttps://t.co/bXOv97…   \n",
       "\n",
       "                                                                                                         Tweet  \\\n",
       "229926                      Wow is going to show the match on big screens at his gig at Londons Arena tomorrow   \n",
       "229954                                                             effecting some junior MPs into resignations   \n",
       "230321  You asked we listened The waistcoat is here One of you can have it for Follow RT by pm and it could be   \n",
       "230351  You asked we listened The waistcoat is here One of you can have it for Follow RT by pm and it could be   \n",
       "230367  You asked we listened The waistcoat is here One of you can have it for Follow RT by pm and it could be   \n",
       "...                                                                                                        ...   \n",
       "431370                                                                                            Retweet Like   \n",
       "440601                                                                                         The girls think   \n",
       "513551                                                      Well done England you are all coming home as heros   \n",
       "525920              Are you looking forward to the match tonight We have teamed up with to offer you fantastic   \n",
       "526162                                                                            LMFAO ITs TOO EARLY FOR THIS   \n",
       "\n",
       "        Likes  RTs  \\\n",
       "229926      0    0   \n",
       "229954      0    0   \n",
       "230321      0  722   \n",
       "230351      0  722   \n",
       "230367      0  722   \n",
       "...       ...  ...   \n",
       "431370      0    1   \n",
       "440601      0    0   \n",
       "513551      0    9   \n",
       "525920      0  397   \n",
       "526162      0   19   \n",
       "\n",
       "                                                                                                                             Hashtags  \\\n",
       "229926                                                                                                 ENGCRO,WorldCup,CapitalReports   \n",
       "229954  BrexitBetrayal,Tory,mariaCaulfield,benBradley,Brexit,FRABEL,englandaway,ENGCRO,Threelions,RAF100,WIMBLEDON,WorldCup,MayMustGo   \n",
       "230321                                                                                                                         ENGCRO   \n",
       "230351                                                                                                                         ENGCRO   \n",
       "230367                                                                                                                         ENGCRO   \n",
       "...                                                                                                                               ...   \n",
       "431370                                                         Croatia,England,WorldCup,EnglandvCroatia,ENGCRO,Eng,CroaziaInghilterra   \n",
       "440601                                                  office,itscomimghome,ComeOnEngland,worldcup,ENGCRO,threelions,ukmanufacturing   \n",
       "513551                                                                         itsnotcominghome,EnglandvsCroatia,ComeOnEngland,ENGCRO   \n",
       "525920                                                                                                                         ENGCRO   \n",
       "526162                                                                      ENGCRO,eng,cro,WorldCup,WorldCupFinal,worldcup2018,CROENG   \n",
       "\n",
       "                      UserMentionNames           Place  Followers  Friends  \\\n",
       "229926               Justin Timberlake  United Kingdom       2427     2135   \n",
       "229954                            None           Other        241      522   \n",
       "230321                Huawei Mobile UK           Other        207      335   \n",
       "230351                Huawei Mobile UK           Other        463      907   \n",
       "230367                Huawei Mobile UK           Other        339     1556   \n",
       "...                                ...             ...        ...      ...   \n",
       "431370                  MWANIKI MUGURE         Nigeria        329     1110   \n",
       "440601                            DMUK  United Kingdom       6753     5521   \n",
       "513551                    Chris Hughes  United Kingdom      27617     8112   \n",
       "525920  Tyre Shopper,Continental Tyres           Other        949     5001   \n",
       "526162                         ??DMV??           Other      24045     6818   \n",
       "\n",
       "        vadar compound vadar sentiment  \n",
       "229926          0.5859        positive  \n",
       "229954         -0.2960        negative  \n",
       "230321          0.0000         neutral  \n",
       "230351          0.0000         neutral  \n",
       "230367          0.0000         neutral  \n",
       "...                ...             ...  \n",
       "431370          0.3612        positive  \n",
       "440601          0.0000         neutral  \n",
       "513551          0.5267        positive  \n",
       "525920          0.5574        positive  \n",
       "526162          0.6408        positive  \n",
       "\n",
       "[9655 rows x 14 columns]"
      ]
     },
     "execution_count": 93,
     "metadata": {},
     "output_type": "execute_result"
    }
   ],
   "source": [
    "fifa_clean[my_hashtag_df['engcro'] == 1]"
   ]
  },
  {
   "cell_type": "markdown",
   "id": "2f075eba",
   "metadata": {},
   "source": [
    "### Now I will vectorize usermention data to look at various popular mentions and how they are viewed based on twitter sentiment analysis"
   ]
  },
  {
   "cell_type": "code",
   "execution_count": 94,
   "id": "649bf364",
   "metadata": {},
   "outputs": [
    {
     "data": {
      "text/plain": [
       "<529449x145 sparse matrix of type '<class 'numpy.int64'>'\n",
       "\twith 940604 stored elements in Compressed Sparse Row format>"
      ]
     },
     "execution_count": 94,
     "metadata": {},
     "output_type": "execute_result"
    }
   ],
   "source": [
    "#creating bag of words model\n",
    "# 1. Instantiate \n",
    "mentions = CountVectorizer(min_df = 1000)\n",
    "\n",
    "# 2. Fit \n",
    "mentions.fit(fifa_clean['UserMentionNames'])\n",
    "\n",
    "# 3. Transform\n",
    "mentions_transformed = mentions.transform(fifa_clean['UserMentionNames'])\n",
    "mentions_transformed"
   ]
  },
  {
   "cell_type": "code",
   "execution_count": 95,
   "id": "7193858c",
   "metadata": {},
   "outputs": [
    {
     "data": {
      "text/html": [
       "<div>\n",
       "<style scoped>\n",
       "    .dataframe tbody tr th:only-of-type {\n",
       "        vertical-align: middle;\n",
       "    }\n",
       "\n",
       "    .dataframe tbody tr th {\n",
       "        vertical-align: top;\n",
       "    }\n",
       "\n",
       "    .dataframe thead th {\n",
       "        text-align: right;\n",
       "    }\n",
       "</style>\n",
       "<table border=\"1\" class=\"dataframe\">\n",
       "  <thead>\n",
       "    <tr style=\"text-align: right;\">\n",
       "      <th></th>\n",
       "      <th>191</th>\n",
       "      <th>199</th>\n",
       "      <th>2018</th>\n",
       "      <th>8bit</th>\n",
       "      <th>8fact</th>\n",
       "      <th>919</th>\n",
       "      <th>9gag</th>\n",
       "      <th>aj</th>\n",
       "      <th>arsenal</th>\n",
       "      <th>ball</th>\n",
       "      <th>...</th>\n",
       "      <th>victor</th>\n",
       "      <th>vs</th>\n",
       "      <th>vuitton</th>\n",
       "      <th>wc</th>\n",
       "      <th>world</th>\n",
       "      <th>worldcup</th>\n",
       "      <th>wright</th>\n",
       "      <th>www</th>\n",
       "      <th>zach</th>\n",
       "      <th>özil</th>\n",
       "    </tr>\n",
       "  </thead>\n",
       "  <tbody>\n",
       "    <tr>\n",
       "      <th>0</th>\n",
       "      <td>0</td>\n",
       "      <td>0</td>\n",
       "      <td>0</td>\n",
       "      <td>0</td>\n",
       "      <td>0</td>\n",
       "      <td>0</td>\n",
       "      <td>0</td>\n",
       "      <td>0</td>\n",
       "      <td>0</td>\n",
       "      <td>0</td>\n",
       "      <td>...</td>\n",
       "      <td>0</td>\n",
       "      <td>0</td>\n",
       "      <td>0</td>\n",
       "      <td>0</td>\n",
       "      <td>0</td>\n",
       "      <td>0</td>\n",
       "      <td>0</td>\n",
       "      <td>0</td>\n",
       "      <td>0</td>\n",
       "      <td>0</td>\n",
       "    </tr>\n",
       "    <tr>\n",
       "      <th>1</th>\n",
       "      <td>0</td>\n",
       "      <td>0</td>\n",
       "      <td>0</td>\n",
       "      <td>0</td>\n",
       "      <td>0</td>\n",
       "      <td>0</td>\n",
       "      <td>0</td>\n",
       "      <td>0</td>\n",
       "      <td>0</td>\n",
       "      <td>0</td>\n",
       "      <td>...</td>\n",
       "      <td>0</td>\n",
       "      <td>0</td>\n",
       "      <td>0</td>\n",
       "      <td>0</td>\n",
       "      <td>0</td>\n",
       "      <td>0</td>\n",
       "      <td>0</td>\n",
       "      <td>0</td>\n",
       "      <td>0</td>\n",
       "      <td>0</td>\n",
       "    </tr>\n",
       "    <tr>\n",
       "      <th>2</th>\n",
       "      <td>0</td>\n",
       "      <td>0</td>\n",
       "      <td>0</td>\n",
       "      <td>0</td>\n",
       "      <td>0</td>\n",
       "      <td>0</td>\n",
       "      <td>0</td>\n",
       "      <td>0</td>\n",
       "      <td>0</td>\n",
       "      <td>0</td>\n",
       "      <td>...</td>\n",
       "      <td>0</td>\n",
       "      <td>0</td>\n",
       "      <td>0</td>\n",
       "      <td>0</td>\n",
       "      <td>0</td>\n",
       "      <td>0</td>\n",
       "      <td>0</td>\n",
       "      <td>0</td>\n",
       "      <td>0</td>\n",
       "      <td>0</td>\n",
       "    </tr>\n",
       "    <tr>\n",
       "      <th>3</th>\n",
       "      <td>0</td>\n",
       "      <td>0</td>\n",
       "      <td>0</td>\n",
       "      <td>0</td>\n",
       "      <td>0</td>\n",
       "      <td>0</td>\n",
       "      <td>0</td>\n",
       "      <td>0</td>\n",
       "      <td>0</td>\n",
       "      <td>0</td>\n",
       "      <td>...</td>\n",
       "      <td>0</td>\n",
       "      <td>0</td>\n",
       "      <td>0</td>\n",
       "      <td>0</td>\n",
       "      <td>1</td>\n",
       "      <td>0</td>\n",
       "      <td>0</td>\n",
       "      <td>0</td>\n",
       "      <td>0</td>\n",
       "      <td>0</td>\n",
       "    </tr>\n",
       "    <tr>\n",
       "      <th>4</th>\n",
       "      <td>0</td>\n",
       "      <td>0</td>\n",
       "      <td>0</td>\n",
       "      <td>0</td>\n",
       "      <td>0</td>\n",
       "      <td>0</td>\n",
       "      <td>0</td>\n",
       "      <td>0</td>\n",
       "      <td>0</td>\n",
       "      <td>0</td>\n",
       "      <td>...</td>\n",
       "      <td>0</td>\n",
       "      <td>0</td>\n",
       "      <td>0</td>\n",
       "      <td>0</td>\n",
       "      <td>0</td>\n",
       "      <td>0</td>\n",
       "      <td>0</td>\n",
       "      <td>0</td>\n",
       "      <td>0</td>\n",
       "      <td>0</td>\n",
       "    </tr>\n",
       "    <tr>\n",
       "      <th>...</th>\n",
       "      <td>...</td>\n",
       "      <td>...</td>\n",
       "      <td>...</td>\n",
       "      <td>...</td>\n",
       "      <td>...</td>\n",
       "      <td>...</td>\n",
       "      <td>...</td>\n",
       "      <td>...</td>\n",
       "      <td>...</td>\n",
       "      <td>...</td>\n",
       "      <td>...</td>\n",
       "      <td>...</td>\n",
       "      <td>...</td>\n",
       "      <td>...</td>\n",
       "      <td>...</td>\n",
       "      <td>...</td>\n",
       "      <td>...</td>\n",
       "      <td>...</td>\n",
       "      <td>...</td>\n",
       "      <td>...</td>\n",
       "      <td>...</td>\n",
       "    </tr>\n",
       "    <tr>\n",
       "      <th>529444</th>\n",
       "      <td>0</td>\n",
       "      <td>0</td>\n",
       "      <td>0</td>\n",
       "      <td>0</td>\n",
       "      <td>0</td>\n",
       "      <td>0</td>\n",
       "      <td>0</td>\n",
       "      <td>0</td>\n",
       "      <td>0</td>\n",
       "      <td>0</td>\n",
       "      <td>...</td>\n",
       "      <td>0</td>\n",
       "      <td>0</td>\n",
       "      <td>0</td>\n",
       "      <td>0</td>\n",
       "      <td>1</td>\n",
       "      <td>0</td>\n",
       "      <td>0</td>\n",
       "      <td>0</td>\n",
       "      <td>0</td>\n",
       "      <td>0</td>\n",
       "    </tr>\n",
       "    <tr>\n",
       "      <th>529445</th>\n",
       "      <td>0</td>\n",
       "      <td>0</td>\n",
       "      <td>0</td>\n",
       "      <td>0</td>\n",
       "      <td>0</td>\n",
       "      <td>0</td>\n",
       "      <td>0</td>\n",
       "      <td>0</td>\n",
       "      <td>0</td>\n",
       "      <td>0</td>\n",
       "      <td>...</td>\n",
       "      <td>0</td>\n",
       "      <td>0</td>\n",
       "      <td>0</td>\n",
       "      <td>0</td>\n",
       "      <td>0</td>\n",
       "      <td>0</td>\n",
       "      <td>0</td>\n",
       "      <td>0</td>\n",
       "      <td>0</td>\n",
       "      <td>0</td>\n",
       "    </tr>\n",
       "    <tr>\n",
       "      <th>529446</th>\n",
       "      <td>0</td>\n",
       "      <td>0</td>\n",
       "      <td>0</td>\n",
       "      <td>0</td>\n",
       "      <td>0</td>\n",
       "      <td>0</td>\n",
       "      <td>0</td>\n",
       "      <td>0</td>\n",
       "      <td>0</td>\n",
       "      <td>0</td>\n",
       "      <td>...</td>\n",
       "      <td>0</td>\n",
       "      <td>0</td>\n",
       "      <td>0</td>\n",
       "      <td>0</td>\n",
       "      <td>0</td>\n",
       "      <td>0</td>\n",
       "      <td>0</td>\n",
       "      <td>0</td>\n",
       "      <td>0</td>\n",
       "      <td>0</td>\n",
       "    </tr>\n",
       "    <tr>\n",
       "      <th>529447</th>\n",
       "      <td>0</td>\n",
       "      <td>0</td>\n",
       "      <td>0</td>\n",
       "      <td>0</td>\n",
       "      <td>0</td>\n",
       "      <td>0</td>\n",
       "      <td>0</td>\n",
       "      <td>0</td>\n",
       "      <td>0</td>\n",
       "      <td>0</td>\n",
       "      <td>...</td>\n",
       "      <td>0</td>\n",
       "      <td>0</td>\n",
       "      <td>0</td>\n",
       "      <td>0</td>\n",
       "      <td>0</td>\n",
       "      <td>0</td>\n",
       "      <td>0</td>\n",
       "      <td>0</td>\n",
       "      <td>0</td>\n",
       "      <td>0</td>\n",
       "    </tr>\n",
       "    <tr>\n",
       "      <th>529448</th>\n",
       "      <td>0</td>\n",
       "      <td>0</td>\n",
       "      <td>0</td>\n",
       "      <td>0</td>\n",
       "      <td>0</td>\n",
       "      <td>0</td>\n",
       "      <td>0</td>\n",
       "      <td>0</td>\n",
       "      <td>0</td>\n",
       "      <td>0</td>\n",
       "      <td>...</td>\n",
       "      <td>0</td>\n",
       "      <td>0</td>\n",
       "      <td>0</td>\n",
       "      <td>0</td>\n",
       "      <td>0</td>\n",
       "      <td>0</td>\n",
       "      <td>0</td>\n",
       "      <td>0</td>\n",
       "      <td>0</td>\n",
       "      <td>0</td>\n",
       "    </tr>\n",
       "  </tbody>\n",
       "</table>\n",
       "<p>529449 rows × 145 columns</p>\n",
       "</div>"
      ],
      "text/plain": [
       "        191  199  2018  8bit  8fact  919  9gag  aj  arsenal  ball  ...  \\\n",
       "0         0    0     0     0      0    0     0   0        0     0  ...   \n",
       "1         0    0     0     0      0    0     0   0        0     0  ...   \n",
       "2         0    0     0     0      0    0     0   0        0     0  ...   \n",
       "3         0    0     0     0      0    0     0   0        0     0  ...   \n",
       "4         0    0     0     0      0    0     0   0        0     0  ...   \n",
       "...     ...  ...   ...   ...    ...  ...   ...  ..      ...   ...  ...   \n",
       "529444    0    0     0     0      0    0     0   0        0     0  ...   \n",
       "529445    0    0     0     0      0    0     0   0        0     0  ...   \n",
       "529446    0    0     0     0      0    0     0   0        0     0  ...   \n",
       "529447    0    0     0     0      0    0     0   0        0     0  ...   \n",
       "529448    0    0     0     0      0    0     0   0        0     0  ...   \n",
       "\n",
       "        victor  vs  vuitton  wc  world  worldcup  wright  www  zach  özil  \n",
       "0            0   0        0   0      0         0       0    0     0     0  \n",
       "1            0   0        0   0      0         0       0    0     0     0  \n",
       "2            0   0        0   0      0         0       0    0     0     0  \n",
       "3            0   0        0   0      1         0       0    0     0     0  \n",
       "4            0   0        0   0      0         0       0    0     0     0  \n",
       "...        ...  ..      ...  ..    ...       ...     ...  ...   ...   ...  \n",
       "529444       0   0        0   0      1         0       0    0     0     0  \n",
       "529445       0   0        0   0      0         0       0    0     0     0  \n",
       "529446       0   0        0   0      0         0       0    0     0     0  \n",
       "529447       0   0        0   0      0         0       0    0     0     0  \n",
       "529448       0   0        0   0      0         0       0    0     0     0  \n",
       "\n",
       "[529449 rows x 145 columns]"
      ]
     },
     "metadata": {},
     "output_type": "display_data"
    }
   ],
   "source": [
    "# We can extract the information and put it in a data frame to make it easier to see what has occured\n",
    "my_mentions_df = pd.DataFrame(columns=mentions.get_feature_names_out(), data=mentions_transformed.toarray())\n",
    "display(my_mentions_df)"
   ]
  },
  {
   "cell_type": "code",
   "execution_count": 96,
   "id": "25807e01",
   "metadata": {},
   "outputs": [
    {
     "data": {
      "text/plain": [
       "array(['191', '199', '2018', '8bit', '8fact', '919', '9gag', 'aj',\n",
       "       'arsenal', 'ball', 'barcelona', 'bbc', 'belgian', 'beydoun',\n",
       "       'bleacher', 'bolingoli9', 'boy', 'budweiser', 'ccfcfan', 'cff',\n",
       "       'chelsea', 'city', 'co', 'com', 'copa', 'courtois', 'cristiano',\n",
       "       'cup', 'david', 'day', 'de', 'devils', 'ea', 'edo', 'england',\n",
       "       'english', 'equipe', 'espn', 'exo', 'eyed', 'fc', 'ferdinand',\n",
       "       'fifa', 'football', 'footy', 'four', 'fox', 'france', 'french',\n",
       "       'giroud', 'goal', 'golo', 'harry', 'hns', 'hotspur', 'hrk800',\n",
       "       'humour', 'in', 'indy', 'itv', 'ivan', 'jadeja', 'jason', 'joe',\n",
       "       'jokes', 'kane', 'kanté', 'khaled', 'knoxpete', 'kraks', 'kylian',\n",
       "       'laureus', 'league', 'life', 'live', 'liverpool', 'louis', 'luka',\n",
       "       'lukaku', 'madrid', 'man', 'manchester', 'match', 'matterface',\n",
       "       'mbappé', 'mesut', 'mochere', 'modri', 'news', 'no', 'none', 'of',\n",
       "       'olivier', 'one', 'optajean', 'optajoe', 'palace', 'paul', 'pogba',\n",
       "       'premier', 'rakitic', 'ravindra', 'real', 'red', 'report',\n",
       "       'reuters', 'rio', 'ronaldo', 'sa', 'sam', 'samuel', 'schedule',\n",
       "       'schmeichel', 'serial', 'sir', 'soccer', 'sporf', 'sport',\n",
       "       'sports', 'sportsman', 'squawka', 'supersport', 'team', 'the',\n",
       "       'thibaut', 'top', 'tottenham', 'townsend', 'troll', 'tweet',\n",
       "       'twitter', 'uk', 'umtiti', 'undefeated', 'united', 'victor', 'vs',\n",
       "       'vuitton', 'wc', 'world', 'worldcup', 'wright', 'www', 'zach',\n",
       "       'özil'], dtype=object)"
      ]
     },
     "execution_count": 96,
     "metadata": {},
     "output_type": "execute_result"
    }
   ],
   "source": [
    "#Looking at popularly mentioned accounts\n",
    "mentions.get_feature_names_out()"
   ]
  },
  {
   "cell_type": "markdown",
   "id": "f714ed80",
   "metadata": {},
   "source": [
    "Looking at sentiment when espn is mentioned in a tweet"
   ]
  },
  {
   "cell_type": "code",
   "execution_count": 97,
   "id": "6bf5ea3d",
   "metadata": {},
   "outputs": [
    {
     "data": {
      "text/plain": [
       "positive    1336\n",
       "neutral      487\n",
       "negative     140\n",
       "Name: vadar sentiment, dtype: int64"
      ]
     },
     "execution_count": 97,
     "metadata": {},
     "output_type": "execute_result"
    }
   ],
   "source": [
    "fifa_clean['vadar sentiment'][my_mentions_df['espn'] == 1].value_counts()"
   ]
  },
  {
   "cell_type": "markdown",
   "id": "29afe933",
   "metadata": {},
   "source": [
    "Appears to be positve when users tag espn"
   ]
  },
  {
   "cell_type": "markdown",
   "id": "349c1f69",
   "metadata": {},
   "source": [
    "Looking at info of all my dfs "
   ]
  },
  {
   "cell_type": "code",
   "execution_count": 98,
   "id": "c41a369b",
   "metadata": {},
   "outputs": [
    {
     "name": "stdout",
     "output_type": "stream",
     "text": [
      "<class 'pandas.core.frame.DataFrame'>\n",
      "RangeIndex: 529449 entries, 0 to 529448\n",
      "Columns: 145 entries, 191 to özil\n",
      "dtypes: int64(145)\n",
      "memory usage: 585.7 MB\n"
     ]
    }
   ],
   "source": [
    "my_mentions_df.info(verbose = False)"
   ]
  },
  {
   "cell_type": "code",
   "execution_count": 99,
   "id": "aff60f02",
   "metadata": {},
   "outputs": [
    {
     "name": "stdout",
     "output_type": "stream",
     "text": [
      "<class 'pandas.core.frame.DataFrame'>\n",
      "RangeIndex: 529449 entries, 0 to 529448\n",
      "Columns: 306 entries, 2018 to xiuminleague\n",
      "dtypes: int64(306)\n",
      "memory usage: 1.2 GB\n"
     ]
    }
   ],
   "source": [
    "my_hashtag_df.info(verbose = False)"
   ]
  },
  {
   "cell_type": "code",
   "execution_count": 100,
   "id": "2fc090c9",
   "metadata": {},
   "outputs": [
    {
     "name": "stdout",
     "output_type": "stream",
     "text": [
      "<class 'pandas.core.frame.DataFrame'>\n",
      "RangeIndex: 529449 entries, 0 to 529448\n",
      "Columns: 600 entries, absolut to young\n",
      "dtypes: int64(600)\n",
      "memory usage: 2.4 GB\n"
     ]
    }
   ],
   "source": [
    "my_tweet_df.info(verbose = False)"
   ]
  },
  {
   "cell_type": "code",
   "execution_count": 101,
   "id": "725771f2",
   "metadata": {},
   "outputs": [
    {
     "name": "stdout",
     "output_type": "stream",
     "text": [
      "<class 'pandas.core.frame.DataFrame'>\n",
      "RangeIndex: 529449 entries, 0 to 529448\n",
      "Columns: 14 entries, Date to vadar sentiment\n",
      "dtypes: datetime64[ns](1), float64(1), int64(5), object(7)\n",
      "memory usage: 56.6+ MB\n"
     ]
    }
   ],
   "source": [
    "fifa_clean.info(verbose = False)"
   ]
  },
  {
   "cell_type": "markdown",
   "id": "be874c2e",
   "metadata": {},
   "source": [
    "### Topic modelling"
   ]
  },
  {
   "cell_type": "markdown",
   "id": "438d30f4",
   "metadata": {},
   "source": [
    "*** From lecture\n",
    "Topic modeling or topic clustering is another example applied to text - think of how Google News clusters articles into sport, business, international, politics, etc. A common method is to use Latent Dirchlet Allocation (LDA, not to be confused with Linear Discriminant Analysis, which is also abbreviated as LDA), which is a type of unsupervised learning. We could also use Non-negative Matrix Factorization (NMF)."
   ]
  },
  {
   "cell_type": "markdown",
   "id": "f9affc5d",
   "metadata": {},
   "source": [
    "I will be using topic modelling to draw out some common themes in the data and what common tweet words are being used together to build topics for discuion and exploration"
   ]
  },
  {
   "cell_type": "code",
   "execution_count": 102,
   "id": "7e190bf3",
   "metadata": {},
   "outputs": [
    {
     "name": "stdout",
     "output_type": "stream",
     "text": [
      "iteration: 1 of max_iter: 15\n",
      "iteration: 2 of max_iter: 15\n",
      "iteration: 3 of max_iter: 15\n",
      "iteration: 4 of max_iter: 15\n",
      "iteration: 5 of max_iter: 15\n",
      "iteration: 6 of max_iter: 15\n",
      "iteration: 7 of max_iter: 15\n",
      "iteration: 8 of max_iter: 15\n",
      "iteration: 9 of max_iter: 15\n",
      "iteration: 10 of max_iter: 15\n",
      "iteration: 11 of max_iter: 15\n",
      "iteration: 12 of max_iter: 15\n",
      "iteration: 13 of max_iter: 15\n",
      "iteration: 14 of max_iter: 15\n",
      "iteration: 15 of max_iter: 15\n"
     ]
    },
    {
     "data": {
      "text/plain": [
       "LatentDirichletAllocation(max_iter=15, n_components=15, random_state=1,\n",
       "                          verbose=1)"
      ]
     },
     "execution_count": 102,
     "metadata": {},
     "output_type": "execute_result"
    }
   ],
   "source": [
    "#importing LDA and fitting model on tweet column data\n",
    "from sklearn.decomposition import LatentDirichletAllocation\n",
    "\n",
    "# fit the LDA topic model ttrying to form 20 topics from data in tweet column\n",
    "lda = LatentDirichletAllocation(\n",
    "    n_components=15, \n",
    "    max_iter=15,\n",
    "    random_state=1,\n",
    "    verbose=1\n",
    ")\n",
    "\n",
    "lda.fit(fifa_clean_transformed)"
   ]
  },
  {
   "cell_type": "code",
   "execution_count": 103,
   "id": "a23b3c2d",
   "metadata": {},
   "outputs": [
    {
     "name": "stdout",
     "output_type": "stream",
     "text": [
      "Topic #0 words: final world cup croatia quarter england winner reach semi congratul\n",
      "Topic #1 words: play power pleas exo song love fifa got fair stadium\n",
      "Topic #2 words: game match last vs watch tonight live croatia singl take\n",
      "Topic #3 words: franc argentina spain like uruguay retweet belgium brazil russia portug\n",
      "Topic #4 words: footbal two day well deserv tournament break modric star follow\n",
      "Topic #5 words: fan one let russia footbal flag display form pride moment\n",
      "Topic #6 words: penalti save shootout proud croatia schmeichel goalkeep time still kasper\n",
      "Topic #7 words: come home make go final support england start world back\n",
      "Topic #8 words: player franc immigr first great team complet done celebr congrat\n",
      "Topic #9 words: messi ronaldo lionel world win end got final cup year\n",
      "Topic #10 words: fifa golden franc award mbapp kylian moscow player young ball\n",
      "Topic #11 words: win franc team congratul african dear cut racism xenophobi power\n",
      "Topic #12 words: time watch get pogba look see paul say today like\n",
      "Topic #13 words: goal champion score sorri worldcup rain peris reign pun pavard\n",
      "Topic #14 words: best miss russia alreadi player els um congratul even captain\n"
     ]
    },
    {
     "name": "stderr",
     "output_type": "stream",
     "text": [
      "C:\\Users\\miles\\anaconda3\\lib\\site-packages\\sklearn\\utils\\deprecation.py:87: FutureWarning: Function get_feature_names is deprecated; get_feature_names is deprecated in 1.0 and will be removed in 1.2. Please use get_feature_names_out instead.\n",
      "  warnings.warn(msg, category=FutureWarning)\n"
     ]
    }
   ],
   "source": [
    "# for each topic, print the the top 10 most representative words, for tweet column data\n",
    "words = bagofwords.get_feature_names()\n",
    "\n",
    "for i, topic in enumerate(lda.components_):\n",
    "    topic_words = \" \".join([words[j] for j in topic.argsort()[: -11: -1]])\n",
    "    print(f\"Topic #{i} words: {topic_words}\")"
   ]
  },
  {
   "cell_type": "markdown",
   "id": "917849fb",
   "metadata": {},
   "source": [
    "Looking at how well the model performed"
   ]
  },
  {
   "cell_type": "code",
   "execution_count": 104,
   "id": "98c766e0",
   "metadata": {},
   "outputs": [
    {
     "name": "stdout",
     "output_type": "stream",
     "text": [
      "Log Likelihood:  -15357893.262445923\n",
      "Perplexity:  198.14711018224014\n"
     ]
    }
   ],
   "source": [
    "# Log Likelyhood: Higher the better\n",
    "print(\"Log Likelihood: \", lda.score(fifa_clean_transformed))\n",
    "\n",
    "# Perplexity: Lower the better. Perplexity = exp(-1. * log-likelihood per word)\n",
    "print(\"Perplexity: \", lda.perplexity(fifa_clean_transformed))"
   ]
  },
  {
   "cell_type": "markdown",
   "id": "5ccd5241",
   "metadata": {},
   "source": [
    "Performance scores look good"
   ]
  },
  {
   "cell_type": "markdown",
   "id": "88fb2def",
   "metadata": {},
   "source": [
    "### Dashboard Data Exploration"
   ]
  },
  {
   "cell_type": "markdown",
   "id": "13318e3a",
   "metadata": {},
   "source": [
    "#### Referees"
   ]
  },
  {
   "cell_type": "markdown",
   "id": "58e66e09",
   "metadata": {},
   "source": [
    "Looking into sentiment on referee related tweets "
   ]
  },
  {
   "cell_type": "code",
   "execution_count": 105,
   "id": "4963f7b6",
   "metadata": {},
   "outputs": [
    {
     "data": {
      "text/html": [
       "<div>\n",
       "<style scoped>\n",
       "    .dataframe tbody tr th:only-of-type {\n",
       "        vertical-align: middle;\n",
       "    }\n",
       "\n",
       "    .dataframe tbody tr th {\n",
       "        vertical-align: top;\n",
       "    }\n",
       "\n",
       "    .dataframe thead th {\n",
       "        text-align: right;\n",
       "    }\n",
       "</style>\n",
       "<table border=\"1\" class=\"dataframe\">\n",
       "  <thead>\n",
       "    <tr style=\"text-align: right;\">\n",
       "      <th></th>\n",
       "      <th>Date</th>\n",
       "      <th>Source</th>\n",
       "      <th>len</th>\n",
       "      <th>Orig_Tweet</th>\n",
       "      <th>Tweet</th>\n",
       "      <th>Likes</th>\n",
       "      <th>RTs</th>\n",
       "      <th>Hashtags</th>\n",
       "      <th>UserMentionNames</th>\n",
       "      <th>Place</th>\n",
       "      <th>Followers</th>\n",
       "      <th>Friends</th>\n",
       "      <th>vadar compound</th>\n",
       "      <th>vadar sentiment</th>\n",
       "    </tr>\n",
       "  </thead>\n",
       "  <tbody>\n",
       "    <tr>\n",
       "      <th>438</th>\n",
       "      <td>2018-07-02 01:31:52</td>\n",
       "      <td>Twitter for iPhone</td>\n",
       "      <td>116</td>\n",
       "      <td>RT @SoccerMemes: \"Yes, it's me. Tell the referee his family has been released.\" ?? #WorldCup https://t.co/Kb7SisWW9c</td>\n",
       "      <td>Yes its me Tell the referee his family has been released</td>\n",
       "      <td>0</td>\n",
       "      <td>194</td>\n",
       "      <td>WorldCup</td>\n",
       "      <td>Soccer Memes</td>\n",
       "      <td>Other</td>\n",
       "      <td>42</td>\n",
       "      <td>202</td>\n",
       "      <td>0.4019</td>\n",
       "      <td>positive</td>\n",
       "    </tr>\n",
       "    <tr>\n",
       "      <th>918</th>\n",
       "      <td>2018-07-02 01:27:43</td>\n",
       "      <td>Twitter for iPhone</td>\n",
       "      <td>116</td>\n",
       "      <td>RT @SoccerMemes: \"Yes, it's me. Tell the referee his family has been released.\" ?? #WorldCup https://t.co/Kb7SisWW9c</td>\n",
       "      <td>Yes its me Tell the referee his family has been released</td>\n",
       "      <td>0</td>\n",
       "      <td>194</td>\n",
       "      <td>WorldCup</td>\n",
       "      <td>Soccer Memes</td>\n",
       "      <td>Other</td>\n",
       "      <td>623</td>\n",
       "      <td>469</td>\n",
       "      <td>0.4019</td>\n",
       "      <td>positive</td>\n",
       "    </tr>\n",
       "    <tr>\n",
       "      <th>3868</th>\n",
       "      <td>2018-07-02 01:02:14</td>\n",
       "      <td>Twitter Web Client</td>\n",
       "      <td>140</td>\n",
       "      <td>RT @TheMichaelMoran: It is my contention that Clésio Moreira dos Santos should referee the #WorldCup final. And indeed all matches, ever ht…</td>\n",
       "      <td>It is my contention that Cl sio Moreira dos Santos should referee the final And indeed all matches ever ht</td>\n",
       "      <td>0</td>\n",
       "      <td>825</td>\n",
       "      <td>WorldCup</td>\n",
       "      <td>Michael Moran</td>\n",
       "      <td>United Kingdom</td>\n",
       "      <td>438</td>\n",
       "      <td>132</td>\n",
       "      <td>0.0000</td>\n",
       "      <td>neutral</td>\n",
       "    </tr>\n",
       "    <tr>\n",
       "      <th>4654</th>\n",
       "      <td>2018-07-02 00:56:30</td>\n",
       "      <td>Twitter Web Client</td>\n",
       "      <td>153</td>\n",
       "      <td>@neontaster Did you catch the Scotland-Tuscany game? Seems like everyone on Twitter was at each others' throats over referee decisions. #SCOTUS #WorldCup</td>\n",
       "      <td>Did you catch the Scotland Tuscany game Seems like everyone on Twitter was at each others throats over referee decisions</td>\n",
       "      <td>0</td>\n",
       "      <td>0</td>\n",
       "      <td>SCOTUS,WorldCup</td>\n",
       "      <td>neontaster</td>\n",
       "      <td>Other</td>\n",
       "      <td>101</td>\n",
       "      <td>224</td>\n",
       "      <td>0.3612</td>\n",
       "      <td>positive</td>\n",
       "    </tr>\n",
       "    <tr>\n",
       "      <th>5971</th>\n",
       "      <td>2018-07-02 00:45:50</td>\n",
       "      <td>Twitter for Android</td>\n",
       "      <td>116</td>\n",
       "      <td>RT @SoccerMemes: \"Yes, it's me. Tell the referee his family has been released.\" ?? #WorldCup https://t.co/Kb7SisWW9c</td>\n",
       "      <td>Yes its me Tell the referee his family has been released</td>\n",
       "      <td>0</td>\n",
       "      <td>194</td>\n",
       "      <td>WorldCup</td>\n",
       "      <td>Soccer Memes</td>\n",
       "      <td>Other</td>\n",
       "      <td>675</td>\n",
       "      <td>522</td>\n",
       "      <td>0.4019</td>\n",
       "      <td>positive</td>\n",
       "    </tr>\n",
       "    <tr>\n",
       "      <th>...</th>\n",
       "      <td>...</td>\n",
       "      <td>...</td>\n",
       "      <td>...</td>\n",
       "      <td>...</td>\n",
       "      <td>...</td>\n",
       "      <td>...</td>\n",
       "      <td>...</td>\n",
       "      <td>...</td>\n",
       "      <td>...</td>\n",
       "      <td>...</td>\n",
       "      <td>...</td>\n",
       "      <td>...</td>\n",
       "      <td>...</td>\n",
       "      <td>...</td>\n",
       "    </tr>\n",
       "    <tr>\n",
       "      <th>521537</th>\n",
       "      <td>2018-07-15 23:02:32</td>\n",
       "      <td>Twitter for iPhone</td>\n",
       "      <td>139</td>\n",
       "      <td>RT @RateTheRef: Congrats to Alireza Faghani, who wins the RTR league for the 2018 #WorldCup\\r\\nAnd well done to all the referees for what was…</td>\n",
       "      <td>Congrats to Alireza Faghani who wins the RTR league for the And well done to all the referees for what was</td>\n",
       "      <td>0</td>\n",
       "      <td>35</td>\n",
       "      <td>WorldCup</td>\n",
       "      <td>Rate the Ref</td>\n",
       "      <td>Canada</td>\n",
       "      <td>286</td>\n",
       "      <td>217</td>\n",
       "      <td>0.8481</td>\n",
       "      <td>positive</td>\n",
       "    </tr>\n",
       "    <tr>\n",
       "      <th>521801</th>\n",
       "      <td>2018-07-15 23:02:05</td>\n",
       "      <td>Twitter for iPhone</td>\n",
       "      <td>104</td>\n",
       "      <td>RT @Carra23: It’s the referee’s mistake not VAR! VAR is just a replay of an incident!! #WorldCup #FRACRO</td>\n",
       "      <td>It the referee mistake not VAR VAR is just replay of an incident</td>\n",
       "      <td>0</td>\n",
       "      <td>2143</td>\n",
       "      <td>WorldCup,FRACRO</td>\n",
       "      <td>Jamie Carragher</td>\n",
       "      <td>Other</td>\n",
       "      <td>13</td>\n",
       "      <td>155</td>\n",
       "      <td>-0.3400</td>\n",
       "      <td>negative</td>\n",
       "    </tr>\n",
       "    <tr>\n",
       "      <th>526679</th>\n",
       "      <td>2018-07-15 22:53:48</td>\n",
       "      <td>Twitter for Android</td>\n",
       "      <td>305</td>\n",
       "      <td>@Jaribho @SuperSportTV Well, the case of an own goal is explicitly different. As much as I know, #intent is taken into consideration by referees on alot of occasions. If every handball in the 16yard box should result in PK's, #Nigeria should have gotten one vs #Argentina &amp;amp; even more in this #WorldCup</td>\n",
       "      <td>Well the case of an own goal is explicitly different As much as know is taken into consideration by referees on alot of occasions If every handball in the yard box should result in PKs should have gotten one vs even more in this</td>\n",
       "      <td>0</td>\n",
       "      <td>0</td>\n",
       "      <td>intent,Nigeria,Argentina,WorldCup</td>\n",
       "      <td>Owen Zaba,SuperSport ???</td>\n",
       "      <td>Nigeria</td>\n",
       "      <td>457</td>\n",
       "      <td>889</td>\n",
       "      <td>0.2732</td>\n",
       "      <td>positive</td>\n",
       "    </tr>\n",
       "    <tr>\n",
       "      <th>527462</th>\n",
       "      <td>2018-07-15 22:52:30</td>\n",
       "      <td>Twitter for iPhone</td>\n",
       "      <td>104</td>\n",
       "      <td>RT @Carra23: It’s the referee’s mistake not VAR! VAR is just a replay of an incident!! #WorldCup #FRACRO</td>\n",
       "      <td>It the referee mistake not VAR VAR is just replay of an incident</td>\n",
       "      <td>0</td>\n",
       "      <td>2143</td>\n",
       "      <td>WorldCup,FRACRO</td>\n",
       "      <td>Jamie Carragher</td>\n",
       "      <td>Other</td>\n",
       "      <td>7</td>\n",
       "      <td>257</td>\n",
       "      <td>-0.3400</td>\n",
       "      <td>negative</td>\n",
       "    </tr>\n",
       "    <tr>\n",
       "      <th>529195</th>\n",
       "      <td>2018-07-15 22:49:37</td>\n",
       "      <td>Twitter for iPhone</td>\n",
       "      <td>104</td>\n",
       "      <td>RT @Carra23: It’s the referee’s mistake not VAR! VAR is just a replay of an incident!! #WorldCup #FRACRO</td>\n",
       "      <td>It the referee mistake not VAR VAR is just replay of an incident</td>\n",
       "      <td>0</td>\n",
       "      <td>2143</td>\n",
       "      <td>WorldCup,FRACRO</td>\n",
       "      <td>Jamie Carragher</td>\n",
       "      <td>Other</td>\n",
       "      <td>209</td>\n",
       "      <td>491</td>\n",
       "      <td>-0.3400</td>\n",
       "      <td>negative</td>\n",
       "    </tr>\n",
       "  </tbody>\n",
       "</table>\n",
       "<p>617 rows × 14 columns</p>\n",
       "</div>"
      ],
      "text/plain": [
       "                      Date               Source  len  \\\n",
       "438    2018-07-02 01:31:52   Twitter for iPhone  116   \n",
       "918    2018-07-02 01:27:43   Twitter for iPhone  116   \n",
       "3868   2018-07-02 01:02:14   Twitter Web Client  140   \n",
       "4654   2018-07-02 00:56:30   Twitter Web Client  153   \n",
       "5971   2018-07-02 00:45:50  Twitter for Android  116   \n",
       "...                    ...                  ...  ...   \n",
       "521537 2018-07-15 23:02:32   Twitter for iPhone  139   \n",
       "521801 2018-07-15 23:02:05   Twitter for iPhone  104   \n",
       "526679 2018-07-15 22:53:48  Twitter for Android  305   \n",
       "527462 2018-07-15 22:52:30   Twitter for iPhone  104   \n",
       "529195 2018-07-15 22:49:37   Twitter for iPhone  104   \n",
       "\n",
       "                                                                                                                                                                                                                                                                                                               Orig_Tweet  \\\n",
       "438                                                                                                                                                                                                  RT @SoccerMemes: \"Yes, it's me. Tell the referee his family has been released.\" ?? #WorldCup https://t.co/Kb7SisWW9c   \n",
       "918                                                                                                                                                                                                  RT @SoccerMemes: \"Yes, it's me. Tell the referee his family has been released.\" ?? #WorldCup https://t.co/Kb7SisWW9c   \n",
       "3868                                                                                                                                                                         RT @TheMichaelMoran: It is my contention that Clésio Moreira dos Santos should referee the #WorldCup final. And indeed all matches, ever ht…   \n",
       "4654                                                                                                                                                            @neontaster Did you catch the Scotland-Tuscany game? Seems like everyone on Twitter was at each others' throats over referee decisions. #SCOTUS #WorldCup   \n",
       "5971                                                                                                                                                                                                 RT @SoccerMemes: \"Yes, it's me. Tell the referee his family has been released.\" ?? #WorldCup https://t.co/Kb7SisWW9c   \n",
       "...                                                                                                                                                                                                                                                                                                                   ...   \n",
       "521537                                                                                                                                                                     RT @RateTheRef: Congrats to Alireza Faghani, who wins the RTR league for the 2018 #WorldCup\\r\\nAnd well done to all the referees for what was…   \n",
       "521801                                                                                                                                                                                                           RT @Carra23: It’s the referee’s mistake not VAR! VAR is just a replay of an incident!! #WorldCup #FRACRO   \n",
       "526679  @Jaribho @SuperSportTV Well, the case of an own goal is explicitly different. As much as I know, #intent is taken into consideration by referees on alot of occasions. If every handball in the 16yard box should result in PK's, #Nigeria should have gotten one vs #Argentina &amp; even more in this #WorldCup   \n",
       "527462                                                                                                                                                                                                           RT @Carra23: It’s the referee’s mistake not VAR! VAR is just a replay of an incident!! #WorldCup #FRACRO   \n",
       "529195                                                                                                                                                                                                           RT @Carra23: It’s the referee’s mistake not VAR! VAR is just a replay of an incident!! #WorldCup #FRACRO   \n",
       "\n",
       "                                                                                                                                                                                                                                       Tweet  \\\n",
       "438                                                                                                                                                                                 Yes its me Tell the referee his family has been released   \n",
       "918                                                                                                                                                                                 Yes its me Tell the referee his family has been released   \n",
       "3868                                                                                                                              It is my contention that Cl sio Moreira dos Santos should referee the final And indeed all matches ever ht   \n",
       "4654                                                                                                                Did you catch the Scotland Tuscany game Seems like everyone on Twitter was at each others throats over referee decisions   \n",
       "5971                                                                                                                                                                                Yes its me Tell the referee his family has been released   \n",
       "...                                                                                                                                                                                                                                      ...   \n",
       "521537                                                                                                                            Congrats to Alireza Faghani who wins the RTR league for the And well done to all the referees for what was   \n",
       "521801                                                                                                                                                                      It the referee mistake not VAR VAR is just replay of an incident   \n",
       "526679  Well the case of an own goal is explicitly different As much as know is taken into consideration by referees on alot of occasions If every handball in the yard box should result in PKs should have gotten one vs even more in this   \n",
       "527462                                                                                                                                                                      It the referee mistake not VAR VAR is just replay of an incident   \n",
       "529195                                                                                                                                                                      It the referee mistake not VAR VAR is just replay of an incident   \n",
       "\n",
       "        Likes   RTs                           Hashtags  \\\n",
       "438         0   194                           WorldCup   \n",
       "918         0   194                           WorldCup   \n",
       "3868        0   825                           WorldCup   \n",
       "4654        0     0                    SCOTUS,WorldCup   \n",
       "5971        0   194                           WorldCup   \n",
       "...       ...   ...                                ...   \n",
       "521537      0    35                           WorldCup   \n",
       "521801      0  2143                    WorldCup,FRACRO   \n",
       "526679      0     0  intent,Nigeria,Argentina,WorldCup   \n",
       "527462      0  2143                    WorldCup,FRACRO   \n",
       "529195      0  2143                    WorldCup,FRACRO   \n",
       "\n",
       "                UserMentionNames           Place  Followers  Friends  \\\n",
       "438                 Soccer Memes           Other         42      202   \n",
       "918                 Soccer Memes           Other        623      469   \n",
       "3868               Michael Moran  United Kingdom        438      132   \n",
       "4654                  neontaster           Other        101      224   \n",
       "5971                Soccer Memes           Other        675      522   \n",
       "...                          ...             ...        ...      ...   \n",
       "521537              Rate the Ref          Canada        286      217   \n",
       "521801           Jamie Carragher           Other         13      155   \n",
       "526679  Owen Zaba,SuperSport ???         Nigeria        457      889   \n",
       "527462           Jamie Carragher           Other          7      257   \n",
       "529195           Jamie Carragher           Other        209      491   \n",
       "\n",
       "        vadar compound vadar sentiment  \n",
       "438             0.4019        positive  \n",
       "918             0.4019        positive  \n",
       "3868            0.0000         neutral  \n",
       "4654            0.3612        positive  \n",
       "5971            0.4019        positive  \n",
       "...                ...             ...  \n",
       "521537          0.8481        positive  \n",
       "521801         -0.3400        negative  \n",
       "526679          0.2732        positive  \n",
       "527462         -0.3400        negative  \n",
       "529195         -0.3400        negative  \n",
       "\n",
       "[617 rows x 14 columns]"
      ]
     },
     "execution_count": 105,
     "metadata": {},
     "output_type": "execute_result"
    }
   ],
   "source": [
    "fifa_clean.loc[fifa_clean['Tweet'].str.contains(\"referee\")==True]"
   ]
  },
  {
   "cell_type": "code",
   "execution_count": 106,
   "id": "70d65ffa",
   "metadata": {},
   "outputs": [
    {
     "data": {
      "text/plain": [
       "negative    0.361426\n",
       "positive    0.322528\n",
       "neutral     0.316045\n",
       "Name: vadar sentiment, dtype: float64"
      ]
     },
     "execution_count": 106,
     "metadata": {},
     "output_type": "execute_result"
    }
   ],
   "source": [
    "fifa_clean['vadar sentiment'][fifa_clean['Tweet'].str.contains(\"referee\")==True].value_counts(1)"
   ]
  },
  {
   "cell_type": "markdown",
   "id": "7ba6694b",
   "metadata": {},
   "source": [
    "In this case a negative sentiment is felt by the majority of users talking babout refreeing, the distribution is in line with negativity much greater than the overall sentiment of the dataset previously looked at."
   ]
  },
  {
   "cell_type": "markdown",
   "id": "687ad814",
   "metadata": {},
   "source": [
    "#### VAR introduction"
   ]
  },
  {
   "cell_type": "markdown",
   "id": "e2eac65a",
   "metadata": {},
   "source": [
    "VAR refereeing system was introduced during this edition of the world cup, I will be taking a look at the sentiment. "
   ]
  },
  {
   "cell_type": "code",
   "execution_count": 107,
   "id": "a7ddb049",
   "metadata": {},
   "outputs": [
    {
     "data": {
      "text/html": [
       "<div>\n",
       "<style scoped>\n",
       "    .dataframe tbody tr th:only-of-type {\n",
       "        vertical-align: middle;\n",
       "    }\n",
       "\n",
       "    .dataframe tbody tr th {\n",
       "        vertical-align: top;\n",
       "    }\n",
       "\n",
       "    .dataframe thead th {\n",
       "        text-align: right;\n",
       "    }\n",
       "</style>\n",
       "<table border=\"1\" class=\"dataframe\">\n",
       "  <thead>\n",
       "    <tr style=\"text-align: right;\">\n",
       "      <th></th>\n",
       "      <th>Date</th>\n",
       "      <th>Source</th>\n",
       "      <th>len</th>\n",
       "      <th>Orig_Tweet</th>\n",
       "      <th>Tweet</th>\n",
       "      <th>Likes</th>\n",
       "      <th>RTs</th>\n",
       "      <th>Hashtags</th>\n",
       "      <th>UserMentionNames</th>\n",
       "      <th>Place</th>\n",
       "      <th>Followers</th>\n",
       "      <th>Friends</th>\n",
       "      <th>vadar compound</th>\n",
       "      <th>vadar sentiment</th>\n",
       "    </tr>\n",
       "  </thead>\n",
       "  <tbody>\n",
       "    <tr>\n",
       "      <th>673</th>\n",
       "      <td>2018-07-02 01:30:00</td>\n",
       "      <td>Facebook</td>\n",
       "      <td>160</td>\n",
       "      <td>World Cup fever has hit @500bourke! Come down for your chance to win BIG... no VAR though ?? \\r\\n.\\r\\n.\\r\\n.\\r\\n.\\r\\n.\\r\\n#promo #melbourne #event #work #worldcup #soccer #sports</td>\n",
       "      <td>World Cup fever has hit Come down for your chance to win BIG no VAR though</td>\n",
       "      <td>0</td>\n",
       "      <td>0</td>\n",
       "      <td>promo,melbourne,event,work,worldcup,soccer,sports</td>\n",
       "      <td>None</td>\n",
       "      <td>Australia</td>\n",
       "      <td>117</td>\n",
       "      <td>164</td>\n",
       "      <td>0.5574</td>\n",
       "      <td>positive</td>\n",
       "    </tr>\n",
       "    <tr>\n",
       "      <th>1131</th>\n",
       "      <td>2018-07-02 01:25:54</td>\n",
       "      <td>Twitter Lite</td>\n",
       "      <td>102</td>\n",
       "      <td>RT @JohnOdedeji: Issa VAR street video #WorldCup \\r\\n\\r\\nAfricans Play too much ???? https://t.co/3tOcEYWeVs</td>\n",
       "      <td>Issa VAR street video Africans Play too much</td>\n",
       "      <td>0</td>\n",
       "      <td>1511</td>\n",
       "      <td>WorldCup</td>\n",
       "      <td>Omo Akure</td>\n",
       "      <td>Other</td>\n",
       "      <td>1214</td>\n",
       "      <td>575</td>\n",
       "      <td>0.3400</td>\n",
       "      <td>positive</td>\n",
       "    </tr>\n",
       "    <tr>\n",
       "      <th>2259</th>\n",
       "      <td>2018-07-02 01:15:38</td>\n",
       "      <td>Twitter for Android</td>\n",
       "      <td>102</td>\n",
       "      <td>RT @JohnOdedeji: Issa VAR street video #WorldCup \\r\\n\\r\\nAfricans Play too much ???? https://t.co/3tOcEYWeVs</td>\n",
       "      <td>Issa VAR street video Africans Play too much</td>\n",
       "      <td>0</td>\n",
       "      <td>1511</td>\n",
       "      <td>WorldCup</td>\n",
       "      <td>Omo Akure</td>\n",
       "      <td>Other</td>\n",
       "      <td>335</td>\n",
       "      <td>441</td>\n",
       "      <td>0.3400</td>\n",
       "      <td>positive</td>\n",
       "    </tr>\n",
       "    <tr>\n",
       "      <th>2684</th>\n",
       "      <td>2018-07-02 01:11:47</td>\n",
       "      <td>Twitter for iPhone</td>\n",
       "      <td>102</td>\n",
       "      <td>RT @JohnOdedeji: Issa VAR street video #WorldCup \\r\\n\\r\\nAfricans Play too much ???? https://t.co/3tOcEYWeVs</td>\n",
       "      <td>Issa VAR street video Africans Play too much</td>\n",
       "      <td>0</td>\n",
       "      <td>1511</td>\n",
       "      <td>WorldCup</td>\n",
       "      <td>Omo Akure</td>\n",
       "      <td>Other</td>\n",
       "      <td>159</td>\n",
       "      <td>114</td>\n",
       "      <td>0.3400</td>\n",
       "      <td>positive</td>\n",
       "    </tr>\n",
       "    <tr>\n",
       "      <th>2925</th>\n",
       "      <td>2018-07-02 01:09:49</td>\n",
       "      <td>Twitter for Android</td>\n",
       "      <td>102</td>\n",
       "      <td>RT @JohnOdedeji: Issa VAR street video #WorldCup \\r\\n\\r\\nAfricans Play too much ???? https://t.co/3tOcEYWeVs</td>\n",
       "      <td>Issa VAR street video Africans Play too much</td>\n",
       "      <td>0</td>\n",
       "      <td>1511</td>\n",
       "      <td>WorldCup</td>\n",
       "      <td>Omo Akure</td>\n",
       "      <td>Other</td>\n",
       "      <td>70</td>\n",
       "      <td>117</td>\n",
       "      <td>0.3400</td>\n",
       "      <td>positive</td>\n",
       "    </tr>\n",
       "    <tr>\n",
       "      <th>...</th>\n",
       "      <td>...</td>\n",
       "      <td>...</td>\n",
       "      <td>...</td>\n",
       "      <td>...</td>\n",
       "      <td>...</td>\n",
       "      <td>...</td>\n",
       "      <td>...</td>\n",
       "      <td>...</td>\n",
       "      <td>...</td>\n",
       "      <td>...</td>\n",
       "      <td>...</td>\n",
       "      <td>...</td>\n",
       "      <td>...</td>\n",
       "      <td>...</td>\n",
       "    </tr>\n",
       "    <tr>\n",
       "      <th>527462</th>\n",
       "      <td>2018-07-15 22:52:30</td>\n",
       "      <td>Twitter for iPhone</td>\n",
       "      <td>104</td>\n",
       "      <td>RT @Carra23: It’s the referee’s mistake not VAR! VAR is just a replay of an incident!! #WorldCup #FRACRO</td>\n",
       "      <td>It the referee mistake not VAR VAR is just replay of an incident</td>\n",
       "      <td>0</td>\n",
       "      <td>2143</td>\n",
       "      <td>WorldCup,FRACRO</td>\n",
       "      <td>Jamie Carragher</td>\n",
       "      <td>Other</td>\n",
       "      <td>7</td>\n",
       "      <td>257</td>\n",
       "      <td>-0.3400</td>\n",
       "      <td>negative</td>\n",
       "    </tr>\n",
       "    <tr>\n",
       "      <th>527602</th>\n",
       "      <td>2018-07-15 22:52:15</td>\n",
       "      <td>Twitter for iPhone</td>\n",
       "      <td>299</td>\n",
       "      <td>Jose Mourinho: ‘I think Croatia-France since the beginning was a good final, was a really good final. And I would like to see this second half starting with a 1-1, not with a 2-1. And especially with a 2-1 of a goal that will be forever the final of VAR.’ #FRA #CRO #WorldCup https://t.co/4sSskav9fm</td>\n",
       "      <td>Jose Mourinho think Croatia France since the beginning was good final was really good final And would like to see this second half starting with not with And especially with of goal that will be forever the final of VAR</td>\n",
       "      <td>15</td>\n",
       "      <td>4</td>\n",
       "      <td>FRA,CRO,WorldCup</td>\n",
       "      <td>None</td>\n",
       "      <td>Other</td>\n",
       "      <td>107253</td>\n",
       "      <td>1620</td>\n",
       "      <td>0.8074</td>\n",
       "      <td>positive</td>\n",
       "    </tr>\n",
       "    <tr>\n",
       "      <th>528840</th>\n",
       "      <td>2018-07-15 22:50:11</td>\n",
       "      <td>Twitter for Android</td>\n",
       "      <td>137</td>\n",
       "      <td>The VAR must now be used to stamp out the scourge of play acting, its spoiling our great game #FIFA #worldcup @TheWorldGame @Craig_Foster</td>\n",
       "      <td>The VAR must now be used to stamp out the scourge of play acting its spoiling our great game</td>\n",
       "      <td>0</td>\n",
       "      <td>0</td>\n",
       "      <td>FIFA,worldcup</td>\n",
       "      <td>SBS - The World Game,Craig Foster</td>\n",
       "      <td>Other</td>\n",
       "      <td>1610</td>\n",
       "      <td>1329</td>\n",
       "      <td>0.7579</td>\n",
       "      <td>positive</td>\n",
       "    </tr>\n",
       "    <tr>\n",
       "      <th>529195</th>\n",
       "      <td>2018-07-15 22:49:37</td>\n",
       "      <td>Twitter for iPhone</td>\n",
       "      <td>104</td>\n",
       "      <td>RT @Carra23: It’s the referee’s mistake not VAR! VAR is just a replay of an incident!! #WorldCup #FRACRO</td>\n",
       "      <td>It the referee mistake not VAR VAR is just replay of an incident</td>\n",
       "      <td>0</td>\n",
       "      <td>2143</td>\n",
       "      <td>WorldCup,FRACRO</td>\n",
       "      <td>Jamie Carragher</td>\n",
       "      <td>Other</td>\n",
       "      <td>209</td>\n",
       "      <td>491</td>\n",
       "      <td>-0.3400</td>\n",
       "      <td>negative</td>\n",
       "    </tr>\n",
       "    <tr>\n",
       "      <th>529434</th>\n",
       "      <td>2018-07-15 22:49:12</td>\n",
       "      <td>Twitter for Android</td>\n",
       "      <td>138</td>\n",
       "      <td>RT @Sporf: ? Ronaldo's Hattrick\\r\\n\\r\\n?? Germany Out In Groups\\r\\n\\r\\n? Late Winners\\r\\n\\r\\n? Worldie Strikes\\r\\n\\r\\n? Penalty Shootout Drama\\r\\n\\r\\n? VAR Controversy…</td>\n",
       "      <td>Ronaldos Hattrick Germany Out In Groups Late Winners Worldie Strikes Penalty Shootout Drama VAR Controversy</td>\n",
       "      <td>0</td>\n",
       "      <td>1138</td>\n",
       "      <td>None</td>\n",
       "      <td>SPORF</td>\n",
       "      <td>United Kingdom</td>\n",
       "      <td>55</td>\n",
       "      <td>324</td>\n",
       "      <td>-0.3400</td>\n",
       "      <td>negative</td>\n",
       "    </tr>\n",
       "  </tbody>\n",
       "</table>\n",
       "<p>1136 rows × 14 columns</p>\n",
       "</div>"
      ],
      "text/plain": [
       "                      Date               Source  len  \\\n",
       "673    2018-07-02 01:30:00             Facebook  160   \n",
       "1131   2018-07-02 01:25:54         Twitter Lite  102   \n",
       "2259   2018-07-02 01:15:38  Twitter for Android  102   \n",
       "2684   2018-07-02 01:11:47   Twitter for iPhone  102   \n",
       "2925   2018-07-02 01:09:49  Twitter for Android  102   \n",
       "...                    ...                  ...  ...   \n",
       "527462 2018-07-15 22:52:30   Twitter for iPhone  104   \n",
       "527602 2018-07-15 22:52:15   Twitter for iPhone  299   \n",
       "528840 2018-07-15 22:50:11  Twitter for Android  137   \n",
       "529195 2018-07-15 22:49:37   Twitter for iPhone  104   \n",
       "529434 2018-07-15 22:49:12  Twitter for Android  138   \n",
       "\n",
       "                                                                                                                                                                                                                                                                                                         Orig_Tweet  \\\n",
       "673                                                                                                                              World Cup fever has hit @500bourke! Come down for your chance to win BIG... no VAR though ?? \\r\\n.\\r\\n.\\r\\n.\\r\\n.\\r\\n.\\r\\n#promo #melbourne #event #work #worldcup #soccer #sports   \n",
       "1131                                                                                                                                                                                                   RT @JohnOdedeji: Issa VAR street video #WorldCup \\r\\n\\r\\nAfricans Play too much ???? https://t.co/3tOcEYWeVs   \n",
       "2259                                                                                                                                                                                                   RT @JohnOdedeji: Issa VAR street video #WorldCup \\r\\n\\r\\nAfricans Play too much ???? https://t.co/3tOcEYWeVs   \n",
       "2684                                                                                                                                                                                                   RT @JohnOdedeji: Issa VAR street video #WorldCup \\r\\n\\r\\nAfricans Play too much ???? https://t.co/3tOcEYWeVs   \n",
       "2925                                                                                                                                                                                                   RT @JohnOdedeji: Issa VAR street video #WorldCup \\r\\n\\r\\nAfricans Play too much ???? https://t.co/3tOcEYWeVs   \n",
       "...                                                                                                                                                                                                                                                                                                             ...   \n",
       "527462                                                                                                                                                                                                     RT @Carra23: It’s the referee’s mistake not VAR! VAR is just a replay of an incident!! #WorldCup #FRACRO   \n",
       "527602  Jose Mourinho: ‘I think Croatia-France since the beginning was a good final, was a really good final. And I would like to see this second half starting with a 1-1, not with a 2-1. And especially with a 2-1 of a goal that will be forever the final of VAR.’ #FRA #CRO #WorldCup https://t.co/4sSskav9fm   \n",
       "528840                                                                                                                                                                    The VAR must now be used to stamp out the scourge of play acting, its spoiling our great game #FIFA #worldcup @TheWorldGame @Craig_Foster   \n",
       "529195                                                                                                                                                                                                     RT @Carra23: It’s the referee’s mistake not VAR! VAR is just a replay of an incident!! #WorldCup #FRACRO   \n",
       "529434                                                                                                                                     RT @Sporf: ? Ronaldo's Hattrick\\r\\n\\r\\n?? Germany Out In Groups\\r\\n\\r\\n? Late Winners\\r\\n\\r\\n? Worldie Strikes\\r\\n\\r\\n? Penalty Shootout Drama\\r\\n\\r\\n? VAR Controversy…   \n",
       "\n",
       "                                                                                                                                                                                                                              Tweet  \\\n",
       "673                                                                                                                                                      World Cup fever has hit Come down for your chance to win BIG no VAR though   \n",
       "1131                                                                                                                                                                                   Issa VAR street video Africans Play too much   \n",
       "2259                                                                                                                                                                                   Issa VAR street video Africans Play too much   \n",
       "2684                                                                                                                                                                                   Issa VAR street video Africans Play too much   \n",
       "2925                                                                                                                                                                                   Issa VAR street video Africans Play too much   \n",
       "...                                                                                                                                                                                                                             ...   \n",
       "527462                                                                                                                                                             It the referee mistake not VAR VAR is just replay of an incident   \n",
       "527602  Jose Mourinho think Croatia France since the beginning was good final was really good final And would like to see this second half starting with not with And especially with of goal that will be forever the final of VAR   \n",
       "528840                                                                                                                                 The VAR must now be used to stamp out the scourge of play acting its spoiling our great game   \n",
       "529195                                                                                                                                                             It the referee mistake not VAR VAR is just replay of an incident   \n",
       "529434                                                                                                                  Ronaldos Hattrick Germany Out In Groups Late Winners Worldie Strikes Penalty Shootout Drama VAR Controversy   \n",
       "\n",
       "        Likes   RTs                                           Hashtags  \\\n",
       "673         0     0  promo,melbourne,event,work,worldcup,soccer,sports   \n",
       "1131        0  1511                                           WorldCup   \n",
       "2259        0  1511                                           WorldCup   \n",
       "2684        0  1511                                           WorldCup   \n",
       "2925        0  1511                                           WorldCup   \n",
       "...       ...   ...                                                ...   \n",
       "527462      0  2143                                    WorldCup,FRACRO   \n",
       "527602     15     4                                   FRA,CRO,WorldCup   \n",
       "528840      0     0                                      FIFA,worldcup   \n",
       "529195      0  2143                                    WorldCup,FRACRO   \n",
       "529434      0  1138                                               None   \n",
       "\n",
       "                         UserMentionNames           Place  Followers  Friends  \\\n",
       "673                                  None       Australia        117      164   \n",
       "1131                            Omo Akure           Other       1214      575   \n",
       "2259                            Omo Akure           Other        335      441   \n",
       "2684                            Omo Akure           Other        159      114   \n",
       "2925                            Omo Akure           Other         70      117   \n",
       "...                                   ...             ...        ...      ...   \n",
       "527462                    Jamie Carragher           Other          7      257   \n",
       "527602                               None           Other     107253     1620   \n",
       "528840  SBS - The World Game,Craig Foster           Other       1610     1329   \n",
       "529195                    Jamie Carragher           Other        209      491   \n",
       "529434                              SPORF  United Kingdom         55      324   \n",
       "\n",
       "        vadar compound vadar sentiment  \n",
       "673             0.5574        positive  \n",
       "1131            0.3400        positive  \n",
       "2259            0.3400        positive  \n",
       "2684            0.3400        positive  \n",
       "2925            0.3400        positive  \n",
       "...                ...             ...  \n",
       "527462         -0.3400        negative  \n",
       "527602          0.8074        positive  \n",
       "528840          0.7579        positive  \n",
       "529195         -0.3400        negative  \n",
       "529434         -0.3400        negative  \n",
       "\n",
       "[1136 rows x 14 columns]"
      ]
     },
     "execution_count": 107,
     "metadata": {},
     "output_type": "execute_result"
    }
   ],
   "source": [
    "fifa_clean.loc[fifa_clean['Tweet'].str.contains(\"VAR\")==True]"
   ]
  },
  {
   "cell_type": "code",
   "execution_count": 124,
   "id": "21a7e59b",
   "metadata": {},
   "outputs": [
    {
     "data": {
      "text/plain": [
       "positive    0.458627\n",
       "negative    0.319542\n",
       "neutral     0.221831\n",
       "Name: vadar sentiment, dtype: float64"
      ]
     },
     "execution_count": 124,
     "metadata": {},
     "output_type": "execute_result"
    }
   ],
   "source": [
    "fifa_clean['vadar sentiment'][fifa_clean['Tweet'].str.contains(\"VAR\")==True].value_counts(1)"
   ]
  },
  {
   "cell_type": "markdown",
   "id": "32a2f334",
   "metadata": {},
   "source": [
    "Overall positive reviews of VAR"
   ]
  },
  {
   "cell_type": "markdown",
   "id": "a2fb0647",
   "metadata": {},
   "source": [
    "#### Kylian Mbappe"
   ]
  },
  {
   "cell_type": "markdown",
   "id": "5c077107",
   "metadata": {},
   "source": [
    "Kylian Mbappe is one of the best young talents in the world, and will feature in the upcoming 2022 world cup, he won the best young player award in 2018 and may be a good player to mrketfor the upcoming world cup."
   ]
  },
  {
   "cell_type": "code",
   "execution_count": 109,
   "id": "12425119",
   "metadata": {
    "scrolled": true
   },
   "outputs": [
    {
     "data": {
      "text/plain": [
       "positive    1800\n",
       "neutral      436\n",
       "negative      66\n",
       "Name: vadar sentiment, dtype: int64"
      ]
     },
     "execution_count": 109,
     "metadata": {},
     "output_type": "execute_result"
    }
   ],
   "source": [
    "fifa_clean['vadar sentiment'][my_mentions_df['mbappé'] >= 1].value_counts()"
   ]
  },
  {
   "cell_type": "code",
   "execution_count": 125,
   "id": "2236403a",
   "metadata": {
    "scrolled": true
   },
   "outputs": [
    {
     "data": {
      "text/plain": [
       "positive    15169\n",
       "neutral      5986\n",
       "negative     2245\n",
       "Name: vadar sentiment, dtype: int64"
      ]
     },
     "execution_count": 125,
     "metadata": {},
     "output_type": "execute_result"
    }
   ],
   "source": [
    "fifa_clean['vadar sentiment'][my_tweet_df['mbapp'] == 1].value_counts()"
   ]
  },
  {
   "cell_type": "code",
   "execution_count": null,
   "id": "d67a6089",
   "metadata": {},
   "outputs": [],
   "source": []
  },
  {
   "cell_type": "markdown",
   "id": "c7907158",
   "metadata": {},
   "source": [
    "Overwhelmingly positive sentiment surrounding tweets he is mentioned in"
   ]
  },
  {
   "cell_type": "markdown",
   "id": "c3963243",
   "metadata": {},
   "source": [
    "#### Sentiment by region"
   ]
  },
  {
   "cell_type": "markdown",
   "id": "f0f75a3a",
   "metadata": {},
   "source": [
    "Looking at how the distribution of how the top 10 countries/regions viewed the world cup"
   ]
  },
  {
   "cell_type": "markdown",
   "id": "64b64b78",
   "metadata": {},
   "source": [
    "Creating pivot chart to look at each country region"
   ]
  },
  {
   "cell_type": "code",
   "execution_count": 110,
   "id": "7a75cb52",
   "metadata": {},
   "outputs": [],
   "source": [
    "#sentiment for place column in pivot\n",
    "place_sentiment = fifa_clean.pivot_table(index=['Place'], columns='vadar sentiment', aggfunc='size', fill_value=0)"
   ]
  },
  {
   "cell_type": "code",
   "execution_count": 111,
   "id": "08f67830",
   "metadata": {},
   "outputs": [
    {
     "data": {
      "text/plain": [
       "Index([' ', 'Africa', 'Argentina', 'Australia', 'Bahrain', 'Bangladesh',\n",
       "       'Barbados', 'Belgium', 'Botswana', 'Brasil', 'Canada', 'Chile', 'China',\n",
       "       'Colombia', 'Costa Rica', 'Croatia', 'Côte d'Ivoire', 'Ecuador',\n",
       "       'Egypt', 'France', 'Germany', 'Ghana', 'Guatemala', 'Honduras',\n",
       "       'Hong Kong', 'India', 'Indonesia', 'Iran', 'Jamaica', 'Japan', 'Kenya',\n",
       "       'Korea', 'Kuwait', 'Lebanon', 'Malaysia', 'Maldives', 'Mexico',\n",
       "       'Myanmar', 'Nepal', 'New Zealand', 'Nigeria', 'Other', 'Pakistan',\n",
       "       'Panamá', 'Paraguay', 'Peru', 'Philippines', 'Poland', 'Portugal',\n",
       "       'Puerto Rico', 'Qatar', 'Russia', 'Rwanda', 'Saudi Arabia', 'Singapore',\n",
       "       'Spain', 'Sri lanka', 'Sweden', 'Tanzania', 'Thailand',\n",
       "       'The Netherlands', 'Trinidad and Tobago', 'Turkey', 'UAE', 'USA',\n",
       "       'Uganda', 'United Kingdom', 'Uruguay', 'Venezuela', 'Zimbabwe'],\n",
       "      dtype='object', name='Place')"
      ]
     },
     "execution_count": 111,
     "metadata": {},
     "output_type": "execute_result"
    }
   ],
   "source": [
    "place_sentiment.index"
   ]
  },
  {
   "cell_type": "code",
   "execution_count": 112,
   "id": "75a13662",
   "metadata": {
    "scrolled": true
   },
   "outputs": [
    {
     "data": {
      "text/html": [
       "<div>\n",
       "<style scoped>\n",
       "    .dataframe tbody tr th:only-of-type {\n",
       "        vertical-align: middle;\n",
       "    }\n",
       "\n",
       "    .dataframe tbody tr th {\n",
       "        vertical-align: top;\n",
       "    }\n",
       "\n",
       "    .dataframe thead th {\n",
       "        text-align: right;\n",
       "    }\n",
       "</style>\n",
       "<table border=\"1\" class=\"dataframe\">\n",
       "  <thead>\n",
       "    <tr style=\"text-align: right;\">\n",
       "      <th>vadar sentiment</th>\n",
       "      <th>negative</th>\n",
       "      <th>neutral</th>\n",
       "      <th>positive</th>\n",
       "    </tr>\n",
       "    <tr>\n",
       "      <th>Place</th>\n",
       "      <th></th>\n",
       "      <th></th>\n",
       "      <th></th>\n",
       "    </tr>\n",
       "  </thead>\n",
       "  <tbody>\n",
       "    <tr>\n",
       "      <th>Africa</th>\n",
       "      <td>1869</td>\n",
       "      <td>4924</td>\n",
       "      <td>7365</td>\n",
       "    </tr>\n",
       "    <tr>\n",
       "      <th>Australia</th>\n",
       "      <td>445</td>\n",
       "      <td>691</td>\n",
       "      <td>1177</td>\n",
       "    </tr>\n",
       "    <tr>\n",
       "      <th>Belgium</th>\n",
       "      <td>120</td>\n",
       "      <td>471</td>\n",
       "      <td>1077</td>\n",
       "    </tr>\n",
       "    <tr>\n",
       "      <th>Brasil</th>\n",
       "      <td>412</td>\n",
       "      <td>1325</td>\n",
       "      <td>1958</td>\n",
       "    </tr>\n",
       "    <tr>\n",
       "      <th>Canada</th>\n",
       "      <td>885</td>\n",
       "      <td>1716</td>\n",
       "      <td>3065</td>\n",
       "    </tr>\n",
       "    <tr>\n",
       "      <th>Colombia</th>\n",
       "      <td>189</td>\n",
       "      <td>645</td>\n",
       "      <td>1016</td>\n",
       "    </tr>\n",
       "    <tr>\n",
       "      <th>France</th>\n",
       "      <td>416</td>\n",
       "      <td>2482</td>\n",
       "      <td>3052</td>\n",
       "    </tr>\n",
       "    <tr>\n",
       "      <th>Ghana</th>\n",
       "      <td>638</td>\n",
       "      <td>1780</td>\n",
       "      <td>2607</td>\n",
       "    </tr>\n",
       "    <tr>\n",
       "      <th>India</th>\n",
       "      <td>1945</td>\n",
       "      <td>4428</td>\n",
       "      <td>8822</td>\n",
       "    </tr>\n",
       "    <tr>\n",
       "      <th>Indonesia</th>\n",
       "      <td>784</td>\n",
       "      <td>2451</td>\n",
       "      <td>5141</td>\n",
       "    </tr>\n",
       "    <tr>\n",
       "      <th>Kenya</th>\n",
       "      <td>256</td>\n",
       "      <td>745</td>\n",
       "      <td>1086</td>\n",
       "    </tr>\n",
       "    <tr>\n",
       "      <th>Malaysia</th>\n",
       "      <td>687</td>\n",
       "      <td>1867</td>\n",
       "      <td>3635</td>\n",
       "    </tr>\n",
       "    <tr>\n",
       "      <th>Mexico</th>\n",
       "      <td>295</td>\n",
       "      <td>849</td>\n",
       "      <td>1758</td>\n",
       "    </tr>\n",
       "    <tr>\n",
       "      <th>Nigeria</th>\n",
       "      <td>3183</td>\n",
       "      <td>8495</td>\n",
       "      <td>12524</td>\n",
       "    </tr>\n",
       "    <tr>\n",
       "      <th>Pakistan</th>\n",
       "      <td>493</td>\n",
       "      <td>1153</td>\n",
       "      <td>1939</td>\n",
       "    </tr>\n",
       "    <tr>\n",
       "      <th>Spain</th>\n",
       "      <td>287</td>\n",
       "      <td>688</td>\n",
       "      <td>1274</td>\n",
       "    </tr>\n",
       "    <tr>\n",
       "      <th>Thailand</th>\n",
       "      <td>175</td>\n",
       "      <td>626</td>\n",
       "      <td>1174</td>\n",
       "    </tr>\n",
       "    <tr>\n",
       "      <th>USA</th>\n",
       "      <td>7554</td>\n",
       "      <td>17002</td>\n",
       "      <td>27554</td>\n",
       "    </tr>\n",
       "    <tr>\n",
       "      <th>United Kingdom</th>\n",
       "      <td>8341</td>\n",
       "      <td>15345</td>\n",
       "      <td>27267</td>\n",
       "    </tr>\n",
       "  </tbody>\n",
       "</table>\n",
       "</div>"
      ],
      "text/plain": [
       "vadar sentiment  negative  neutral  positive\n",
       "Place                                       \n",
       "Africa               1869     4924      7365\n",
       "Australia             445      691      1177\n",
       "Belgium               120      471      1077\n",
       "Brasil                412     1325      1958\n",
       "Canada                885     1716      3065\n",
       "Colombia              189      645      1016\n",
       "France                416     2482      3052\n",
       "Ghana                 638     1780      2607\n",
       "India                1945     4428      8822\n",
       "Indonesia             784     2451      5141\n",
       "Kenya                 256      745      1086\n",
       "Malaysia              687     1867      3635\n",
       "Mexico                295      849      1758\n",
       "Nigeria              3183     8495     12524\n",
       "Pakistan              493     1153      1939\n",
       "Spain                 287      688      1274\n",
       "Thailand              175      626      1174\n",
       "USA                  7554    17002     27554\n",
       "United Kingdom       8341    15345     27267"
      ]
     },
     "execution_count": 112,
     "metadata": {},
     "output_type": "execute_result"
    }
   ],
   "source": [
    "#filtering out the 'other' value and values that dont have more than 1000 positive tweets, in order to focus on the major markets\n",
    "place_sentiment.loc[(place_sentiment['positive'] > 1000) & (place_sentiment.index != 'Other')]"
   ]
  },
  {
   "cell_type": "markdown",
   "id": "df0fc50a",
   "metadata": {},
   "source": [
    "Plotting a graphical representation of sentiment for the regions."
   ]
  },
  {
   "cell_type": "code",
   "execution_count": 123,
   "id": "b0d0201b",
   "metadata": {},
   "outputs": [
    {
     "data": {
      "image/png": "[encoded data removed]",
      "text/plain": [
       "<Figure size 1440x864 with 1 Axes>"
      ]
     },
     "metadata": {
      "needs_background": "light"
     },
     "output_type": "display_data"
    }
   ],
   "source": [
    "# Plot a bar chart using the DF\n",
    "ax = place_sentiment.loc[(place_sentiment['positive'] > 1000) & (place_sentiment.index != 'Other')].plot(kind=\"bar\")\n",
    "# Get a Matplotlib figure from the axes object for formatting purposes\n",
    "fig = ax.get_figure()\n",
    "# Change the plot dimensions (width, height)\n",
    "fig.set_size_inches(20, 12)\n",
    "# Change the axes labels\n",
    "ax.set_xlabel(\"Country\")\n",
    "ax.set_ylabel(\"Sum of Tweets\")\n",
    "ax.set_title('Sentiment in Popular Countries')\n",
    "# Use this to show the plot in a new window\n",
    "plt.show()\n",
    "# Export the plot as a PNG file\n",
    "#fig.savefig(\"Sentiment by Country.png\")"
   ]
  },
  {
   "cell_type": "markdown",
   "id": "61c29806",
   "metadata": {},
   "source": [
    "#### Looking at the final 4 teams and sentiment around them when using their hashtag"
   ]
  },
  {
   "cell_type": "markdown",
   "id": "372a0e6b",
   "metadata": {},
   "source": [
    "England, Croatia, France and Belgium were the last four teams in the tournament, I will take a look at what the general sentiment around these teams were and how they compare. "
   ]
  },
  {
   "cell_type": "code",
   "execution_count": 114,
   "id": "7ad722a4",
   "metadata": {},
   "outputs": [],
   "source": [
    "team_list = ['england','croatia','france','belgium']"
   ]
  },
  {
   "cell_type": "code",
   "execution_count": 115,
   "id": "b08c4513",
   "metadata": {},
   "outputs": [
    {
     "data": {
      "image/png": "[encoded data removed]",
      "text/plain": [
       "<Figure size 432x288 with 1 Axes>"
      ]
     },
     "metadata": {
      "needs_background": "light"
     },
     "output_type": "display_data"
    },
    {
     "data": {
      "image/png": "[encoded data removed]",
      "text/plain": [
       "<Figure size 432x288 with 1 Axes>"
      ]
     },
     "metadata": {
      "needs_background": "light"
     },
     "output_type": "display_data"
    },
    {
     "data": {
      "image/png": "[encoded data removed]",
      "text/plain": [
       "<Figure size 432x288 with 1 Axes>"
      ]
     },
     "metadata": {
      "needs_background": "light"
     },
     "output_type": "display_data"
    },
    {
     "data": {
      "image/png": "[encoded data removed]",
      "text/plain": [
       "<Figure size 432x288 with 1 Axes>"
      ]
     },
     "metadata": {
      "needs_background": "light"
     },
     "output_type": "display_data"
    }
   ],
   "source": [
    "for i in range(len(team_list)):\n",
    "    plt.figure()\n",
    "    fifa_clean['vadar sentiment'][my_hashtag_df[team_list[i]] >= 1].value_counts().plot(kind='barh')\n",
    "    plt.title(team_list[i])\n",
    "    plt.xlabel('Tweet Count')\n",
    "    plt.ylabel('Sentiment')\n",
    "    plt.show()"
   ]
  },
  {
   "cell_type": "markdown",
   "id": "2d6ae9ec",
   "metadata": {},
   "source": [
    "The distributions show that tweets about england have the worst ratio of positive and negative sentiments. This would make sense as most tweeters are from england and they lsot in the semi finals."
   ]
  },
  {
   "cell_type": "markdown",
   "id": "bd34d20c",
   "metadata": {},
   "source": [
    "#### Ronaldo vs Messi"
   ]
  },
  {
   "cell_type": "markdown",
   "id": "6ce11907",
   "metadata": {},
   "source": [
    "This is an age old debate on how is better, lets see what the analysis of the sentiment on these two players are by looking at tweets they are mentioned in."
   ]
  },
  {
   "cell_type": "code",
   "execution_count": 116,
   "id": "fd377884",
   "metadata": {},
   "outputs": [],
   "source": [
    "player_list = ['messi','ronaldo']"
   ]
  },
  {
   "cell_type": "code",
   "execution_count": 117,
   "id": "40531b46",
   "metadata": {},
   "outputs": [
    {
     "data": {
      "image/png": "[encoded data removed]",
      "text/plain": [
       "<Figure size 432x288 with 1 Axes>"
      ]
     },
     "metadata": {
      "needs_background": "light"
     },
     "output_type": "display_data"
    },
    {
     "data": {
      "image/png": "[encoded data removed]",
      "text/plain": [
       "<Figure size 432x288 with 1 Axes>"
      ]
     },
     "metadata": {
      "needs_background": "light"
     },
     "output_type": "display_data"
    }
   ],
   "source": [
    "for i in range(len(player_list)):\n",
    "    plt.figure()\n",
    "    fifa_clean['vadar sentiment'][my_hashtag_df[player_list[i]] >= 1].value_counts().plot(kind='barh').plot(kind='barh')\n",
    "    plt.title(player_list[i])\n",
    "    plt.xlabel('Tweet Count')\n",
    "    plt.ylabel('Sentiment')\n",
    "    plt.show()"
   ]
  },
  {
   "cell_type": "markdown",
   "id": "d26972b9",
   "metadata": {},
   "source": [
    "Similiar trends seen, but messi was talked about more."
   ]
  },
  {
   "cell_type": "markdown",
   "id": "9d89d302",
   "metadata": {},
   "source": [
    "Conclusion: \n",
    "There is a wealth of information available in these tweets that Fifa can use to help promote the upcoming world cup, I will be diving deeper into what some of these trends mean in my written report and how they can be leveraged to better the fan experience of the upcoming world cup. Additionally i will be further looking into some key insights that can be taken from the data using tableau in order to create a dashboard for Fifa to use."
   ]
  },
  {
   "cell_type": "code",
   "execution_count": 118,
   "id": "7e76a784",
   "metadata": {},
   "outputs": [],
   "source": [
    "#exporting cleaned csv\n",
    "#fifa_clean.to_csv('fifa_clean.csv')"
   ]
  },
  {
   "cell_type": "code",
   "execution_count": null,
   "id": "bc20733f",
   "metadata": {},
   "outputs": [],
   "source": []
  }
 ],
 "metadata": {
  "kernelspec": {
   "display_name": "Python 3 (ipykernel)",
   "language": "python",
   "name": "python3"
  },
  "language_info": {
   "codemirror_mode": {
    "name": "ipython",
    "version": 3
   },
   "file_extension": ".py",
   "mimetype": "text/x-python",
   "name": "python",
   "nbconvert_exporter": "python",
   "pygments_lexer": "ipython3",
   "version": "3.9.12"
  }
 },
 "nbformat": 4,
 "nbformat_minor": 5
}
